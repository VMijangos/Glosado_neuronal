{
 "cells": [
  {
   "cell_type": "markdown",
   "metadata": {},
   "source": [
    "# biLSTM: Automatic glossing, otomi (corpus completo)"
   ]
  },
  {
   "cell_type": "code",
   "execution_count": 1,
   "metadata": {},
   "outputs": [],
   "source": [
    "from reccurrent_model import biLSTM\n",
    "from sklearn.model_selection import train_test_split\n",
    "from sklearn.metrics import accuracy_score, precision_recall_fscore_support\n",
    "from pickle import load\n",
    "from itertools import chain\n",
    "import pandas as pd\n",
    "import numpy as np\n",
    "import torch"
   ]
  },
  {
   "cell_type": "markdown",
   "metadata": {},
   "source": [
    "Sólo toma información de caracter y etiqueta. Elimina POS tags."
   ]
  },
  {
   "cell_type": "code",
   "execution_count": 2,
   "metadata": {},
   "outputs": [
    {
     "name": "stdout",
     "output_type": "stream",
     "text": [
      "[[[\"'\", 'v', 'B-como'], ['á', 'v', 'I-como'], ['b', 'v', 'B-3.cpl'], ['i', 'v', 'I-3.cpl'], ['m', 'v', 'B-ctrf'], ['á', 'v', 'I-ctrf'], ['k', 'v', 'B-stem'], ['h', 'v', 'I-stem'], ['á', 'v', 'I-stem']]] 1769\n"
     ]
    }
   ],
   "source": [
    "file1 = load(open('pickle_objects/preinput_data','rb'))\n",
    "print(file1[0], len(file1))"
   ]
  },
  {
   "cell_type": "code",
   "execution_count": 3,
   "metadata": {},
   "outputs": [],
   "source": [
    "def get_data(file):\n",
    "    data = []\n",
    "\n",
    "    for s in file:\n",
    "        sent_data = []\n",
    "        for w in s:\n",
    "            word = [(x[0], x[2]) for x in w] + [(' ', ' ')]\n",
    "            sent_data.append(word)\n",
    "\n",
    "        one_sent = list(chain(*sent_data))\n",
    "        one_sent.pop(-1)\n",
    "        data.append(list(zip(*one_sent)))\n",
    "\n",
    "    return data"
   ]
  },
  {
   "cell_type": "markdown",
   "metadata": {},
   "source": [
    "### Training and test data"
   ]
  },
  {
   "cell_type": "code",
   "execution_count": 4,
   "metadata": {},
   "outputs": [
    {
     "name": "stdout",
     "output_type": "stream",
     "text": [
      "1592 177\n"
     ]
    }
   ],
   "source": [
    "#Data split 33%\n",
    "train_pairs, eval_pairs = train_test_split(get_data(file1), test_size=0.1) #33)\n",
    "print(len(train_pairs), len(eval_pairs))\n",
    "\n",
    "#Separar el train en dos conjuntos\n",
    "train_sents, train_tags = zip(*train_pairs)\n",
    "\n",
    "#print(train_sents)\n",
    "#print(train_tags)"
   ]
  },
  {
   "cell_type": "markdown",
   "metadata": {},
   "source": [
    "### Training the model"
   ]
  },
  {
   "cell_type": "code",
   "execution_count": 5,
   "metadata": {},
   "outputs": [],
   "source": [
    "model = biLSTM(train_sents, train_tags)"
   ]
  },
  {
   "cell_type": "code",
   "execution_count": 6,
   "metadata": {},
   "outputs": [
    {
     "name": "stderr",
     "output_type": "stream",
     "text": [
      "100%|██████████| 150/150 [1:23:09<00:00, 33.27s/it]"
     ]
    },
    {
     "name": "stdout",
     "output_type": "stream",
     "text": [
      "CPU times: user 14h 24min 29s, sys: 2min 9s, total: 14h 26min 38s\n",
      "Wall time: 1h 23min 9s\n"
     ]
    },
    {
     "name": "stderr",
     "output_type": "stream",
     "text": [
      "\n"
     ]
    }
   ],
   "source": [
    "%%time\n",
    "model.train_model(its=150)"
   ]
  },
  {
   "cell_type": "markdown",
   "metadata": {},
   "source": [
    "### Evaluation"
   ]
  },
  {
   "cell_type": "code",
   "execution_count": 7,
   "metadata": {},
   "outputs": [],
   "source": [
    "y_pred = []\n",
    "y_true = []\n",
    "for sent in eval_pairs:\n",
    "    prediccion = model.forward(sent[0])\n",
    "    y_pred.append(prediccion)\n",
    "    y_true.append(sent[1])"
   ]
  },
  {
   "cell_type": "code",
   "execution_count": 8,
   "metadata": {},
   "outputs": [],
   "source": [
    "y_true = list(chain(*y_true))\n",
    "y_pred = list(chain(*y_pred))"
   ]
  },
  {
   "cell_type": "code",
   "execution_count": 9,
   "metadata": {},
   "outputs": [
    {
     "name": "stdout",
     "output_type": "stream",
     "text": [
      "Accuracy: 0.5604813172894236\n"
     ]
    }
   ],
   "source": [
    "labels = list(set(y_true))\n",
    "labels.remove(' ')\n",
    "\n",
    "print('Accuracy:', accuracy_score(y_true, y_pred))"
   ]
  },
  {
   "cell_type": "code",
   "execution_count": 10,
   "metadata": {},
   "outputs": [
    {
     "name": "stderr",
     "output_type": "stream",
     "text": [
      "/home/mijangos/.local/lib/python3.8/site-packages/sklearn/metrics/_classification.py:1221: UndefinedMetricWarning: Precision and F-score are ill-defined and being set to 0.0 in labels with no predicted samples. Use `zero_division` parameter to control this behavior.\n",
      "  _warn_prf(average, modifier, msg_start, len(result))\n"
     ]
    }
   ],
   "source": [
    "\n",
    "prec, rec, f1, supp = precision_recall_fscore_support(y_true, y_pred, labels=labels)"
   ]
  },
  {
   "cell_type": "code",
   "execution_count": 11,
   "metadata": {},
   "outputs": [
    {
     "data": {
      "text/html": [
       "<div>\n",
       "<style scoped>\n",
       "    .dataframe tbody tr th:only-of-type {\n",
       "        vertical-align: middle;\n",
       "    }\n",
       "\n",
       "    .dataframe tbody tr th {\n",
       "        vertical-align: top;\n",
       "    }\n",
       "\n",
       "    .dataframe thead th {\n",
       "        text-align: right;\n",
       "    }\n",
       "</style>\n",
       "<table border=\"1\" class=\"dataframe\">\n",
       "  <thead>\n",
       "    <tr style=\"text-align: right;\">\n",
       "      <th></th>\n",
       "      <th>Precision</th>\n",
       "      <th>Recall</th>\n",
       "      <th>F1</th>\n",
       "      <th>Support</th>\n",
       "    </tr>\n",
       "  </thead>\n",
       "  <tbody>\n",
       "    <tr>\n",
       "      <th>I-1.pot</th>\n",
       "      <td>0.0</td>\n",
       "      <td>0.0</td>\n",
       "      <td>0.0</td>\n",
       "      <td>24.0</td>\n",
       "    </tr>\n",
       "    <tr>\n",
       "      <th>B-ctrf</th>\n",
       "      <td>0.0</td>\n",
       "      <td>0.0</td>\n",
       "      <td>0.0</td>\n",
       "      <td>27.0</td>\n",
       "    </tr>\n",
       "    <tr>\n",
       "      <th>B-1.enf</th>\n",
       "      <td>0.0</td>\n",
       "      <td>0.0</td>\n",
       "      <td>0.0</td>\n",
       "      <td>4.0</td>\n",
       "    </tr>\n",
       "    <tr>\n",
       "      <th>I-dual.exc</th>\n",
       "      <td>0.0</td>\n",
       "      <td>0.0</td>\n",
       "      <td>0.0</td>\n",
       "      <td>3.0</td>\n",
       "    </tr>\n",
       "    <tr>\n",
       "      <th>B-2</th>\n",
       "      <td>0.0</td>\n",
       "      <td>0.0</td>\n",
       "      <td>0.0</td>\n",
       "      <td>3.0</td>\n",
       "    </tr>\n",
       "    <tr>\n",
       "      <th>...</th>\n",
       "      <td>...</td>\n",
       "      <td>...</td>\n",
       "      <td>...</td>\n",
       "      <td>...</td>\n",
       "    </tr>\n",
       "    <tr>\n",
       "      <th>B-rapido</th>\n",
       "      <td>0.0</td>\n",
       "      <td>0.0</td>\n",
       "      <td>0.0</td>\n",
       "      <td>1.0</td>\n",
       "    </tr>\n",
       "    <tr>\n",
       "      <th>B-p.loc</th>\n",
       "      <td>0.0</td>\n",
       "      <td>0.0</td>\n",
       "      <td>0.0</td>\n",
       "      <td>1.0</td>\n",
       "    </tr>\n",
       "    <tr>\n",
       "      <th>B-prt</th>\n",
       "      <td>0.0</td>\n",
       "      <td>0.0</td>\n",
       "      <td>0.0</td>\n",
       "      <td>5.0</td>\n",
       "    </tr>\n",
       "    <tr>\n",
       "      <th>I-3.cpl</th>\n",
       "      <td>0.0</td>\n",
       "      <td>0.0</td>\n",
       "      <td>0.0</td>\n",
       "      <td>51.0</td>\n",
       "    </tr>\n",
       "    <tr>\n",
       "      <th>B-pl.exc</th>\n",
       "      <td>0.0</td>\n",
       "      <td>0.0</td>\n",
       "      <td>0.0</td>\n",
       "      <td>14.0</td>\n",
       "    </tr>\n",
       "  </tbody>\n",
       "</table>\n",
       "<p>110 rows × 4 columns</p>\n",
       "</div>"
      ],
      "text/plain": [
       "            Precision  Recall   F1  Support\n",
       "I-1.pot           0.0     0.0  0.0     24.0\n",
       "B-ctrf            0.0     0.0  0.0     27.0\n",
       "B-1.enf           0.0     0.0  0.0      4.0\n",
       "I-dual.exc        0.0     0.0  0.0      3.0\n",
       "B-2               0.0     0.0  0.0      3.0\n",
       "...               ...     ...  ...      ...\n",
       "B-rapido          0.0     0.0  0.0      1.0\n",
       "B-p.loc           0.0     0.0  0.0      1.0\n",
       "B-prt             0.0     0.0  0.0      5.0\n",
       "I-3.cpl           0.0     0.0  0.0     51.0\n",
       "B-pl.exc          0.0     0.0  0.0     14.0\n",
       "\n",
       "[110 rows x 4 columns]"
      ]
     },
     "execution_count": 11,
     "metadata": {},
     "output_type": "execute_result"
    }
   ],
   "source": [
    "results = pd.DataFrame(data=np.array([prec, rec, f1, supp]).T, index=labels, columns=['Precision','Recall','F1', 'Support'])\n",
    "results"
   ]
  },
  {
   "cell_type": "code",
   "execution_count": 12,
   "metadata": {},
   "outputs": [
    {
     "name": "stdout",
     "output_type": "stream",
     "text": [
      "                  Precision    Recall        F1  Support\n",
      "I-1.pot            0.000000  0.000000  0.000000     24.0\n",
      "B-ctrf             0.000000  0.000000  0.000000     27.0\n",
      "B-1.enf            0.000000  0.000000  0.000000      4.0\n",
      "I-dual.exc         0.000000  0.000000  0.000000      3.0\n",
      "B-2                0.000000  0.000000  0.000000      3.0\n",
      "B-3.pls            0.000000  0.000000  0.000000      1.0\n",
      "I-2                0.000000  0.000000  0.000000      3.0\n",
      "I-p.loc            0.000000  0.000000  0.000000      1.0\n",
      "I-muy              0.000000  0.000000  0.000000      8.0\n",
      "B-3.obj            0.000000  0.000000  0.000000      5.0\n",
      "I-prt              0.000000  0.000000  0.000000      4.0\n",
      "I-dem              0.000000  0.000000  0.000000     31.0\n",
      "B-pl               0.000000  0.000000  0.000000     14.0\n",
      "I-prag             0.000000  0.000000  0.000000     34.0\n",
      "I-3.pot            0.000000  0.000000  0.000000     15.0\n",
      "I-2.icp            0.000000  0.000000  0.000000      6.0\n",
      "I-rapido           0.000000  0.000000  0.000000      1.0\n",
      "I-det              0.000000  0.000000  0.000000     68.0\n",
      "I-ila              0.000000  0.000000  0.000000     34.0\n",
      "I-1.icp.irr        0.000000  0.000000  0.000000      4.0\n",
      "B-pues             0.000000  0.000000  0.000000      3.0\n",
      "I-que              0.000000  0.000000  0.000000      1.0\n",
      "I-dual             0.000000  0.000000  0.000000      1.0\n",
      "I-3.prf            0.000000  0.000000  0.000000      3.0\n",
      "I-3.icp.irr        0.000000  0.000000  0.000000      4.0\n",
      "B-1.cnt            0.000000  0.000000  0.000000      9.0\n",
      "B-1.icp.irr        0.000000  0.000000  0.000000      2.0\n",
      "I-1.icp            0.000000  0.000000  0.000000     32.0\n",
      "B-3.cpl            0.000000  0.000000  0.000000     51.0\n",
      "I-2.pot            0.000000  0.000000  0.000000      1.0\n",
      "I-mod              0.000000  0.000000  0.000000     14.0\n",
      "B-loc              0.000000  0.000000  0.000000      8.0\n",
      "B-1.pot            0.000000  0.000000  0.000000     24.0\n",
      "I-1.sg             0.000000  0.000000  0.000000      3.0\n",
      "B-dim              0.000000  0.000000  0.000000     10.0\n",
      "B-1.prf            0.000000  0.000000  0.000000     12.0\n",
      "I-3.sg             0.000000  0.000000  0.000000      3.0\n",
      "I-3.obj            0.000000  0.000000  0.000000      5.0\n",
      "B-muy              0.000000  0.000000  0.000000      4.0\n",
      "B-y                0.000000  0.000000  0.000000      3.0\n",
      "I-3.icp            0.000000  0.000000  0.000000      2.0\n",
      "B-ila              0.000000  0.000000  0.000000     17.0\n",
      "B-3.sg             0.000000  0.000000  0.000000      1.0\n",
      "B-3.irr            0.000000  0.000000  0.000000      1.0\n",
      "I-toluca           0.000000  0.000000  0.000000     12.0\n",
      "B-1.pss            0.000000  0.000000  0.000000     18.0\n",
      "I-1.obj            0.000000  0.000000  0.000000      8.0\n",
      "I-lim              0.000000  0.000000  0.000000     85.0\n",
      "I-mucho            0.000000  0.000000  0.000000      2.0\n",
      "I-1.pss            0.000000  0.000000  0.000000     18.0\n",
      "I-stem             0.683691  0.991318  0.809256   1958.0\n",
      "I-animal.de.dios   0.000000  0.000000  0.000000      4.0\n",
      "B-2.cnt            0.000000  0.000000  0.000000      2.0\n",
      "B-que              0.000000  0.000000  0.000000      1.0\n",
      "I-int              0.000000  0.000000  0.000000      2.0\n",
      "B-1.cpl            0.000000  0.000000  0.000000     18.0\n",
      "B-3.cnt            0.000000  0.000000  0.000000     11.0\n",
      "B-2.pot            0.000000  0.000000  0.000000      1.0\n",
      "B-2.obj            0.000000  0.000000  0.000000      3.0\n",
      "I-it               0.000000  0.000000  0.000000      2.0\n",
      "B-3.pss            0.000000  0.000000  0.000000      3.0\n",
      "I-3.pls            0.000000  0.000000  0.000000      1.0\n",
      "I-pl.exc           0.000000  0.000000  0.000000     14.0\n",
      "B-toluca           0.000000  0.000000  0.000000      2.0\n",
      "I-1.enf            0.000000  0.000000  0.000000      4.0\n",
      "B-med              0.000000  0.000000  0.000000      2.0\n",
      "B-lig              0.000000  0.000000  0.000000     45.0\n",
      "B-3.icp            0.000000  0.000000  0.000000     37.0\n",
      "B-3.pot            0.000000  0.000000  0.000000     15.0\n",
      "B-lim              0.000000  0.000000  0.000000     43.0\n",
      "I-ctrf             0.000000  0.000000  0.000000     27.0\n",
      "I-2.cnt            0.000000  0.000000  0.000000      4.0\n",
      "B-animal.de.dios   0.000000  0.000000  0.000000      1.0\n",
      "I-1.cnt            0.000000  0.000000  0.000000     18.0\n",
      "I-1.prf            0.000000  0.000000  0.000000     12.0\n",
      "B-2.icp            0.000000  0.000000  0.000000      6.0\n",
      "I-3.cnt            0.000000  0.000000  0.000000     11.0\n",
      "B-stem             0.376185  0.966171  0.541524    739.0\n",
      "B-det.pl           0.000000  0.000000  0.000000     26.0\n",
      "I-det.pl           0.000000  0.000000  0.000000     30.0\n",
      "I-2.obj            0.000000  0.000000  0.000000      5.0\n",
      "I-dim              0.000000  0.000000  0.000000     20.0\n",
      "B-1.obj            0.000000  0.000000  0.000000      8.0\n",
      "B-dual             0.000000  0.000000  0.000000      1.0\n",
      "I-3.pss            0.000000  0.000000  0.000000      3.0\n",
      "B-1.icp            0.000000  0.000000  0.000000     32.0\n",
      "I-3.irr            0.000000  0.000000  0.000000      1.0\n",
      "I-pues             0.000000  0.000000  0.000000      3.0\n",
      "B-dual.exc         0.000000  0.000000  0.000000      3.0\n",
      "B-1.sg             0.000000  0.000000  0.000000      1.0\n",
      "I-2.pss            0.000000  0.000000  0.000000      1.0\n",
      "B-mucho            0.000000  0.000000  0.000000      1.0\n",
      "B-mod              0.000000  0.000000  0.000000      7.0\n",
      "I-1.cpl            0.000000  0.000000  0.000000     18.0\n",
      "I-loc              0.000000  0.000000  0.000000     15.0\n",
      "B-3.icp.irr        0.000000  0.000000  0.000000      4.0\n",
      "B-det              0.000000  0.000000  0.000000     68.0\n",
      "B-dem              0.000000  0.000000  0.000000     21.0\n",
      "B-it               0.000000  0.000000  0.000000      2.0\n",
      "B-prag             0.000000  0.000000  0.000000     34.0\n",
      "B-2.pss            0.000000  0.000000  0.000000      1.0\n",
      "B-3.prf            0.000000  0.000000  0.000000      3.0\n",
      "I-pl               0.000000  0.000000  0.000000     14.0\n",
      "B-psd              0.000000  0.000000  0.000000     44.0\n",
      "B-int              0.000000  0.000000  0.000000      2.0\n",
      "B-rapido           0.000000  0.000000  0.000000      1.0\n",
      "B-p.loc            0.000000  0.000000  0.000000      1.0\n",
      "B-prt              0.000000  0.000000  0.000000      5.0\n",
      "I-3.cpl            0.000000  0.000000  0.000000     51.0\n",
      "B-pl.exc           0.000000  0.000000  0.000000     14.0\n"
     ]
    }
   ],
   "source": [
    "print(results.to_string())"
   ]
  },
  {
   "cell_type": "code",
   "execution_count": 13,
   "metadata": {},
   "outputs": [
    {
     "name": "stdout",
     "output_type": "stream",
     "text": [
      "Average precision: 0.39692337209177264\n",
      "Average recall: 0.6518536705131353\n",
      "Average F1: 0.48728441012052087\n"
     ]
    }
   ],
   "source": [
    "aver_prec = (supp*prec).sum()/supp.sum()\n",
    "aver_rec = (supp*rec).sum()/supp.sum()\n",
    "aver_f1 = (supp*f1).sum()/supp.sum()\n",
    "\n",
    "print('Average precision: {}\\nAverage recall: {}\\nAverage F1: {}'.format(aver_prec, aver_rec, aver_f1))"
   ]
  },
  {
   "cell_type": "code",
   "execution_count": 14,
   "metadata": {},
   "outputs": [],
   "source": [
    "#torch.save(model,'Model.biLSTM.justChar')"
   ]
  },
  {
   "cell_type": "markdown",
   "metadata": {},
   "source": [
    "#### Save embeddings"
   ]
  },
  {
   "cell_type": "code",
   "execution_count": 15,
   "metadata": {},
   "outputs": [],
   "source": [
    "embs = {}\n",
    "for w,v in model.input_voc.items():\n",
    "    if w != ' ':\n",
    "        vec = model.emb[0](torch.tensor([v])).detach().numpy()[0]\n",
    "        embs[w] = vec        "
   ]
  },
  {
   "cell_type": "code",
   "execution_count": 16,
   "metadata": {},
   "outputs": [],
   "source": [
    "from pickle import dump\n",
    "\n",
    "dump( embs, open( \"Embs.biLSTM.justChar.p\", \"wb\" ) )"
   ]
  },
  {
   "cell_type": "code",
   "execution_count": null,
   "metadata": {},
   "outputs": [],
   "source": []
  }
 ],
 "metadata": {
  "kernelspec": {
   "display_name": "Python 3",
   "language": "python",
   "name": "python3"
  },
  "language_info": {
   "codemirror_mode": {
    "name": "ipython",
    "version": 3
   },
   "file_extension": ".py",
   "mimetype": "text/x-python",
   "name": "python",
   "nbconvert_exporter": "python",
   "pygments_lexer": "ipython3",
   "version": "3.8.5"
  }
 },
 "nbformat": 4,
 "nbformat_minor": 4
}
