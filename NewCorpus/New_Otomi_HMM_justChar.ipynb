{
 "cells": [
  {
   "cell_type": "markdown",
   "metadata": {},
   "source": [
    "# Hidden Markov Model para glosado Otomi"
   ]
  },
  {
   "cell_type": "code",
   "execution_count": 1,
   "metadata": {},
   "outputs": [],
   "source": [
    "from nltk.tag import hmm\n",
    "from sklearn.model_selection import train_test_split\n",
    "from sklearn.metrics import accuracy_score, precision_recall_fscore_support\n",
    "from pickle import load\n",
    "from itertools import chain\n",
    "import pandas as pd\n",
    "import numpy as np"
   ]
  },
  {
   "cell_type": "code",
   "execution_count": 2,
   "metadata": {},
   "outputs": [
    {
     "name": "stdout",
     "output_type": "stream",
     "text": [
      "[[[\"'\", 'v', 'B-como'], ['á', 'v', 'I-como'], ['b', 'v', 'B-3.cpl'], ['i', 'v', 'I-3.cpl'], ['m', 'v', 'B-ctrf'], ['á', 'v', 'I-ctrf'], ['k', 'v', 'B-stem'], ['h', 'v', 'I-stem'], ['á', 'v', 'I-stem']]] 1769\n"
     ]
    }
   ],
   "source": [
    "file1 = load(open('pickle_objects/preinput_data','rb'))\n",
    "print(file1[0], len(file1))"
   ]
  },
  {
   "cell_type": "code",
   "execution_count": 3,
   "metadata": {},
   "outputs": [],
   "source": [
    "data = []\n",
    "\n",
    "for s in file1:\n",
    "    sent_data = []\n",
    "    for w in s:\n",
    "        #print(w)\n",
    "        word = [(x[0], x[2]) for x in w] + [(' ', ' ')]\n",
    "        sent_data.append(word)\n",
    "    \n",
    "    one_sent = list(chain(*sent_data))\n",
    "    one_sent.pop(-1)\n",
    "    data.append(list(zip(*one_sent)))"
   ]
  },
  {
   "cell_type": "code",
   "execution_count": 4,
   "metadata": {},
   "outputs": [
    {
     "name": "stdout",
     "output_type": "stream",
     "text": [
      "1185 584\n"
     ]
    }
   ],
   "source": [
    "#Data split 33%\n",
    "train_pairs, eval_pairs = train_test_split(data, test_size=0.33)\n",
    "print(len(train_pairs), len(eval_pairs))\n",
    "\n",
    "#Separar el train en dos conjuntos\n",
    "train_set = [list(zip(s,t)) for s,t in train_pairs]"
   ]
  },
  {
   "cell_type": "markdown",
   "metadata": {},
   "source": [
    "### Entrenamiento del modelo"
   ]
  },
  {
   "cell_type": "code",
   "execution_count": 5,
   "metadata": {},
   "outputs": [
    {
     "name": "stdout",
     "output_type": "stream",
     "text": [
      "CPU times: user 45.2 ms, sys: 777 µs, total: 45.9 ms\n",
      "Wall time: 46 ms\n"
     ]
    }
   ],
   "source": [
    "%%time\n",
    "trainer = hmm.HiddenMarkovModelTrainer()\n",
    "tagger = trainer.train_supervised(train_set)"
   ]
  },
  {
   "cell_type": "markdown",
   "metadata": {},
   "source": [
    "### Evaluación"
   ]
  },
  {
   "cell_type": "code",
   "execution_count": 6,
   "metadata": {},
   "outputs": [],
   "source": [
    "y_pred = []\n",
    "y_true = []\n",
    "for sent in eval_pairs:\n",
    "    prediccion = tagger.tag(sent[0])\n",
    "    y_pred.append(prediccion)\n",
    "    y_true.append(sent[1])"
   ]
  },
  {
   "cell_type": "code",
   "execution_count": 7,
   "metadata": {},
   "outputs": [],
   "source": [
    "Y_true = list(chain(*y_true))\n",
    "Y_pred = list(chain(*y_pred))\n",
    "chars,Y_pred = zip(*Y_pred) \n",
    "Y_pred = list(Y_pred)"
   ]
  },
  {
   "cell_type": "code",
   "execution_count": 8,
   "metadata": {},
   "outputs": [
    {
     "name": "stdout",
     "output_type": "stream",
     "text": [
      "Accuracy: 0.8719470722809621\n"
     ]
    }
   ],
   "source": [
    "labels = list(set(Y_true))\n",
    "labels.remove(' ')\n",
    "\n",
    "print('Accuracy:', accuracy_score(Y_true, Y_pred))"
   ]
  },
  {
   "cell_type": "code",
   "execution_count": 9,
   "metadata": {},
   "outputs": [
    {
     "name": "stderr",
     "output_type": "stream",
     "text": [
      "/home/mijangos/.local/lib/python3.8/site-packages/sklearn/metrics/_classification.py:1221: UndefinedMetricWarning: Precision and F-score are ill-defined and being set to 0.0 in labels with no predicted samples. Use `zero_division` parameter to control this behavior.\n",
      "  _warn_prf(average, modifier, msg_start, len(result))\n"
     ]
    }
   ],
   "source": [
    "prec, rec, f1, supp = precision_recall_fscore_support(Y_true, Y_pred, labels=labels)"
   ]
  },
  {
   "cell_type": "code",
   "execution_count": 10,
   "metadata": {},
   "outputs": [
    {
     "data": {
      "text/html": [
       "<div>\n",
       "<style scoped>\n",
       "    .dataframe tbody tr th:only-of-type {\n",
       "        vertical-align: middle;\n",
       "    }\n",
       "\n",
       "    .dataframe tbody tr th {\n",
       "        vertical-align: top;\n",
       "    }\n",
       "\n",
       "    .dataframe thead th {\n",
       "        text-align: right;\n",
       "    }\n",
       "</style>\n",
       "<table border=\"1\" class=\"dataframe\">\n",
       "  <thead>\n",
       "    <tr style=\"text-align: right;\">\n",
       "      <th></th>\n",
       "      <th>Precision</th>\n",
       "      <th>Recall</th>\n",
       "      <th>F1</th>\n",
       "      <th>Support</th>\n",
       "    </tr>\n",
       "  </thead>\n",
       "  <tbody>\n",
       "    <tr>\n",
       "      <th>B-3.icp</th>\n",
       "      <td>0.881356</td>\n",
       "      <td>0.971963</td>\n",
       "      <td>0.924444</td>\n",
       "      <td>107.0</td>\n",
       "    </tr>\n",
       "    <tr>\n",
       "      <th>I-dual</th>\n",
       "      <td>0.800000</td>\n",
       "      <td>0.666667</td>\n",
       "      <td>0.727273</td>\n",
       "      <td>6.0</td>\n",
       "    </tr>\n",
       "    <tr>\n",
       "      <th>I-dios</th>\n",
       "      <td>0.000000</td>\n",
       "      <td>0.000000</td>\n",
       "      <td>0.000000</td>\n",
       "      <td>2.0</td>\n",
       "    </tr>\n",
       "    <tr>\n",
       "      <th>B-uno</th>\n",
       "      <td>0.000000</td>\n",
       "      <td>0.000000</td>\n",
       "      <td>0.000000</td>\n",
       "      <td>1.0</td>\n",
       "    </tr>\n",
       "    <tr>\n",
       "      <th>B-det.pl</th>\n",
       "      <td>0.936709</td>\n",
       "      <td>0.961039</td>\n",
       "      <td>0.948718</td>\n",
       "      <td>77.0</td>\n",
       "    </tr>\n",
       "    <tr>\n",
       "      <th>...</th>\n",
       "      <td>...</td>\n",
       "      <td>...</td>\n",
       "      <td>...</td>\n",
       "      <td>...</td>\n",
       "    </tr>\n",
       "    <tr>\n",
       "      <th>I-1.irr</th>\n",
       "      <td>0.000000</td>\n",
       "      <td>0.000000</td>\n",
       "      <td>0.000000</td>\n",
       "      <td>4.0</td>\n",
       "    </tr>\n",
       "    <tr>\n",
       "      <th>I-det.pl</th>\n",
       "      <td>0.913580</td>\n",
       "      <td>0.925000</td>\n",
       "      <td>0.919255</td>\n",
       "      <td>80.0</td>\n",
       "    </tr>\n",
       "    <tr>\n",
       "      <th>I-dem</th>\n",
       "      <td>0.232198</td>\n",
       "      <td>0.757576</td>\n",
       "      <td>0.355450</td>\n",
       "      <td>99.0</td>\n",
       "    </tr>\n",
       "    <tr>\n",
       "      <th>I-neg</th>\n",
       "      <td>0.500000</td>\n",
       "      <td>0.400000</td>\n",
       "      <td>0.444444</td>\n",
       "      <td>10.0</td>\n",
       "    </tr>\n",
       "    <tr>\n",
       "      <th>B-adj</th>\n",
       "      <td>0.000000</td>\n",
       "      <td>0.000000</td>\n",
       "      <td>0.000000</td>\n",
       "      <td>1.0</td>\n",
       "    </tr>\n",
       "  </tbody>\n",
       "</table>\n",
       "<p>157 rows × 4 columns</p>\n",
       "</div>"
      ],
      "text/plain": [
       "          Precision    Recall        F1  Support\n",
       "B-3.icp    0.881356  0.971963  0.924444    107.0\n",
       "I-dual     0.800000  0.666667  0.727273      6.0\n",
       "I-dios     0.000000  0.000000  0.000000      2.0\n",
       "B-uno      0.000000  0.000000  0.000000      1.0\n",
       "B-det.pl   0.936709  0.961039  0.948718     77.0\n",
       "...             ...       ...       ...      ...\n",
       "I-1.irr    0.000000  0.000000  0.000000      4.0\n",
       "I-det.pl   0.913580  0.925000  0.919255     80.0\n",
       "I-dem      0.232198  0.757576  0.355450     99.0\n",
       "I-neg      0.500000  0.400000  0.444444     10.0\n",
       "B-adj      0.000000  0.000000  0.000000      1.0\n",
       "\n",
       "[157 rows x 4 columns]"
      ]
     },
     "execution_count": 10,
     "metadata": {},
     "output_type": "execute_result"
    }
   ],
   "source": [
    "results = pd.DataFrame(data=np.array([prec, rec, f1, supp]).T, index=labels, columns=['Precision','Recall','F1', 'Support'])\n",
    "results"
   ]
  },
  {
   "cell_type": "code",
   "execution_count": 11,
   "metadata": {},
   "outputs": [
    {
     "name": "stdout",
     "output_type": "stream",
     "text": [
      "                  Precision    Recall        F1  Support\n",
      "B-3.icp            0.881356  0.971963  0.924444    107.0\n",
      "I-dual             0.800000  0.666667  0.727273      6.0\n",
      "I-dios             0.000000  0.000000  0.000000      2.0\n",
      "B-uno              0.000000  0.000000  0.000000      1.0\n",
      "B-det.pl           0.936709  0.961039  0.948718     77.0\n",
      "I-prf              0.000000  0.000000  0.000000      1.0\n",
      "B-ctrf             0.700935  0.949367  0.806452     79.0\n",
      "B-chente           0.000000  0.000000  0.000000      1.0\n",
      "B-p.loc            0.666667  0.250000  0.363636      8.0\n",
      "I-2.cnt            1.000000  0.750000  0.857143      8.0\n",
      "B-tal.vez          0.000000  0.000000  0.000000      1.0\n",
      "B-int              0.000000  0.000000  0.000000      2.0\n",
      "I-hasta            0.000000  0.000000  0.000000      2.0\n",
      "B-toluca           1.000000  0.666667  0.800000      3.0\n",
      "B-con              0.000000  0.000000  0.000000      1.0\n",
      "I-p.loc            0.666667  0.250000  0.363636      8.0\n",
      "I-1.pss            0.789474  0.923077  0.851064     65.0\n",
      "B-pl.exc           0.814815  0.942857  0.874172     70.0\n",
      "I-3.imp            0.909091  1.000000  0.952381     10.0\n",
      "I-3.obj            0.658537  0.675000  0.666667     40.0\n",
      "I-toluca           1.000000  0.666667  0.800000     18.0\n",
      "I-animal.de.dios   0.000000  0.000000  0.000000      4.0\n",
      "I-pl               0.405063  0.800000  0.537815     40.0\n",
      "I-prt              0.375000  0.088235  0.142857     34.0\n",
      "I-2.icp            0.960000  1.000000  0.979592     24.0\n",
      "I-3.pot            0.985915  0.985915  0.985915     71.0\n",
      "I-chico            0.000000  0.000000  0.000000      4.0\n",
      "I-int              0.000000  0.000000  0.000000      2.0\n",
      "B-2.pot            1.000000  1.000000  1.000000      1.0\n",
      "B-1.pot            0.764706  1.000000  0.866667     65.0\n",
      "B-que              0.266667  0.800000  0.400000      5.0\n",
      "I-uno              0.000000  0.000000  0.000000      1.0\n",
      "B-pues             1.000000  1.000000  1.000000      4.0\n",
      "I-1.icp            0.939394  0.989362  0.963731     94.0\n",
      "B-2.cpl            0.285714  1.000000  0.444444      2.0\n",
      "I-3.icp            0.000000  0.000000  0.000000      2.0\n",
      "I-pl.exc           0.814815  0.942857  0.874172     70.0\n",
      "I-dual.exc         0.923077  0.800000  0.857143     15.0\n",
      "I-det              0.819188  0.952790  0.880952    233.0\n",
      "B-3.pss            0.000000  0.000000  0.000000     11.0\n",
      "I-3.pls            0.612903  0.826087  0.703704     23.0\n",
      "B-muy              0.730769  1.000000  0.844444     19.0\n",
      "I-mod              0.224138  0.351351  0.273684     37.0\n",
      "I-mujer/v          0.000000  0.000000  0.000000      4.0\n",
      "I-1.enf            0.888889  0.666667  0.761905     12.0\n",
      "I-gen              0.133333  0.333333  0.190476      6.0\n",
      "I-det.dem          0.000000  0.000000  0.000000      3.0\n",
      "B-animal.de.dios   0.000000  0.000000  0.000000      1.0\n",
      "I-y                0.000000  0.000000  0.000000      1.0\n",
      "B-1.enf            0.888889  0.666667  0.761905     12.0\n",
      "B-1.cnt            1.000000  1.000000  1.000000     28.0\n",
      "B-prf              0.000000  0.000000  0.000000      1.0\n",
      "B-1.obj            0.710145  1.000000  0.830508     49.0\n",
      "B-1.pls            0.166667  0.500000  0.250000      4.0\n",
      "B-med              1.000000  0.800000  0.888889      5.0\n",
      "B-1.cpl.irr        1.000000  1.000000  1.000000      4.0\n",
      "I-2.pot            1.000000  1.000000  1.000000      1.0\n",
      "B-lig              0.670330  0.734940  0.701149     83.0\n",
      "B-encl             0.000000  0.000000  0.000000      1.0\n",
      "B-lim              0.841270  0.938053  0.887029    113.0\n",
      "B-gen              0.125000  0.333333  0.181818      3.0\n",
      "B-aum              0.666667  0.666667  0.666667      3.0\n",
      "I-2                0.500000  0.833333  0.625000      6.0\n",
      "I-como             0.000000  0.000000  0.000000      1.0\n",
      "B-1.prf            0.848485  1.000000  0.918033     28.0\n",
      "B-pl               0.405063  0.800000  0.537815     40.0\n",
      "I-con              0.000000  0.000000  0.000000      2.0\n",
      "B-3.sg             0.000000  0.000000  0.000000      1.0\n",
      "B-3.prf            0.650000  0.928571  0.764706     14.0\n",
      "I-1.icp.irr        0.800000  0.400000  0.533333     20.0\n",
      "B-com              0.000000  0.000000  0.000000      2.0\n",
      "I-3.icp.irr        0.722222  0.928571  0.812500     14.0\n",
      "B-det              0.819188  0.956897  0.882704    232.0\n",
      "B-3.imp            0.833333  1.000000  0.909091      5.0\n",
      "B-stem             0.902790  0.831059  0.865441   2492.0\n",
      "I-cuando           0.000000  0.000000  0.000000      1.0\n",
      "I-1.prf            0.848485  1.000000  0.918033     28.0\n",
      "I-3.prf            0.650000  0.928571  0.764706     14.0\n",
      "B-como             0.000000  0.000000  0.000000      1.0\n",
      "B-mucho            0.000000  0.000000  0.000000      1.0\n",
      "I-lig              0.000000  0.000000  0.000000      2.0\n",
      "B-2.obj            0.250000  0.500000  0.333333      2.0\n",
      "I-1.obj            0.710145  1.000000  0.830508     49.0\n",
      "I-dim              0.883721  0.775510  0.826087     98.0\n",
      "I-3.sg             0.000000  0.000000  0.000000      3.0\n",
      "B-det.dem          0.000000  0.000000  0.000000      1.0\n",
      "B-1.pss            0.789474  0.923077  0.851064     65.0\n",
      "B-hasta            0.000000  0.000000  0.000000      2.0\n",
      "B-aqui             0.000000  0.000000  0.000000      1.0\n",
      "I-2.pss            0.769231  0.909091  0.833333     11.0\n",
      "B-chico            0.000000  0.000000  0.000000      1.0\n",
      "I-mucho            0.000000  0.000000  0.000000      2.0\n",
      "I-3.cpl            0.953642  1.000000  0.976271    144.0\n",
      "I-1.cnt            1.000000  1.000000  1.000000     56.0\n",
      "B-dual.exc         0.923077  0.800000  0.857143     15.0\n",
      "I-1.cpl            0.904762  0.915663  0.910180     83.0\n",
      "B-mod              0.210526  0.166667  0.186047     24.0\n",
      "B-2.cnt            1.000000  0.750000  0.857143      4.0\n",
      "I-ctrf             0.700935  0.949367  0.806452     79.0\n",
      "B-mujer/v          0.000000  0.000000  0.000000      1.0\n",
      "I-aqui             0.000000  0.000000  0.000000      1.0\n",
      "I-loc              0.888889  0.918033  0.903226     61.0\n",
      "I-prag             0.938596  0.955357  0.946903    112.0\n",
      "B-loc              0.875000  0.903226  0.888889     31.0\n",
      "B-2.icp            0.960000  1.000000  0.979592     24.0\n",
      "B-neg              0.400000  0.500000  0.444444      4.0\n",
      "B-2.pss            0.769231  0.909091  0.833333     11.0\n",
      "I-2.obj            0.333333  0.666667  0.444444      3.0\n",
      "I-que              0.266667  0.800000  0.400000      5.0\n",
      "B-2                0.500000  0.833333  0.625000      6.0\n",
      "B-dual             0.800000  0.666667  0.727273      6.0\n",
      "I-muy              0.745098  1.000000  0.853933     38.0\n",
      "B-ila              0.734375  0.959184  0.831858     49.0\n",
      "B-1.icp            0.939394  0.989362  0.963731     94.0\n",
      "B-1.cpl            0.904762  0.915663  0.910180     83.0\n",
      "I-1.pls            0.166667  0.500000  0.250000      4.0\n",
      "B-3.pot            0.985915  0.985915  0.985915     71.0\n",
      "B-dem              0.263158  0.703125  0.382979     64.0\n",
      "B-1.irr            0.000000  0.000000  0.000000      2.0\n",
      "B-3.pls            0.612903  0.826087  0.703704     23.0\n",
      "B-cuando           0.000000  0.000000  0.000000      1.0\n",
      "I-med              0.000000  0.000000  0.000000      1.0\n",
      "I-pues             1.000000  1.000000  1.000000      4.0\n",
      "I-it               1.000000  0.600000  0.750000     15.0\n",
      "I-1.cpl.irr        1.000000  1.000000  1.000000      4.0\n",
      "I-3.cnt            0.657895  1.000000  0.793651     25.0\n",
      "I-lim              0.912664  0.954338  0.933036    219.0\n",
      "I-aum              0.666667  0.666667  0.666667      6.0\n",
      "B-conj.adv         0.000000  0.000000  0.000000      1.0\n",
      "I-3.pss            0.000000  0.000000  0.000000     11.0\n",
      "B-prt              0.375000  0.130435  0.193548     23.0\n",
      "B-psd              0.918239  0.960526  0.938907    152.0\n",
      "B-it               1.000000  0.600000  0.750000     15.0\n",
      "B-y                0.000000  0.000000  0.000000      2.0\n",
      "I-chente           0.000000  0.000000  0.000000      5.0\n",
      "I-ila              0.712121  0.959184  0.817391     98.0\n",
      "I-adj              0.000000  0.000000  0.000000      1.0\n",
      "I-2.cpl            0.285714  1.000000  0.444444      2.0\n",
      "I-encl             0.000000  0.000000  0.000000      1.0\n",
      "B-1.icp.irr        0.800000  0.400000  0.533333     10.0\n",
      "B-3.icp.irr        0.722222  0.928571  0.812500     14.0\n",
      "I-1.pot            0.764706  1.000000  0.866667     65.0\n",
      "B-3.cpl            0.953642  1.000000  0.976271    144.0\n",
      "B-dim              0.883721  0.775510  0.826087     49.0\n",
      "B-3.cnt            0.657895  1.000000  0.793651     25.0\n",
      "I-com              0.000000  0.000000  0.000000      2.0\n",
      "B-dónde            0.000000  0.000000  0.000000      1.0\n",
      "B-dios             0.000000  0.000000  0.000000      1.0\n",
      "I-stem             0.933118  0.843409  0.885998   6865.0\n",
      "I-tal.vez          0.000000  0.000000  0.000000      1.0\n",
      "B-prag             0.938596  0.955357  0.946903    112.0\n",
      "B-3.obj            0.658537  0.675000  0.666667     40.0\n",
      "I-1.irr            0.000000  0.000000  0.000000      4.0\n",
      "I-det.pl           0.913580  0.925000  0.919255     80.0\n",
      "I-dem              0.232198  0.757576  0.355450     99.0\n",
      "I-neg              0.500000  0.400000  0.444444     10.0\n",
      "B-adj              0.000000  0.000000  0.000000      1.0\n"
     ]
    }
   ],
   "source": [
    "print(results.to_string())"
   ]
  },
  {
   "cell_type": "code",
   "execution_count": 12,
   "metadata": {},
   "outputs": [
    {
     "name": "stdout",
     "output_type": "stream",
     "text": [
      "Average precision: 0.877801438957231\n",
      "Average recall: 0.8515518600817146\n",
      "Average F1: 0.8588883521649597\n"
     ]
    }
   ],
   "source": [
    "aver_prec = (supp*prec).sum()/supp.sum()\n",
    "aver_rec = (supp*rec).sum()/supp.sum()\n",
    "aver_f1 = (supp*f1).sum()/supp.sum()\n",
    "\n",
    "print('Average precision: {}\\nAverage recall: {}\\nAverage F1: {}'.format(aver_prec, aver_rec, aver_f1))"
   ]
  },
  {
   "cell_type": "code",
   "execution_count": null,
   "metadata": {},
   "outputs": [],
   "source": []
  }
 ],
 "metadata": {
  "kernelspec": {
   "display_name": "Python 3",
   "language": "python",
   "name": "python3"
  },
  "language_info": {
   "codemirror_mode": {
    "name": "ipython",
    "version": 3
   },
   "file_extension": ".py",
   "mimetype": "text/x-python",
   "name": "python",
   "nbconvert_exporter": "python",
   "pygments_lexer": "ipython3",
   "version": "3.8.5"
  }
 },
 "nbformat": 4,
 "nbformat_minor": 4
}
