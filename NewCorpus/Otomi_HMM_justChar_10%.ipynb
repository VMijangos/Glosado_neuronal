{
 "cells": [
  {
   "cell_type": "markdown",
   "metadata": {},
   "source": [
    "# Hidden Markov Model para glosado Otomi"
   ]
  },
  {
   "cell_type": "code",
   "execution_count": 1,
   "metadata": {},
   "outputs": [],
   "source": [
    "from nltk.tag import hmm\n",
    "from sklearn.model_selection import train_test_split\n",
    "from sklearn.metrics import accuracy_score, precision_recall_fscore_support\n",
    "from pickle import load\n",
    "from itertools import chain\n",
    "import pandas as pd\n",
    "import numpy as np"
   ]
  },
  {
   "cell_type": "code",
   "execution_count": 2,
   "metadata": {},
   "outputs": [
    {
     "name": "stdout",
     "output_type": "stream",
     "text": [
      "[[[\"'\", 'v', 'B-como'], ['á', 'v', 'I-como'], ['b', 'v', 'B-3.cpl'], ['i', 'v', 'I-3.cpl'], ['m', 'v', 'B-ctrf'], ['á', 'v', 'I-ctrf'], ['k', 'v', 'B-stem'], ['h', 'v', 'I-stem'], ['á', 'v', 'I-stem']]] 1769\n"
     ]
    }
   ],
   "source": [
    "file1 = load(open('pickle_objects/preinput_data','rb'))\n",
    "print(file1[0], len(file1))"
   ]
  },
  {
   "cell_type": "code",
   "execution_count": 3,
   "metadata": {},
   "outputs": [],
   "source": [
    "data = []\n",
    "\n",
    "for s in file1:\n",
    "    sent_data = []\n",
    "    for w in s:\n",
    "        #print(w)\n",
    "        word = [(x[0], x[2]) for x in w] + [(' ', ' ')]\n",
    "        sent_data.append(word)\n",
    "    \n",
    "    one_sent = list(chain(*sent_data))\n",
    "    one_sent.pop(-1)\n",
    "    data.append(list(zip(*one_sent)))"
   ]
  },
  {
   "cell_type": "code",
   "execution_count": 4,
   "metadata": {},
   "outputs": [
    {
     "name": "stdout",
     "output_type": "stream",
     "text": [
      "1592 177\n"
     ]
    }
   ],
   "source": [
    "#Data split 33%\n",
    "train_pairs, eval_pairs = train_test_split(data, test_size=0.1)#33)\n",
    "print(len(train_pairs), len(eval_pairs))\n",
    "\n",
    "#Separar el train en dos conjuntos\n",
    "train_set = [list(zip(s,t)) for s,t in train_pairs]"
   ]
  },
  {
   "cell_type": "markdown",
   "metadata": {},
   "source": [
    "### Entrenamiento del modelo"
   ]
  },
  {
   "cell_type": "code",
   "execution_count": 5,
   "metadata": {},
   "outputs": [
    {
     "name": "stdout",
     "output_type": "stream",
     "text": [
      "CPU times: user 89.9 ms, sys: 1.26 ms, total: 91.1 ms\n",
      "Wall time: 88.9 ms\n"
     ]
    }
   ],
   "source": [
    "%%time\n",
    "trainer = hmm.HiddenMarkovModelTrainer()\n",
    "tagger = trainer.train_supervised(train_set)"
   ]
  },
  {
   "cell_type": "markdown",
   "metadata": {},
   "source": [
    "### Evaluación"
   ]
  },
  {
   "cell_type": "code",
   "execution_count": 6,
   "metadata": {},
   "outputs": [],
   "source": [
    "y_pred = []\n",
    "y_true = []\n",
    "for sent in eval_pairs:\n",
    "    prediccion = tagger.tag(sent[0])\n",
    "    y_pred.append(prediccion)\n",
    "    y_true.append(sent[1])"
   ]
  },
  {
   "cell_type": "code",
   "execution_count": 7,
   "metadata": {},
   "outputs": [],
   "source": [
    "Y_true = list(chain(*y_true))\n",
    "Y_pred = list(chain(*y_pred))\n",
    "chars,Y_pred = zip(*Y_pred) \n",
    "Y_pred = list(Y_pred)"
   ]
  },
  {
   "cell_type": "code",
   "execution_count": 8,
   "metadata": {},
   "outputs": [
    {
     "name": "stdout",
     "output_type": "stream",
     "text": [
      "Accuracy: 0.8787820015515904\n"
     ]
    }
   ],
   "source": [
    "labels = list(set(Y_true))\n",
    "labels.remove(' ')\n",
    "\n",
    "print('Accuracy:', accuracy_score(Y_true, Y_pred))"
   ]
  },
  {
   "cell_type": "code",
   "execution_count": 9,
   "metadata": {},
   "outputs": [
    {
     "name": "stderr",
     "output_type": "stream",
     "text": [
      "/home/mijangos/.local/lib/python3.8/site-packages/sklearn/metrics/_classification.py:1221: UndefinedMetricWarning: Precision and F-score are ill-defined and being set to 0.0 in labels with no predicted samples. Use `zero_division` parameter to control this behavior.\n",
      "  _warn_prf(average, modifier, msg_start, len(result))\n"
     ]
    }
   ],
   "source": [
    "prec, rec, f1, supp = precision_recall_fscore_support(Y_true, Y_pred, labels=labels)"
   ]
  },
  {
   "cell_type": "code",
   "execution_count": 10,
   "metadata": {},
   "outputs": [
    {
     "data": {
      "text/html": [
       "<div>\n",
       "<style scoped>\n",
       "    .dataframe tbody tr th:only-of-type {\n",
       "        vertical-align: middle;\n",
       "    }\n",
       "\n",
       "    .dataframe tbody tr th {\n",
       "        vertical-align: top;\n",
       "    }\n",
       "\n",
       "    .dataframe thead th {\n",
       "        text-align: right;\n",
       "    }\n",
       "</style>\n",
       "<table border=\"1\" class=\"dataframe\">\n",
       "  <thead>\n",
       "    <tr style=\"text-align: right;\">\n",
       "      <th></th>\n",
       "      <th>Precision</th>\n",
       "      <th>Recall</th>\n",
       "      <th>F1</th>\n",
       "      <th>Support</th>\n",
       "    </tr>\n",
       "  </thead>\n",
       "  <tbody>\n",
       "    <tr>\n",
       "      <th>B-1.icp.irr</th>\n",
       "      <td>0.333333</td>\n",
       "      <td>1.000000</td>\n",
       "      <td>0.500000</td>\n",
       "      <td>1.0</td>\n",
       "    </tr>\n",
       "    <tr>\n",
       "      <th>B-1.cpl</th>\n",
       "      <td>0.964286</td>\n",
       "      <td>1.000000</td>\n",
       "      <td>0.981818</td>\n",
       "      <td>27.0</td>\n",
       "    </tr>\n",
       "    <tr>\n",
       "      <th>B-stem</th>\n",
       "      <td>0.920000</td>\n",
       "      <td>0.843236</td>\n",
       "      <td>0.879947</td>\n",
       "      <td>791.0</td>\n",
       "    </tr>\n",
       "    <tr>\n",
       "      <th>I-3.prf</th>\n",
       "      <td>0.750000</td>\n",
       "      <td>1.000000</td>\n",
       "      <td>0.857143</td>\n",
       "      <td>3.0</td>\n",
       "    </tr>\n",
       "    <tr>\n",
       "      <th>B-aum</th>\n",
       "      <td>1.000000</td>\n",
       "      <td>1.000000</td>\n",
       "      <td>1.000000</td>\n",
       "      <td>2.0</td>\n",
       "    </tr>\n",
       "    <tr>\n",
       "      <th>...</th>\n",
       "      <td>...</td>\n",
       "      <td>...</td>\n",
       "      <td>...</td>\n",
       "      <td>...</td>\n",
       "    </tr>\n",
       "    <tr>\n",
       "      <th>B-3.pss</th>\n",
       "      <td>0.000000</td>\n",
       "      <td>0.000000</td>\n",
       "      <td>0.000000</td>\n",
       "      <td>2.0</td>\n",
       "    </tr>\n",
       "    <tr>\n",
       "      <th>B-1.icp</th>\n",
       "      <td>1.000000</td>\n",
       "      <td>0.964286</td>\n",
       "      <td>0.981818</td>\n",
       "      <td>28.0</td>\n",
       "    </tr>\n",
       "    <tr>\n",
       "      <th>B-lim</th>\n",
       "      <td>0.843750</td>\n",
       "      <td>0.931034</td>\n",
       "      <td>0.885246</td>\n",
       "      <td>29.0</td>\n",
       "    </tr>\n",
       "    <tr>\n",
       "      <th>I-1.obj</th>\n",
       "      <td>0.375000</td>\n",
       "      <td>0.900000</td>\n",
       "      <td>0.529412</td>\n",
       "      <td>10.0</td>\n",
       "    </tr>\n",
       "    <tr>\n",
       "      <th>I-2</th>\n",
       "      <td>0.666667</td>\n",
       "      <td>1.000000</td>\n",
       "      <td>0.800000</td>\n",
       "      <td>2.0</td>\n",
       "    </tr>\n",
       "  </tbody>\n",
       "</table>\n",
       "<p>123 rows × 4 columns</p>\n",
       "</div>"
      ],
      "text/plain": [
       "             Precision    Recall        F1  Support\n",
       "B-1.icp.irr   0.333333  1.000000  0.500000      1.0\n",
       "B-1.cpl       0.964286  1.000000  0.981818     27.0\n",
       "B-stem        0.920000  0.843236  0.879947    791.0\n",
       "I-3.prf       0.750000  1.000000  0.857143      3.0\n",
       "B-aum         1.000000  1.000000  1.000000      2.0\n",
       "...                ...       ...       ...      ...\n",
       "B-3.pss       0.000000  0.000000  0.000000      2.0\n",
       "B-1.icp       1.000000  0.964286  0.981818     28.0\n",
       "B-lim         0.843750  0.931034  0.885246     29.0\n",
       "I-1.obj       0.375000  0.900000  0.529412     10.0\n",
       "I-2           0.666667  1.000000  0.800000      2.0\n",
       "\n",
       "[123 rows x 4 columns]"
      ]
     },
     "execution_count": 10,
     "metadata": {},
     "output_type": "execute_result"
    }
   ],
   "source": [
    "results = pd.DataFrame(data=np.array([prec, rec, f1, supp]).T, index=labels, columns=['Precision','Recall','F1', 'Support'])\n",
    "results"
   ]
  },
  {
   "cell_type": "code",
   "execution_count": 11,
   "metadata": {},
   "outputs": [
    {
     "name": "stdout",
     "output_type": "stream",
     "text": [
      "                  Precision    Recall        F1  Support\n",
      "B-1.icp.irr        0.333333  1.000000  0.500000      1.0\n",
      "B-1.cpl            0.964286  1.000000  0.981818     27.0\n",
      "B-stem             0.920000  0.843236  0.879947    791.0\n",
      "I-3.prf            0.750000  1.000000  0.857143      3.0\n",
      "B-aum              1.000000  1.000000  1.000000      2.0\n",
      "I-1.enf            0.800000  1.000000  0.888889      4.0\n",
      "B-loc              0.714286  1.000000  0.833333      5.0\n",
      "I-2.pot            1.000000  1.000000  1.000000      1.0\n",
      "I-por.que          0.000000  0.000000  0.000000      2.0\n",
      "I-2.cnt            1.000000  1.000000  1.000000      2.0\n",
      "I-3.icp            0.000000  0.000000  0.000000      2.0\n",
      "I-3.cpl            1.000000  1.000000  1.000000     52.0\n",
      "B-dim              0.916667  0.916667  0.916667     12.0\n",
      "I-loc              0.714286  1.000000  0.833333     10.0\n",
      "I-ctrf             0.666667  1.000000  0.800000     26.0\n",
      "B-2.pot            1.000000  1.000000  1.000000      1.0\n",
      "B-mod              0.500000  0.200000  0.285714     10.0\n",
      "B-1.obj            0.375000  0.900000  0.529412     10.0\n",
      "I-3.pls            0.857143  0.857143  0.857143      7.0\n",
      "I-1.pot            0.896552  1.000000  0.945455     26.0\n",
      "B-prag             1.000000  0.939394  0.968750     33.0\n",
      "B-pues             1.000000  0.600000  0.750000      5.0\n",
      "B-lig              0.633333  0.703704  0.666667     27.0\n",
      "B-coraje           0.000000  0.000000  0.000000      1.0\n",
      "I-int              0.000000  0.000000  0.000000      3.0\n",
      "I-1.cpl.irr        1.000000  1.000000  1.000000      1.0\n",
      "B-dual             0.666667  1.000000  0.800000      2.0\n",
      "I-dual.exc         1.000000  1.000000  1.000000      3.0\n",
      "B-1.pot            0.896552  1.000000  0.945455     26.0\n",
      "I-p.loc            1.000000  1.000000  1.000000      2.0\n",
      "B-2.prf            1.000000  1.000000  1.000000      1.0\n",
      "B-3.prf            0.750000  1.000000  0.857143      3.0\n",
      "B-tiempo           0.000000  0.000000  0.000000      1.0\n",
      "B-y                1.000000  0.500000  0.666667      2.0\n",
      "B-pl               0.500000  1.000000  0.666667     13.0\n",
      "I-toluca           1.000000  1.000000  1.000000     12.0\n",
      "I-ila              0.571429  1.000000  0.727273     16.0\n",
      "I-agujerear/v      1.000000  1.000000  1.000000      3.0\n",
      "I-2.icp            0.857143  1.000000  0.923077      6.0\n",
      "B-3.icp.irr        1.000000  1.000000  1.000000      5.0\n",
      "I-dem              0.196850  0.833333  0.318471     30.0\n",
      "B-1.cpl.irr        1.000000  1.000000  1.000000      1.0\n",
      "B-2.cnt            1.000000  1.000000  1.000000      1.0\n",
      "B-3.obj            0.285714  0.333333  0.307692      6.0\n",
      "B-3.pot            1.000000  1.000000  1.000000     25.0\n",
      "B-agujerear/v      1.000000  1.000000  1.000000      1.0\n",
      "I-1.cpl            0.964286  1.000000  0.981818     27.0\n",
      "B-pl.exc           0.741935  1.000000  0.851852     23.0\n",
      "I-det.pl           0.976190  0.836735  0.901099     49.0\n",
      "I-que              0.142857  1.000000  0.250000      1.0\n",
      "I-1.pss            0.650000  1.000000  0.787879     13.0\n",
      "I-gen              0.250000  1.000000  0.400000      2.0\n",
      "I-det              0.848101  0.905405  0.875817     74.0\n",
      "I-1.icp            1.000000  0.964286  0.981818     28.0\n",
      "B-3.pls            0.857143  0.857143  0.857143      7.0\n",
      "I-3.cpl.irr        0.000000  0.000000  0.000000      2.0\n",
      "B-3.cpl.irr        0.000000  0.000000  0.000000      1.0\n",
      "B-med              1.000000  0.666667  0.800000      3.0\n",
      "B-int              0.000000  0.000000  0.000000      2.0\n",
      "B-1.pss            0.650000  1.000000  0.787879     13.0\n",
      "I-3.obj            0.285714  0.333333  0.307692      6.0\n",
      "B-muy              0.600000  1.000000  0.750000      6.0\n",
      "B-p.loc            1.000000  1.000000  1.000000      2.0\n",
      "I-aum              1.000000  1.000000  1.000000      4.0\n",
      "I-animal.de.dios   0.000000  0.000000  0.000000      4.0\n",
      "I-pues             1.000000  0.600000  0.750000      5.0\n",
      "I-stem             0.948938  0.842838  0.892747   2227.0\n",
      "B-neg              0.000000  0.000000  0.000000      2.0\n",
      "B-2.cpl            0.000000  0.000000  0.000000      1.0\n",
      "B-toluca           1.000000  1.000000  1.000000      2.0\n",
      "I-pl.exc           0.741935  1.000000  0.851852     23.0\n",
      "I-3.cnt            0.833333  0.833333  0.833333      6.0\n",
      "B-animal.de.dios   0.000000  0.000000  0.000000      1.0\n",
      "I-lim              0.915254  0.964286  0.939130     56.0\n",
      "I-y                0.000000  0.000000  0.000000      1.0\n",
      "I-1.cnt            1.000000  0.875000  0.933333     16.0\n",
      "I-3.pot            1.000000  1.000000  1.000000     25.0\n",
      "B-aqui             1.000000  0.500000  0.666667      2.0\n",
      "I-dist             0.000000  0.000000  0.000000      1.0\n",
      "B-ctrf             0.666667  1.000000  0.800000     26.0\n",
      "B-1.prf            0.900000  1.000000  0.947368      9.0\n",
      "B-que              0.142857  1.000000  0.250000      1.0\n",
      "B-gen              0.250000  1.000000  0.400000      1.0\n",
      "I-prag             1.000000  0.939394  0.968750     33.0\n",
      "I-dim              0.956522  0.916667  0.936170     24.0\n",
      "B-3.icp            0.864865  0.941176  0.901408     34.0\n",
      "I-it               1.000000  1.000000  1.000000      7.0\n",
      "B-det              0.848101  0.930556  0.887417     72.0\n",
      "B-dist             0.000000  0.000000  0.000000      1.0\n",
      "B-psd              0.883721  0.950000  0.915663     40.0\n",
      "B-ila              0.615385  1.000000  0.761905      8.0\n",
      "B-3.cnt            0.833333  0.833333  0.833333      6.0\n",
      "B-1.cnt            1.000000  0.875000  0.933333      8.0\n",
      "I-dual             0.666667  1.000000  0.800000      2.0\n",
      "I-3.pss            0.000000  0.000000  0.000000      2.0\n",
      "B-dem              0.250000  0.850000  0.386364     20.0\n",
      "B-2.icp            0.857143  1.000000  0.923077      6.0\n",
      "B-1.enf            0.800000  1.000000  0.888889      4.0\n",
      "B-prt              0.000000  0.000000  0.000000      3.0\n",
      "I-2.cpl            0.000000  0.000000  0.000000      1.0\n",
      "I-1.prf            0.900000  1.000000  0.947368      9.0\n",
      "I-coraje           0.000000  0.000000  0.000000      2.0\n",
      "I-muy              0.631579  1.000000  0.774194     12.0\n",
      "B-dual.exc         1.000000  1.000000  1.000000      3.0\n",
      "I-2.prf            1.000000  1.000000  1.000000      1.0\n",
      "B-it               1.000000  1.000000  1.000000      7.0\n",
      "I-1.icp.irr        0.333333  1.000000  0.500000      2.0\n",
      "I-prt              0.000000  0.000000  0.000000      3.0\n",
      "I-3.icp.irr        1.000000  1.000000  1.000000      5.0\n",
      "B-3.cpl            1.000000  1.000000  1.000000     52.0\n",
      "B-2                0.666667  1.000000  0.800000      2.0\n",
      "I-neg              0.000000  0.000000  0.000000      4.0\n",
      "B-det.pl           0.976190  0.911111  0.942529     45.0\n",
      "I-mod              0.384615  0.294118  0.333333     17.0\n",
      "I-pl               0.500000  1.000000  0.666667     13.0\n",
      "B-por.que          0.000000  0.000000  0.000000      1.0\n",
      "I-aqui             1.000000  0.500000  0.666667      4.0\n",
      "I-tiempo           0.000000  0.000000  0.000000      5.0\n",
      "B-3.pss            0.000000  0.000000  0.000000      2.0\n",
      "B-1.icp            1.000000  0.964286  0.981818     28.0\n",
      "B-lim              0.843750  0.931034  0.885246     29.0\n",
      "I-1.obj            0.375000  0.900000  0.529412     10.0\n",
      "I-2                0.666667  1.000000  0.800000      2.0\n"
     ]
    }
   ],
   "source": [
    "print(results.to_string())"
   ]
  },
  {
   "cell_type": "code",
   "execution_count": 12,
   "metadata": {},
   "outputs": [
    {
     "name": "stdout",
     "output_type": "stream",
     "text": [
      "Average precision: 0.8972871551219455\n",
      "Average recall: 0.8587251356238698\n",
      "Average F1: 0.8704548657812844\n"
     ]
    }
   ],
   "source": [
    "aver_prec = (supp*prec).sum()/supp.sum()\n",
    "aver_rec = (supp*rec).sum()/supp.sum()\n",
    "aver_f1 = (supp*f1).sum()/supp.sum()\n",
    "\n",
    "print('Average precision: {}\\nAverage recall: {}\\nAverage F1: {}'.format(aver_prec, aver_rec, aver_f1))"
   ]
  },
  {
   "cell_type": "code",
   "execution_count": null,
   "metadata": {},
   "outputs": [],
   "source": []
  }
 ],
 "metadata": {
  "kernelspec": {
   "display_name": "Python 3",
   "language": "python",
   "name": "python3"
  },
  "language_info": {
   "codemirror_mode": {
    "name": "ipython",
    "version": 3
   },
   "file_extension": ".py",
   "mimetype": "text/x-python",
   "name": "python",
   "nbconvert_exporter": "python",
   "pygments_lexer": "ipython3",
   "version": "3.8.5"
  }
 },
 "nbformat": 4,
 "nbformat_minor": 4
}
