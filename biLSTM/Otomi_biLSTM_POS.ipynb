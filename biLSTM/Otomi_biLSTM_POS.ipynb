{
 "cells": [
  {
   "cell_type": "markdown",
   "metadata": {},
   "source": [
    "# biLSTM: Automatic glossing, otomi (corpus completo)\n",
    "## Usando etiquetas POS"
   ]
  },
  {
   "cell_type": "code",
   "execution_count": 1,
   "metadata": {},
   "outputs": [],
   "source": [
    "from reccurrent_model import biLSTM\n",
    "from sklearn.model_selection import train_test_split\n",
    "from sklearn.metrics import accuracy_score, precision_recall_fscore_support\n",
    "from pickle import load\n",
    "from itertools import chain\n",
    "import pandas as pd\n",
    "import numpy as np\n",
    "import torch"
   ]
  },
  {
   "cell_type": "markdown",
   "metadata": {},
   "source": [
    "Sólo toma información de caracter y etiqueta. Elimina POS tags."
   ]
  },
  {
   "cell_type": "code",
   "execution_count": 2,
   "metadata": {},
   "outputs": [
    {
     "name": "stdout",
     "output_type": "stream",
     "text": [
      "[[['n', 'v', 'B-psd'], ['d', 'v', 'B-1.cpl'], ['ó', 'v', 'I-1.cpl'], ['p', 'v', 'B-stem'], ['h', 'v', 'I-stem'], ['μ', 'v', 'I-stem'], ['d', 'v', 'I-stem'], ['i', 'v', 'I-stem']], [['d', 'v', 'B-1.cpl'], ['ó', 'v', 'I-1.cpl'], ['p', 'v', 'B-stem'], ['ε', 'v', 'I-stem'], ['p', 'v', 'I-stem'], ['h', 'v', 'I-stem'], ['í', 'v', 'I-stem']], [['b', 'v', 'B-3.cpl'], ['i', 'v', 'I-3.cpl'], ['t', 'v', 'B-lig'], [\"'\", 'v', 'B-stem'], ['μ', 'v', 'I-stem'], ['n', 'v', 'I-stem'], ['g', 'v', 'B-1.obj'], ['í', 'v', 'I-1.obj']], [['b', 'v', 'B-3.cpl'], ['i', 'v', 'I-3.cpl'], ['m', 'v', 'B-stem'], ['ä', 'v', 'I-stem'], ['h', 'v', 'I-stem'], ['t', 'v', 'I-stem'], ['r', 'v', 'I-stem'], ['a', 'v', 'I-stem'], ['t', 'v', 'I-stem'], ['á', 'v', 'I-stem'], ['g', 'v', 'B-1.obj'], ['í', 'v', 'I-1.obj']], [['k', 'obl', 'B-stem'], ['o', 'obl', 'I-stem']], [['c', 'obl', 'B-stem'], ['h', 'obl', 'I-stem'], ['í', 'obl', 'I-stem'], ['k', 'obl', 'I-stem'], ['ó', 'obl', 'I-stem'], ['h', 'obl', 'I-stem'], ['t', 'obl', 'I-stem'], ['é', 'obl', 'I-stem']]] 1786\n"
     ]
    }
   ],
   "source": [
    "file1 = load(open('pickle_objects/predata','rb'))\n",
    "print(file1[0], len(file1))\n",
    "\n",
    "#file2 = load(open('pickle_objects/preinput_data','rb'))\n",
    "#print(file2[0], len(file2))\n",
    "\n",
    "#file3 = load(open('pickle_objects/X_input','rb'))\n",
    "#print(file3[0][:8], len(file3))\n",
    "\n",
    "#file4 = load(open('pickle_objects/y_input','rb'))\n",
    "#print(file4[0], len(file4))"
   ]
  },
  {
   "cell_type": "markdown",
   "metadata": {},
   "source": [
    "Idea simple para conservar POS en biLSTM, concatenar la etiqueta a la letra: \n",
    "\n",
    "$$n+v$$\n",
    "\n",
    "Tal que 'n' es la letra y 'v' POS de verbo.\n",
    "\n",
    "El índice asociado a cada letra dependerá de su POS: $idx(n+v) \\neq idx(n+obl)$ por ejemplo. \n",
    "\n",
    "Intuición: las letras van a ser consideradas como diferentes embeddings dependiendo de la POS de la palabra en que aparezcan."
   ]
  },
  {
   "cell_type": "code",
   "execution_count": 3,
   "metadata": {},
   "outputs": [
    {
     "name": "stdout",
     "output_type": "stream",
     "text": [
      "[('n_v', 'd_v', 'ó_v', 'p_v', 'h_v', 'μ_v', 'd_v', 'i_v', ' ', 'd_v', 'ó_v', 'p_v', 'ε_v', 'p_v', 'h_v', 'í_v', ' ', 'b_v', 'i_v', 't_v', \"'_v\", 'μ_v', 'n_v', 'g_v', 'í_v', ' ', 'b_v', 'i_v', 'm_v', 'ä_v', 'h_v', 't_v', 'r_v', 'a_v', 't_v', 'á_v', 'g_v', 'í_v', ' ', 'k_obl', 'o_obl', ' ', 'c_obl', 'h_obl', 'í_obl', 'k_obl', 'ó_obl', 'h_obl', 't_obl', 'é_obl'), ('B-psd', 'B-1.cpl', 'I-1.cpl', 'B-stem', 'I-stem', 'I-stem', 'I-stem', 'I-stem', ' ', 'B-1.cpl', 'I-1.cpl', 'B-stem', 'I-stem', 'I-stem', 'I-stem', 'I-stem', ' ', 'B-3.cpl', 'I-3.cpl', 'B-lig', 'B-stem', 'I-stem', 'I-stem', 'B-1.obj', 'I-1.obj', ' ', 'B-3.cpl', 'I-3.cpl', 'B-stem', 'I-stem', 'I-stem', 'I-stem', 'I-stem', 'I-stem', 'I-stem', 'I-stem', 'B-1.obj', 'I-1.obj', ' ', 'B-stem', 'I-stem', ' ', 'B-stem', 'I-stem', 'I-stem', 'I-stem', 'I-stem', 'I-stem', 'I-stem', 'I-stem')]\n"
     ]
    }
   ],
   "source": [
    "data = []\n",
    "\n",
    "for s in file1:\n",
    "    sent_data = []\n",
    "    for w in s:\n",
    "        #print(w)\n",
    "        word = [(x[0]+'_'+x[1], x[2]) for x in w] + [(' ', ' ')]\n",
    "        sent_data.append(word)\n",
    "    \n",
    "    one_sent = list(chain(*sent_data))\n",
    "    one_sent.pop(-1)\n",
    "    data.append(list(zip(*one_sent)))\n",
    "    \n",
    "print(data[0])"
   ]
  },
  {
   "cell_type": "markdown",
   "metadata": {},
   "source": [
    "### Training and test data"
   ]
  },
  {
   "cell_type": "code",
   "execution_count": 4,
   "metadata": {},
   "outputs": [
    {
     "name": "stdout",
     "output_type": "stream",
     "text": [
      "1196 590\n"
     ]
    }
   ],
   "source": [
    "#Data split 33%\n",
    "train_pairs, eval_pairs = train_test_split(data, test_size=0.33)\n",
    "print(len(train_pairs), len(eval_pairs))\n",
    "\n",
    "#Separar el train en dos conjuntos\n",
    "train_sents, train_tags = zip(*train_pairs)\n",
    "\n",
    "#print(train_sents)\n",
    "#print(train_tags)"
   ]
  },
  {
   "cell_type": "markdown",
   "metadata": {},
   "source": [
    "### Training the model"
   ]
  },
  {
   "cell_type": "code",
   "execution_count": 5,
   "metadata": {},
   "outputs": [],
   "source": [
    "model = biLSTM(train_sents, train_tags)"
   ]
  },
  {
   "cell_type": "code",
   "execution_count": 6,
   "metadata": {},
   "outputs": [
    {
     "name": "stderr",
     "output_type": "stream",
     "text": [
      "100%|██████████| 150/150 [1:06:29<00:00, 26.60s/it]"
     ]
    },
    {
     "name": "stdout",
     "output_type": "stream",
     "text": [
      "CPU times: user 11h 23min 21s, sys: 5min 55s, total: 11h 29min 17s\n",
      "Wall time: 1h 6min 29s\n"
     ]
    },
    {
     "name": "stderr",
     "output_type": "stream",
     "text": [
      "\n"
     ]
    }
   ],
   "source": [
    "%%time\n",
    "model.train_model(its=150)"
   ]
  },
  {
   "cell_type": "markdown",
   "metadata": {},
   "source": [
    "### Evaluation"
   ]
  },
  {
   "cell_type": "code",
   "execution_count": 15,
   "metadata": {},
   "outputs": [],
   "source": [
    "y_pred = []\n",
    "y_true = []\n",
    "for sent in eval_pairs:\n",
    "    prediccion = model.forward(sent[0])\n",
    "    y_pred.append(prediccion)\n",
    "    y_true.append(sent[1])"
   ]
  },
  {
   "cell_type": "code",
   "execution_count": 16,
   "metadata": {},
   "outputs": [],
   "source": [
    "y_true = list(chain(*y_true))\n",
    "y_pred = list(chain(*y_pred))"
   ]
  },
  {
   "cell_type": "code",
   "execution_count": 17,
   "metadata": {},
   "outputs": [
    {
     "name": "stdout",
     "output_type": "stream",
     "text": [
      "Accuracy: 0.5560073702268251\n"
     ]
    }
   ],
   "source": [
    "labels = list(set(y_true))\n",
    "labels.remove(' ')\n",
    "\n",
    "print('Accuracy:', accuracy_score(y_true, y_pred))"
   ]
  },
  {
   "cell_type": "code",
   "execution_count": 18,
   "metadata": {},
   "outputs": [
    {
     "name": "stderr",
     "output_type": "stream",
     "text": [
      "/home/mijangos/.local/lib/python3.8/site-packages/sklearn/metrics/_classification.py:1221: UndefinedMetricWarning: Precision and F-score are ill-defined and being set to 0.0 in labels with no predicted samples. Use `zero_division` parameter to control this behavior.\n",
      "  _warn_prf(average, modifier, msg_start, len(result))\n"
     ]
    }
   ],
   "source": [
    "\n",
    "prec, rec, f1, supp = precision_recall_fscore_support(y_true, y_pred, labels=labels)"
   ]
  },
  {
   "cell_type": "code",
   "execution_count": 19,
   "metadata": {},
   "outputs": [
    {
     "data": {
      "text/html": [
       "<div>\n",
       "<style scoped>\n",
       "    .dataframe tbody tr th:only-of-type {\n",
       "        vertical-align: middle;\n",
       "    }\n",
       "\n",
       "    .dataframe tbody tr th {\n",
       "        vertical-align: top;\n",
       "    }\n",
       "\n",
       "    .dataframe thead th {\n",
       "        text-align: right;\n",
       "    }\n",
       "</style>\n",
       "<table border=\"1\" class=\"dataframe\">\n",
       "  <thead>\n",
       "    <tr style=\"text-align: right;\">\n",
       "      <th></th>\n",
       "      <th>Precision</th>\n",
       "      <th>Recall</th>\n",
       "      <th>F1</th>\n",
       "      <th>Support</th>\n",
       "    </tr>\n",
       "  </thead>\n",
       "  <tbody>\n",
       "    <tr>\n",
       "      <th>B-2.obj</th>\n",
       "      <td>0.0</td>\n",
       "      <td>0.0</td>\n",
       "      <td>0.0</td>\n",
       "      <td>6.0</td>\n",
       "    </tr>\n",
       "    <tr>\n",
       "      <th>B-mujer/v</th>\n",
       "      <td>0.0</td>\n",
       "      <td>0.0</td>\n",
       "      <td>0.0</td>\n",
       "      <td>1.0</td>\n",
       "    </tr>\n",
       "    <tr>\n",
       "      <th>B-1.enf</th>\n",
       "      <td>0.0</td>\n",
       "      <td>0.0</td>\n",
       "      <td>0.0</td>\n",
       "      <td>11.0</td>\n",
       "    </tr>\n",
       "    <tr>\n",
       "      <th>I-chico</th>\n",
       "      <td>0.0</td>\n",
       "      <td>0.0</td>\n",
       "      <td>0.0</td>\n",
       "      <td>4.0</td>\n",
       "    </tr>\n",
       "    <tr>\n",
       "      <th>B-lig</th>\n",
       "      <td>0.0</td>\n",
       "      <td>0.0</td>\n",
       "      <td>0.0</td>\n",
       "      <td>100.0</td>\n",
       "    </tr>\n",
       "    <tr>\n",
       "      <th>...</th>\n",
       "      <td>...</td>\n",
       "      <td>...</td>\n",
       "      <td>...</td>\n",
       "      <td>...</td>\n",
       "    </tr>\n",
       "    <tr>\n",
       "      <th>B-dem</th>\n",
       "      <td>0.0</td>\n",
       "      <td>0.0</td>\n",
       "      <td>0.0</td>\n",
       "      <td>57.0</td>\n",
       "    </tr>\n",
       "    <tr>\n",
       "      <th>B-como</th>\n",
       "      <td>0.0</td>\n",
       "      <td>0.0</td>\n",
       "      <td>0.0</td>\n",
       "      <td>1.0</td>\n",
       "    </tr>\n",
       "    <tr>\n",
       "      <th>I-mexico</th>\n",
       "      <td>0.0</td>\n",
       "      <td>0.0</td>\n",
       "      <td>0.0</td>\n",
       "      <td>4.0</td>\n",
       "    </tr>\n",
       "    <tr>\n",
       "      <th>I-it</th>\n",
       "      <td>0.0</td>\n",
       "      <td>0.0</td>\n",
       "      <td>0.0</td>\n",
       "      <td>13.0</td>\n",
       "    </tr>\n",
       "    <tr>\n",
       "      <th>I-ctrf</th>\n",
       "      <td>0.0</td>\n",
       "      <td>0.0</td>\n",
       "      <td>0.0</td>\n",
       "      <td>65.0</td>\n",
       "    </tr>\n",
       "  </tbody>\n",
       "</table>\n",
       "<p>170 rows × 4 columns</p>\n",
       "</div>"
      ],
      "text/plain": [
       "           Precision  Recall   F1  Support\n",
       "B-2.obj          0.0     0.0  0.0      6.0\n",
       "B-mujer/v        0.0     0.0  0.0      1.0\n",
       "B-1.enf          0.0     0.0  0.0     11.0\n",
       "I-chico          0.0     0.0  0.0      4.0\n",
       "B-lig            0.0     0.0  0.0    100.0\n",
       "...              ...     ...  ...      ...\n",
       "B-dem            0.0     0.0  0.0     57.0\n",
       "B-como           0.0     0.0  0.0      1.0\n",
       "I-mexico         0.0     0.0  0.0      4.0\n",
       "I-it             0.0     0.0  0.0     13.0\n",
       "I-ctrf           0.0     0.0  0.0     65.0\n",
       "\n",
       "[170 rows x 4 columns]"
      ]
     },
     "execution_count": 19,
     "metadata": {},
     "output_type": "execute_result"
    }
   ],
   "source": [
    "results = pd.DataFrame(data=np.array([prec, rec, f1, supp]).T, index=labels, columns=['Precision','Recall','F1', 'Support'])\n",
    "results"
   ]
  },
  {
   "cell_type": "code",
   "execution_count": 20,
   "metadata": {},
   "outputs": [
    {
     "name": "stdout",
     "output_type": "stream",
     "text": [
      "               Precision  Recall        F1  Support\n",
      "B-2.obj         0.000000     0.0  0.000000      6.0\n",
      "B-mujer/v       0.000000     0.0  0.000000      1.0\n",
      "B-1.enf         0.000000     0.0  0.000000     11.0\n",
      "I-chico         0.000000     0.0  0.000000      4.0\n",
      "B-lig           0.000000     0.0  0.000000    100.0\n",
      "I-agujerear/v   0.000000     0.0  0.000000      3.0\n",
      "I-3.sg          0.000000     0.0  0.000000      6.0\n",
      "B-3.icp         0.000000     0.0  0.000000    115.0\n",
      "B-2.icp         0.000000     0.0  0.000000     33.0\n",
      "I-aqui          0.000000     0.0  0.000000      6.0\n",
      "B-muy           0.000000     0.0  0.000000     16.0\n",
      "I-2.cpl         0.000000     0.0  0.000000      3.0\n",
      "I-1.pss         0.000000     0.0  0.000000     57.0\n",
      "I-prt           0.000000     0.0  0.000000     15.0\n",
      "I-3.pot         0.000000     0.0  0.000000     91.0\n",
      "B-pl.exc        0.000000     0.0  0.000000     67.0\n",
      "I-solo          0.000000     0.0  0.000000      2.0\n",
      "I-dem           0.000000     0.0  0.000000     93.0\n",
      "I-1.icp.irr     0.000000     0.0  0.000000     12.0\n",
      "B-caus          0.000000     0.0  0.000000      1.0\n",
      "B-med           0.000000     0.0  0.000000      9.0\n",
      "I-1.icp         0.000000     0.0  0.000000     88.0\n",
      "I-ila           0.000000     0.0  0.000000     98.0\n",
      "I-2.enf         0.000000     0.0  0.000000      1.0\n",
      "B-2.pot         0.000000     0.0  0.000000      2.0\n",
      "I-3.cnt         0.000000     0.0  0.000000     22.0\n",
      "I-1.pls         0.000000     0.0  0.000000      3.0\n",
      "B-2.cnt         0.000000     0.0  0.000000     11.0\n",
      "I-1.prf         0.000000     0.0  0.000000     31.0\n",
      "I-pues          0.000000     0.0  0.000000      3.0\n",
      "I-pl.exc        0.000000     0.0  0.000000     67.0\n",
      "I-2.icp.irr     0.000000     0.0  0.000000      2.0\n",
      "I-tal.vez       0.000000     0.0  0.000000      1.0\n",
      "B-adj           0.000000     0.0  0.000000      2.0\n",
      "B-agujerear/v   0.000000     0.0  0.000000      1.0\n",
      "B-dios          0.000000     0.0  0.000000      1.0\n",
      "I-como          0.000000     0.0  0.000000      1.0\n",
      "I-encl          0.000000     0.0  0.000000      1.0\n",
      "B-dist          0.000000     0.0  0.000000      1.0\n",
      "B-pl            0.000000     0.0  0.000000     58.0\n",
      "B-3.icp.irr     0.000000     0.0  0.000000     12.0\n",
      "I-muy           0.000000     0.0  0.000000     32.0\n",
      "B-int           0.000000     0.0  0.000000      6.0\n",
      "B-2.pss         0.000000     0.0  0.000000     12.0\n",
      "I-para          0.000000     0.0  0.000000      1.0\n",
      "I-lim           0.000000     0.0  0.000000    235.0\n",
      "B-tal.vez       0.000000     0.0  0.000000      1.0\n",
      "B-1.cpl         0.000000     0.0  0.000000     62.0\n",
      "B-mod           0.000000     0.0  0.000000     16.0\n",
      "B-neg           0.000000     0.0  0.000000      8.0\n",
      "B-1.cnt         0.000000     0.0  0.000000     27.0\n",
      "B-solo          0.000000     0.0  0.000000      1.0\n",
      "B-mexico        0.000000     0.0  0.000000      1.0\n",
      "B-2             0.000000     0.0  0.000000      8.0\n",
      "I-det.pl        0.000000     0.0  0.000000     89.0\n",
      "B-det           0.000000     0.0  0.000000    246.0\n",
      "B-dual.exc      0.000000     0.0  0.000000     21.0\n",
      "B-conj.adv      0.000000     0.0  0.000000      1.0\n",
      "B-aum           0.000000     0.0  0.000000      3.0\n",
      "B-3.cnt         0.000000     0.0  0.000000     22.0\n",
      "B-1.obj         0.000000     0.0  0.000000     61.0\n",
      "B-para          0.000000     0.0  0.000000      1.0\n",
      "B-loco          0.000000     0.0  0.000000      1.0\n",
      "I-loco          0.000000     0.0  0.000000      3.0\n",
      "I-gen           0.000000     0.0  0.000000      6.0\n",
      "I-2.cnt         0.000000     0.0  0.000000     22.0\n",
      "I-por.que       0.000000     0.0  0.000000      1.0\n",
      "B-3.pls         0.000000     0.0  0.000000     19.0\n",
      "B-vez           0.000000     0.0  0.000000      1.0\n",
      "I-2.pot         0.000000     0.0  0.000000      2.0\n",
      "B-3.pot         0.000000     0.0  0.000000     91.0\n",
      "B-lim           0.000000     0.0  0.000000    123.0\n",
      "B-stem          0.000000     0.0  0.000000   2398.0\n",
      "B-1.pss         0.000000     0.0  0.000000     57.0\n",
      "B-chente        0.000000     0.0  0.000000      1.0\n",
      "B-3.obj         0.000000     0.0  0.000000     24.0\n",
      "I-pl            0.000000     0.0  0.000000     58.0\n",
      "I-3.prf         0.000000     0.0  0.000000     14.0\n",
      "B-1.icp.irr     0.000000     0.0  0.000000      6.0\n",
      "B-por.que       0.000000     0.0  0.000000      1.0\n",
      "B-aqui          0.000000     0.0  0.000000      3.0\n",
      "I-3.cpl.irr     0.000000     0.0  0.000000      2.0\n",
      "I-2.icp         0.000000     0.0  0.000000     33.0\n",
      "B-3.cpl.irr     0.000000     0.0  0.000000      1.0\n",
      "B-lugar/v       0.000000     0.0  0.000000      1.0\n",
      "I-3.pss         0.000000     0.0  0.000000     11.0\n",
      "I-mujer/v       0.000000     0.0  0.000000      4.0\n",
      "I-mov           0.000000     0.0  0.000000      1.0\n",
      "I-2.pss         0.000000     0.0  0.000000     12.0\n",
      "I-adj           0.000000     0.0  0.000000      2.0\n",
      "B-2.cpl         0.000000     0.0  0.000000      3.0\n",
      "I-int           0.000000     0.0  0.000000      7.0\n",
      "B-3.imp         0.000000     0.0  0.000000      6.0\n",
      "I-p.loc         0.000000     0.0  0.000000      4.0\n",
      "B-prag          0.000000     0.0  0.000000    115.0\n",
      "B-det.pl        0.000000     0.0  0.000000     88.0\n",
      "B-1.irr         0.000000     0.0  0.000000      1.0\n",
      "B-3.sg          0.000000     0.0  0.000000      2.0\n",
      "I-1.cnt         0.000000     0.0  0.000000     54.0\n",
      "B-dual          0.000000     0.0  0.000000      6.0\n",
      "B-2.enf         0.000000     0.0  0.000000      1.0\n",
      "I-prag          0.000000     0.0  0.000000    115.0\n",
      "I-3.imp         0.000000     0.0  0.000000     12.0\n",
      "I-1.pot         0.000000     0.0  0.000000     72.0\n",
      "I-3.pls         0.000000     0.0  0.000000     19.0\n",
      "I-1.cpl.irr     0.000000     0.0  0.000000      6.0\n",
      "I-3.obj         0.000000     0.0  0.000000     24.0\n",
      "B-loc           0.000000     0.0  0.000000     17.0\n",
      "B-y             0.000000     0.0  0.000000      5.0\n",
      "B-3.prf         0.000000     0.0  0.000000     14.0\n",
      "I-con           0.000000     0.0  0.000000      2.0\n",
      "I-2.prf         0.000000     0.0  0.000000      5.0\n",
      "B-2.icp.irr     0.000000     0.0  0.000000      1.0\n",
      "I-pueblo        0.000000     0.0  0.000000      4.0\n",
      "I-3.icp         0.000000     0.0  0.000000      4.0\n",
      "B-3.pss         0.000000     0.0  0.000000     11.0\n",
      "B-psd           0.000000     0.0  0.000000    140.0\n",
      "B-prt           0.000000     0.0  0.000000     13.0\n",
      "I-dual          0.000000     0.0  0.000000      6.0\n",
      "B-chico         0.000000     0.0  0.000000      1.0\n",
      "B-con           0.000000     0.0  0.000000      1.0\n",
      "I-det           0.000000     0.0  0.000000    247.0\n",
      "I-2             0.000000     0.0  0.000000      8.0\n",
      "I-1.enf         0.000000     0.0  0.000000     11.0\n",
      "I-vez           0.000000     0.0  0.000000      2.0\n",
      "B-mov           0.000000     0.0  0.000000      1.0\n",
      "B-pueblo        0.000000     0.0  0.000000      1.0\n",
      "I-toluca        0.000000     0.0  0.000000     12.0\n",
      "B-1.pot         0.000000     0.0  0.000000     72.0\n",
      "I-mod           0.000000     0.0  0.000000     28.0\n",
      "I-neg           0.000000     0.0  0.000000     13.0\n",
      "I-lugar/v       0.000000     0.0  0.000000      4.0\n",
      "I-caus          0.000000     0.0  0.000000      1.0\n",
      "B-gen           0.000000     0.0  0.000000      3.0\n",
      "B-3.cpl         0.000000     0.0  0.000000    132.0\n",
      "B-2.prf         0.000000     0.0  0.000000      5.0\n",
      "I-1.cpl         0.000000     0.0  0.000000     62.0\n",
      "I-3.cpl         0.000000     0.0  0.000000    132.0\n",
      "I-dual.exc      0.000000     0.0  0.000000     21.0\n",
      "B-1.icp         0.000000     0.0  0.000000     88.0\n",
      "I-dist          0.000000     0.0  0.000000      1.0\n",
      "I-3.icp.irr     0.000000     0.0  0.000000     12.0\n",
      "B-ila           0.000000     0.0  0.000000     49.0\n",
      "B-pues          0.000000     0.0  0.000000      3.0\n",
      "B-ctrf          0.000000     0.0  0.000000     65.0\n",
      "I-dim           0.000000     0.0  0.000000     76.0\n",
      "I-dios          0.000000     0.0  0.000000      2.0\n",
      "B-p.loc         0.000000     0.0  0.000000      4.0\n",
      "I-chente        0.000000     0.0  0.000000      5.0\n",
      "B-1.prf         0.000000     0.0  0.000000     31.0\n",
      "B-que           0.000000     0.0  0.000000      6.0\n",
      "I-1.obj         0.000000     0.0  0.000000     61.0\n",
      "I-loc           0.000000     0.0  0.000000     34.0\n",
      "B-it            0.000000     0.0  0.000000     13.0\n",
      "B-toluca        0.000000     0.0  0.000000      2.0\n",
      "I-stem          0.485723     1.0  0.653854   6600.0\n",
      "I-y             0.000000     0.0  0.000000      1.0\n",
      "I-aum           0.000000     0.0  0.000000      6.0\n",
      "B-1.pls         0.000000     0.0  0.000000      3.0\n",
      "B-encl          0.000000     0.0  0.000000      1.0\n",
      "I-1.irr         0.000000     0.0  0.000000      2.0\n",
      "I-2.obj         0.000000     0.0  0.000000     10.0\n",
      "B-1.cpl.irr     0.000000     0.0  0.000000      6.0\n",
      "I-que           0.000000     0.0  0.000000      6.0\n",
      "B-dim           0.000000     0.0  0.000000     38.0\n",
      "B-dem           0.000000     0.0  0.000000     57.0\n",
      "B-como          0.000000     0.0  0.000000      1.0\n",
      "I-mexico        0.000000     0.0  0.000000      4.0\n",
      "I-it            0.000000     0.0  0.000000     13.0\n",
      "I-ctrf          0.000000     0.0  0.000000     65.0\n"
     ]
    }
   ],
   "source": [
    "print(results.to_string())"
   ]
  },
  {
   "cell_type": "code",
   "execution_count": 21,
   "metadata": {},
   "outputs": [
    {
     "name": "stdout",
     "output_type": "stream",
     "text": [
      "Average precision: 0.23592653789222842\n",
      "Average recall: 0.485722696496909\n",
      "Average F1: 0.3175916184743015\n"
     ]
    }
   ],
   "source": [
    "aver_prec = (supp*prec).sum()/supp.sum()\n",
    "aver_rec = (supp*rec).sum()/supp.sum()\n",
    "aver_f1 = (supp*f1).sum()/supp.sum()\n",
    "\n",
    "print('Average precision: {}\\nAverage recall: {}\\nAverage F1: {}'.format(aver_prec, aver_rec, aver_f1))"
   ]
  },
  {
   "cell_type": "code",
   "execution_count": 14,
   "metadata": {},
   "outputs": [],
   "source": [
    "#torch.save(model,'Model.biLSTM.justChar')"
   ]
  }
 ],
 "metadata": {
  "kernelspec": {
   "display_name": "Python 3",
   "language": "python",
   "name": "python3"
  },
  "language_info": {
   "codemirror_mode": {
    "name": "ipython",
    "version": 3
   },
   "file_extension": ".py",
   "mimetype": "text/x-python",
   "name": "python",
   "nbconvert_exporter": "python",
   "pygments_lexer": "ipython3",
   "version": "3.8.5"
  }
 },
 "nbformat": 4,
 "nbformat_minor": 4
}
