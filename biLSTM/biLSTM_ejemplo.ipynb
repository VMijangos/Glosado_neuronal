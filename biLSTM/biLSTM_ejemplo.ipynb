{
 "cells": [
  {
   "cell_type": "markdown",
   "metadata": {},
   "source": [
    "# biLSTM para glosado\n",
    "\n",
    "Paqueterías:"
   ]
  },
  {
   "cell_type": "code",
   "execution_count": 1,
   "metadata": {},
   "outputs": [],
   "source": [
    "#Script donde está la biLSTM\n",
    "from reccurrent_model import biLSTM\n",
    "#From sklearn data splitter\n",
    "from sklearn.model_selection import train_test_split"
   ]
  },
  {
   "cell_type": "markdown",
   "metadata": {},
   "source": [
    "Cadenas de entrada y tags: Asumo que están separados por caracter y que el texto y las glosas están en dos listas distintas."
   ]
  },
  {
   "cell_type": "code",
   "execution_count": 2,
   "metadata": {},
   "outputs": [],
   "source": [
    "#Cadenas de entrada\n",
    "sents = [['é','l',' ','a','m','a','b','a'], ['r','o','b','a','b','a'], ['i','b','a']]\n",
    "#Glosas\n",
    "tags = [['B_stem', 'I_stem', ' ', 'B_stem', 'I_stem', 'I_stem', 'B_3SG.IMP', 'I_3SG.IMP'], \n",
    "        ['B_stem', 'I_stem', 'I_stem', 'I_stem', 'B_3SG.IMP', 'I_3SG.IMP'],\n",
    "        ['B_stem', 'B_3SG.IMP', 'I_3SG.IMP']]"
   ]
  },
  {
   "cell_type": "markdown",
   "metadata": {},
   "source": [
    "Separa los datos en entrenamiento y evaluación:\n",
    "\n",
    "Quizá si los datos están juntos, no se necesite hacer el $list(zip(...))$\n",
    "\n",
    "Los datos que toma la red deben estar separados, lo que se hace en la siguiente línea."
   ]
  },
  {
   "cell_type": "code",
   "execution_count": 3,
   "metadata": {},
   "outputs": [],
   "source": [
    "#Data split 33%\n",
    "train_pairs, eval_pairs = train_test_split(list(zip(sents, tags)), test_size=0.33)"
   ]
  },
  {
   "cell_type": "code",
   "execution_count": 4,
   "metadata": {},
   "outputs": [
    {
     "name": "stdout",
     "output_type": "stream",
     "text": [
      "(['r', 'o', 'b', 'a', 'b', 'a'], ['é', 'l', ' ', 'a', 'm', 'a', 'b', 'a'])\n",
      "(['B_stem', 'I_stem', 'I_stem', 'I_stem', 'B_3SG.IMP', 'I_3SG.IMP'], ['B_stem', 'I_stem', ' ', 'B_stem', 'I_stem', 'I_stem', 'B_3SG.IMP', 'I_3SG.IMP'])\n"
     ]
    }
   ],
   "source": [
    "#Separar el train en dos conjuntos\n",
    "train_sents, train_tags = zip(*train_pairs)\n",
    "\n",
    "print(train_sents)\n",
    "print(train_tags)"
   ]
  },
  {
   "cell_type": "markdown",
   "metadata": {},
   "source": [
    "#### Entrenar el modelo\n",
    "\n",
    "Se entrena la biLST con los datos como arriba se muestran. Se da la entrada y las glosas esperadas.\n",
    "\n",
    "Además, se pueden configurar los parámetros:\n",
    "\n",
    "* dim_emb, dimensión de los embeddings en la capa de embedding (default 100).\n",
    "* dim_lstm, dimensión de la capa de biLSTM (default 200)."
   ]
  },
  {
   "cell_type": "code",
   "execution_count": 5,
   "metadata": {},
   "outputs": [],
   "source": [
    "model = biLSTM(train_sents, train_tags)"
   ]
  },
  {
   "cell_type": "markdown",
   "metadata": {},
   "source": [
    "Para entrenar el modelo, se usa el método $train_model$.\n",
    "\n",
    "Se pueden configurar los parámetros:\n",
    "\n",
    "* its, número de iteraciones del entrenamiento (default 100).\n",
    "* lr, rango de aprendizaje (default 0.1)."
   ]
  },
  {
   "cell_type": "code",
   "execution_count": 6,
   "metadata": {},
   "outputs": [],
   "source": [
    "model.train_model()"
   ]
  },
  {
   "cell_type": "markdown",
   "metadata": {},
   "source": [
    "#### Correr la red\n",
    "\n",
    "Para correr la red se utiliza el método $forward$. $forward$ toma una cadena y regresa sus glosas con BIOs."
   ]
  },
  {
   "cell_type": "code",
   "execution_count": 7,
   "metadata": {},
   "outputs": [
    {
     "name": "stdout",
     "output_type": "stream",
     "text": [
      "['r', 'o', 'b', 'a', 'b', 'a']\n",
      "Predicho: ['B_stem', 'I_stem', 'I_stem', 'I_stem', 'B_3SG.IMP', 'I_3SG.IMP'] \n",
      "Original: ['B_stem', 'I_stem', 'I_stem', 'I_stem', 'B_3SG.IMP', 'I_3SG.IMP']\n",
      "['é', 'l', ' ', 'a', 'm', 'a', 'b', 'a']\n",
      "Predicho: ['B_stem', 'I_stem', 'I_stem', 'I_stem', 'I_stem', 'I_stem', 'B_3SG.IMP', 'I_3SG.IMP'] \n",
      "Original: ['B_stem', 'I_stem', ' ', 'B_stem', 'I_stem', 'I_stem', 'B_3SG.IMP', 'I_3SG.IMP']\n"
     ]
    }
   ],
   "source": [
    "for sent in train_pairs:\n",
    "    print(sent[0])\n",
    "    prediccion = model.forward(sent[0])\n",
    "    print('Predicho: {} \\nOriginal: {}'.format(prediccion,sent[1]))"
   ]
  },
  {
   "cell_type": "code",
   "execution_count": 8,
   "metadata": {},
   "outputs": [
    {
     "name": "stdout",
     "output_type": "stream",
     "text": [
      "['i', 'b', 'a']\n",
      "Predicho: ['I_stem', 'B_3SG.IMP', 'I_3SG.IMP'] \n",
      "Original: ['B_stem', 'B_3SG.IMP', 'I_3SG.IMP']\n"
     ]
    }
   ],
   "source": [
    "for sent in eval_pairs:\n",
    "    print(sent[0])\n",
    "    prediccion = model.forward(sent[0])\n",
    "    print('Predicho: {} \\nOriginal: {}'.format(prediccion,sent[1]))"
   ]
  },
  {
   "cell_type": "code",
   "execution_count": null,
   "metadata": {},
   "outputs": [],
   "source": []
  }
 ],
 "metadata": {
  "kernelspec": {
   "display_name": "Python 3",
   "language": "python",
   "name": "python3"
  },
  "language_info": {
   "codemirror_mode": {
    "name": "ipython",
    "version": 3
   },
   "file_extension": ".py",
   "mimetype": "text/x-python",
   "name": "python",
   "nbconvert_exporter": "python",
   "pygments_lexer": "ipython3",
   "version": "3.8.5"
  }
 },
 "nbformat": 4,
 "nbformat_minor": 4
}
