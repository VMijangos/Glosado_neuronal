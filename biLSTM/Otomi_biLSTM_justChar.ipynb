{
 "cells": [
  {
   "cell_type": "markdown",
   "metadata": {},
   "source": [
    "# biLSTM: Automatic glossing, otomi (corpus completo)"
   ]
  },
  {
   "cell_type": "code",
   "execution_count": 30,
   "metadata": {},
   "outputs": [],
   "source": [
    "from reccurrent_model import biLSTM\n",
    "from sklearn.model_selection import train_test_split\n",
    "from sklearn.metrics import accuracy_score, precision_recall_fscore_support\n",
    "from pickle import load\n",
    "from itertools import chain\n",
    "import pandas as pd\n",
    "import numpy as np\n",
    "import torch"
   ]
  },
  {
   "cell_type": "markdown",
   "metadata": {},
   "source": [
    "Sólo toma información de caracter y etiqueta. Elimina POS tags."
   ]
  },
  {
   "cell_type": "code",
   "execution_count": 2,
   "metadata": {},
   "outputs": [
    {
     "name": "stdout",
     "output_type": "stream",
     "text": [
      "[[['n', 'v', 'B-psd'], ['d', 'v', 'B-1.cpl'], ['ó', 'v', 'I-1.cpl'], ['p', 'v', 'B-stem'], ['h', 'v', 'I-stem'], ['μ', 'v', 'I-stem'], ['d', 'v', 'I-stem'], ['i', 'v', 'I-stem']], [['d', 'v', 'B-1.cpl'], ['ó', 'v', 'I-1.cpl'], ['p', 'v', 'B-stem'], ['ε', 'v', 'I-stem'], ['p', 'v', 'I-stem'], ['h', 'v', 'I-stem'], ['í', 'v', 'I-stem']], [['b', 'v', 'B-3.cpl'], ['i', 'v', 'I-3.cpl'], ['t', 'v', 'B-lig'], [\"'\", 'v', 'B-stem'], ['μ', 'v', 'I-stem'], ['n', 'v', 'I-stem'], ['g', 'v', 'B-1.obj'], ['í', 'v', 'I-1.obj']], [['b', 'v', 'B-3.cpl'], ['i', 'v', 'I-3.cpl'], ['m', 'v', 'B-stem'], ['ä', 'v', 'I-stem'], ['h', 'v', 'I-stem'], ['t', 'v', 'I-stem'], ['r', 'v', 'I-stem'], ['a', 'v', 'I-stem'], ['t', 'v', 'I-stem'], ['á', 'v', 'I-stem'], ['g', 'v', 'B-1.obj'], ['í', 'v', 'I-1.obj']], [['k', 'obl', 'B-stem'], ['o', 'obl', 'I-stem']], [['c', 'obl', 'B-stem'], ['h', 'obl', 'I-stem'], ['í', 'obl', 'I-stem'], ['k', 'obl', 'I-stem'], ['ó', 'obl', 'I-stem'], ['h', 'obl', 'I-stem'], ['t', 'obl', 'I-stem'], ['é', 'obl', 'I-stem']]] 1786\n"
     ]
    }
   ],
   "source": [
    "file1 = load(open('pickle_objects/predata','rb'))\n",
    "print(file1[0], len(file1))\n",
    "\n",
    "#file2 = load(open('pickle_objects/preinput_data','rb'))\n",
    "#print(file2[0], len(file2))\n",
    "\n",
    "#file3 = load(open('pickle_objects/X_input','rb'))\n",
    "#print(file3[0][:8], len(file3))\n",
    "\n",
    "#file4 = load(open('pickle_objects/y_input','rb'))\n",
    "#print(file4[0], len(file4))"
   ]
  },
  {
   "cell_type": "code",
   "execution_count": 3,
   "metadata": {},
   "outputs": [],
   "source": [
    "data = []\n",
    "\n",
    "for s in file1:\n",
    "    sent_data = []\n",
    "    for w in s:\n",
    "        #print(w)\n",
    "        word = [(x[0], x[2]) for x in w] + [(' ', ' ')]\n",
    "        sent_data.append(word)\n",
    "    \n",
    "    one_sent = list(chain(*sent_data))\n",
    "    one_sent.pop(-1)\n",
    "    data.append(list(zip(*one_sent)))\n",
    "    \n",
    "#print(data)"
   ]
  },
  {
   "cell_type": "markdown",
   "metadata": {},
   "source": [
    "### Training and test data"
   ]
  },
  {
   "cell_type": "code",
   "execution_count": 4,
   "metadata": {},
   "outputs": [
    {
     "name": "stdout",
     "output_type": "stream",
     "text": [
      "1196 590\n"
     ]
    }
   ],
   "source": [
    "#Data split 33%\n",
    "train_pairs, eval_pairs = train_test_split(data, test_size=0.33)\n",
    "print(len(train_pairs), len(eval_pairs))\n",
    "\n",
    "#Separar el train en dos conjuntos\n",
    "train_sents, train_tags = zip(*train_pairs)\n",
    "\n",
    "#print(train_sents)\n",
    "#print(train_tags)"
   ]
  },
  {
   "cell_type": "markdown",
   "metadata": {},
   "source": [
    "### Training the model"
   ]
  },
  {
   "cell_type": "code",
   "execution_count": 5,
   "metadata": {},
   "outputs": [],
   "source": [
    "model = biLSTM(train_sents, train_tags)"
   ]
  },
  {
   "cell_type": "code",
   "execution_count": 6,
   "metadata": {},
   "outputs": [
    {
     "name": "stderr",
     "output_type": "stream",
     "text": [
      "100%|██████████| 150/150 [1:02:41<00:00, 25.07s/it]"
     ]
    },
    {
     "name": "stdout",
     "output_type": "stream",
     "text": [
      "CPU times: user 10h 48min 36s, sys: 4min 46s, total: 10h 53min 22s\n",
      "Wall time: 1h 2min 41s\n"
     ]
    },
    {
     "name": "stderr",
     "output_type": "stream",
     "text": [
      "\n"
     ]
    }
   ],
   "source": [
    "%%time\n",
    "model.train_model(its=150)"
   ]
  },
  {
   "cell_type": "markdown",
   "metadata": {},
   "source": [
    "### Evaluation"
   ]
  },
  {
   "cell_type": "code",
   "execution_count": 22,
   "metadata": {},
   "outputs": [],
   "source": [
    "y_pred = []\n",
    "y_true = []\n",
    "for sent in eval_pairs:\n",
    "    prediccion = model.forward(sent[0])\n",
    "    y_pred.append(prediccion)\n",
    "    y_true.append(sent[1])"
   ]
  },
  {
   "cell_type": "code",
   "execution_count": 23,
   "metadata": {},
   "outputs": [
    {
     "name": "stdout",
     "output_type": "stream",
     "text": [
      "0.7042671379876279\n"
     ]
    }
   ],
   "source": [
    "y_true = list(chain(*y_true))\n",
    "y_pred = list(chain(*y_pred))\n",
    "\n",
    "print(accuracy_score(y_true, y_pred))"
   ]
  },
  {
   "cell_type": "code",
   "execution_count": 27,
   "metadata": {},
   "outputs": [
    {
     "name": "stderr",
     "output_type": "stream",
     "text": [
      "/home/mijangos/.local/lib/python3.8/site-packages/sklearn/metrics/_classification.py:1221: UndefinedMetricWarning: Precision and F-score are ill-defined and being set to 0.0 in labels with no predicted samples. Use `zero_division` parameter to control this behavior.\n",
      "  _warn_prf(average, modifier, msg_start, len(result))\n"
     ]
    }
   ],
   "source": [
    "labels = list(set(y_true))\n",
    "prec, rec, f1, supp = precision_recall_fscore_support(y_true, y_pred, labels=labels)"
   ]
  },
  {
   "cell_type": "code",
   "execution_count": 28,
   "metadata": {},
   "outputs": [
    {
     "data": {
      "text/html": [
       "<div>\n",
       "<style scoped>\n",
       "    .dataframe tbody tr th:only-of-type {\n",
       "        vertical-align: middle;\n",
       "    }\n",
       "\n",
       "    .dataframe tbody tr th {\n",
       "        vertical-align: top;\n",
       "    }\n",
       "\n",
       "    .dataframe thead th {\n",
       "        text-align: right;\n",
       "    }\n",
       "</style>\n",
       "<table border=\"1\" class=\"dataframe\">\n",
       "  <thead>\n",
       "    <tr style=\"text-align: right;\">\n",
       "      <th></th>\n",
       "      <th>Precision</th>\n",
       "      <th>Recall</th>\n",
       "      <th>F1</th>\n",
       "      <th>Support</th>\n",
       "    </tr>\n",
       "  </thead>\n",
       "  <tbody>\n",
       "    <tr>\n",
       "      <th>I-3.imp</th>\n",
       "      <td>0.0</td>\n",
       "      <td>0.0</td>\n",
       "      <td>0.0</td>\n",
       "      <td>8.0</td>\n",
       "    </tr>\n",
       "    <tr>\n",
       "      <th>B-dem</th>\n",
       "      <td>0.0</td>\n",
       "      <td>0.0</td>\n",
       "      <td>0.0</td>\n",
       "      <td>56.0</td>\n",
       "    </tr>\n",
       "    <tr>\n",
       "      <th>B-prt</th>\n",
       "      <td>0.0</td>\n",
       "      <td>0.0</td>\n",
       "      <td>0.0</td>\n",
       "      <td>14.0</td>\n",
       "    </tr>\n",
       "    <tr>\n",
       "      <th>B-det</th>\n",
       "      <td>0.0</td>\n",
       "      <td>0.0</td>\n",
       "      <td>0.0</td>\n",
       "      <td>242.0</td>\n",
       "    </tr>\n",
       "    <tr>\n",
       "      <th>B-aqui</th>\n",
       "      <td>0.0</td>\n",
       "      <td>0.0</td>\n",
       "      <td>0.0</td>\n",
       "      <td>2.0</td>\n",
       "    </tr>\n",
       "    <tr>\n",
       "      <th>...</th>\n",
       "      <td>...</td>\n",
       "      <td>...</td>\n",
       "      <td>...</td>\n",
       "      <td>...</td>\n",
       "    </tr>\n",
       "    <tr>\n",
       "      <th>B-2.pss</th>\n",
       "      <td>0.0</td>\n",
       "      <td>0.0</td>\n",
       "      <td>0.0</td>\n",
       "      <td>16.0</td>\n",
       "    </tr>\n",
       "    <tr>\n",
       "      <th>B-3.icp.irr</th>\n",
       "      <td>0.0</td>\n",
       "      <td>0.0</td>\n",
       "      <td>0.0</td>\n",
       "      <td>15.0</td>\n",
       "    </tr>\n",
       "    <tr>\n",
       "      <th>I-como</th>\n",
       "      <td>0.0</td>\n",
       "      <td>0.0</td>\n",
       "      <td>0.0</td>\n",
       "      <td>1.0</td>\n",
       "    </tr>\n",
       "    <tr>\n",
       "      <th>B-1.cpl.irr</th>\n",
       "      <td>0.0</td>\n",
       "      <td>0.0</td>\n",
       "      <td>0.0</td>\n",
       "      <td>5.0</td>\n",
       "    </tr>\n",
       "    <tr>\n",
       "      <th>I-que</th>\n",
       "      <td>0.0</td>\n",
       "      <td>0.0</td>\n",
       "      <td>0.0</td>\n",
       "      <td>3.0</td>\n",
       "    </tr>\n",
       "  </tbody>\n",
       "</table>\n",
       "<p>179 rows × 4 columns</p>\n",
       "</div>"
      ],
      "text/plain": [
       "             Precision  Recall   F1  Support\n",
       "I-3.imp            0.0     0.0  0.0      8.0\n",
       "B-dem              0.0     0.0  0.0     56.0\n",
       "B-prt              0.0     0.0  0.0     14.0\n",
       "B-det              0.0     0.0  0.0    242.0\n",
       "B-aqui             0.0     0.0  0.0      2.0\n",
       "...                ...     ...  ...      ...\n",
       "B-2.pss            0.0     0.0  0.0     16.0\n",
       "B-3.icp.irr        0.0     0.0  0.0     15.0\n",
       "I-como             0.0     0.0  0.0      1.0\n",
       "B-1.cpl.irr        0.0     0.0  0.0      5.0\n",
       "I-que              0.0     0.0  0.0      3.0\n",
       "\n",
       "[179 rows x 4 columns]"
      ]
     },
     "execution_count": 28,
     "metadata": {},
     "output_type": "execute_result"
    }
   ],
   "source": [
    "results = pd.DataFrame(data=np.array([prec, rec, f1, supp]).T, index=labels, columns=['Precision','Recall','F1', 'Support'])\n",
    "results"
   ]
  },
  {
   "cell_type": "code",
   "execution_count": 29,
   "metadata": {},
   "outputs": [
    {
     "name": "stdout",
     "output_type": "stream",
     "text": [
      "             Precision    Recall        F1  Support\n",
      "I-3.imp       0.000000  0.000000  0.000000      8.0\n",
      "B-dem         0.000000  0.000000  0.000000     56.0\n",
      "B-prt         0.000000  0.000000  0.000000     14.0\n",
      "B-det         0.000000  0.000000  0.000000    242.0\n",
      "B-aqui        0.000000  0.000000  0.000000      2.0\n",
      "B-por.que     0.000000  0.000000  0.000000      1.0\n",
      "B-it          0.000000  0.000000  0.000000     18.0\n",
      "I-dual.exc    0.000000  0.000000  0.000000     15.0\n",
      "B-prag        0.000000  0.000000  0.000000    113.0\n",
      "I-mientras    0.000000  0.000000  0.000000      3.0\n",
      "B-para        0.000000  0.000000  0.000000      1.0\n",
      "B-2.prf       0.000000  0.000000  0.000000      4.0\n",
      "B-tiempo      0.000000  0.000000  0.000000      1.0\n",
      "B-pueblo      0.000000  0.000000  0.000000      2.0\n",
      "I-3.sg        0.000000  0.000000  0.000000      6.0\n",
      "I-1.icp.irr   0.000000  0.000000  0.000000      6.0\n",
      "I-neg         0.000000  0.000000  0.000000      8.0\n",
      "I-1.cnt       0.000000  0.000000  0.000000     38.0\n",
      "B-dim         0.000000  0.000000  0.000000     37.0\n",
      "B-1.icp       0.000000  0.000000  0.000000     93.0\n",
      "B-1.irr       0.000000  0.000000  0.000000      2.0\n",
      "I-stem        0.684358  0.994127  0.810658   6641.0\n",
      "B-1.enf       0.000000  0.000000  0.000000     10.0\n",
      "I-tal.vez     0.000000  0.000000  0.000000      1.0\n",
      "I-det.dem     0.000000  0.000000  0.000000      3.0\n",
      "I-ctrf        0.000000  0.000000  0.000000     81.0\n",
      "I-int         0.000000  0.000000  0.000000      5.0\n",
      "B-com         0.000000  0.000000  0.000000      3.0\n",
      "I-3.cpl.irr   0.000000  0.000000  0.000000      2.0\n",
      "I-det.pl      0.000000  0.000000  0.000000     98.0\n",
      "I-dios        0.000000  0.000000  0.000000      2.0\n",
      "B-3.cnt       0.000000  0.000000  0.000000     26.0\n",
      "B-1.sg        0.000000  0.000000  0.000000      2.0\n",
      "I-1.sg        0.000000  0.000000  0.000000      6.0\n",
      "B-lim         0.000000  0.000000  0.000000    116.0\n",
      "B-2.pot       0.000000  0.000000  0.000000      1.0\n",
      "I-it          0.000000  0.000000  0.000000     18.0\n",
      "I-dim         0.000000  0.000000  0.000000     74.0\n",
      "B-hasta       0.000000  0.000000  0.000000      1.0\n",
      "I-1.pot       0.000000  0.000000  0.000000     76.0\n",
      "I-3.prf       0.000000  0.000000  0.000000     12.0\n",
      "I-3.cnt       0.000000  0.000000  0.000000     26.0\n",
      "I-solo        0.000000  0.000000  0.000000      2.0\n",
      "I-1.pss       0.000000  0.000000  0.000000     52.0\n",
      "B-med         0.000000  0.000000  0.000000      4.0\n",
      "I-cuando      0.000000  0.000000  0.000000      1.0\n",
      "I-pl          0.000000  0.000000  0.000000     42.0\n",
      "B-2.icp       0.000000  0.000000  0.000000     35.0\n",
      "I-aqui        0.000000  0.000000  0.000000      4.0\n",
      "I-lim         0.000000  0.000000  0.000000    227.0\n",
      "B-loc         0.000000  0.000000  0.000000     24.0\n",
      "B-stem        0.593012  0.969984  0.736037   2432.0\n",
      "I-3.pss       0.000000  0.000000  0.000000     11.0\n",
      "B-2.cnt       0.000000  0.000000  0.000000      7.0\n",
      "B-dios        0.000000  0.000000  0.000000      1.0\n",
      "B-1.cpl       0.000000  0.000000  0.000000     72.0\n",
      "I-2.cnt       0.000000  0.000000  0.000000     14.0\n",
      "I-cond        0.000000  0.000000  0.000000      2.0\n",
      "B-dual.exc    0.000000  0.000000  0.000000     15.0\n",
      "I-1.icp       0.000000  0.000000  0.000000     93.0\n",
      "B-det.dem     0.000000  0.000000  0.000000      1.0\n",
      "B-p.loc       0.000000  0.000000  0.000000      4.0\n",
      "B-3.cpl       0.000000  0.000000  0.000000    156.0\n",
      "B-adj         0.000000  0.000000  0.000000      1.0\n",
      "B-pl          0.000000  0.000000  0.000000     42.0\n",
      "B-3.obj       0.000000  0.000000  0.000000     28.0\n",
      "B-conj.adv    0.000000  0.000000  0.000000      1.0\n",
      "I-2.pss       0.000000  0.000000  0.000000     16.0\n",
      "B-aum         0.000000  0.000000  0.000000      7.0\n",
      "B-cuando      0.000000  0.000000  0.000000      1.0\n",
      "B-1.pls       0.000000  0.000000  0.000000      7.0\n",
      "I-dem         0.000000  0.000000  0.000000     81.0\n",
      "I-adj         0.000000  0.000000  0.000000      1.0\n",
      "I-2           0.000000  0.000000  0.000000      7.0\n",
      "I-2.obj       0.000000  0.000000  0.000000     13.0\n",
      "B-que         0.000000  0.000000  0.000000      3.0\n",
      "B-1.icp.irr   0.000000  0.000000  0.000000      3.0\n",
      "B-1.pot       0.000000  0.000000  0.000000     76.0\n",
      "B-mucho       0.000000  0.000000  0.000000      1.0\n",
      "B-mientras    0.000000  0.000000  0.000000      1.0\n",
      "B-tal.vez     0.000000  0.000000  0.000000      1.0\n",
      "B-dcl         0.000000  0.000000  0.000000      1.0\n",
      "B-3.cpl.irr   0.000000  0.000000  0.000000      1.0\n",
      "B-y           0.000000  0.000000  0.000000      3.0\n",
      "I-pueblo      0.000000  0.000000  0.000000      8.0\n",
      "I-por.que     0.000000  0.000000  0.000000      1.0\n",
      "B-dual        0.000000  0.000000  0.000000      9.0\n",
      "B-cond        0.000000  0.000000  0.000000      2.0\n",
      "I-det         0.000000  0.000000  0.000000    247.0\n",
      "I-pl.exc      0.000000  0.000000  0.000000     85.0\n",
      "I-1.pls       0.000000  0.000000  0.000000      7.0\n",
      "B-3.sg        0.000000  0.000000  0.000000      2.0\n",
      "B-rapido      0.000000  0.000000  0.000000      1.0\n",
      "B-3.prf       0.000000  0.000000  0.000000     12.0\n",
      "I-1.enf       0.000000  0.000000  0.000000     10.0\n",
      "B-gen         0.000000  0.000000  0.000000      2.0\n",
      "I-loc         0.000000  0.000000  0.000000     47.0\n",
      "B-1.obj       0.000000  0.000000  0.000000     38.0\n",
      "I-rapido      0.000000  0.000000  0.000000      1.0\n",
      "              0.990528  1.000000  0.995241   2196.0\n",
      "I-1.prf       0.000000  0.000000  0.000000     25.0\n",
      "B-2.cpl       0.000000  0.000000  0.000000      3.0\n",
      "B-lig         0.000000  0.000000  0.000000     93.0\n",
      "I-pues        0.000000  0.000000  0.000000      1.0\n",
      "I-2.pot       0.000000  0.000000  0.000000      1.0\n",
      "I-chente      0.000000  0.000000  0.000000      5.0\n",
      "I-gen         0.000000  0.000000  0.000000      4.0\n",
      "B-3.pss.pl    0.000000  0.000000  0.000000      1.0\n",
      "I-2.cpl       0.000000  0.000000  0.000000      3.0\n",
      "I-loco        0.000000  0.000000  0.000000      3.0\n",
      "B-como        0.000000  0.000000  0.000000      1.0\n",
      "B-neg         0.000000  0.000000  0.000000      4.0\n",
      "B-mod         0.000000  0.000000  0.000000     26.0\n",
      "I-dcl         0.000000  0.000000  0.000000      2.0\n",
      "I-2.prf       0.000000  0.000000  0.000000      4.0\n",
      "I-3.pot       0.000000  0.000000  0.000000     63.0\n",
      "I-prt         0.000000  0.000000  0.000000     15.0\n",
      "I-tiempo      0.000000  0.000000  0.000000      5.0\n",
      "I-3.cpl       0.000000  0.000000  0.000000    156.0\n",
      "I-dist        0.000000  0.000000  0.000000      1.0\n",
      "I-encl        0.000000  0.000000  0.000000      1.0\n",
      "I-3.pls       0.000000  0.000000  0.000000     19.0\n",
      "I-3.icp.irr   0.000000  0.000000  0.000000     15.0\n",
      "B-encl        0.000000  0.000000  0.000000      1.0\n",
      "I-aum         0.000000  0.000000  0.000000     14.0\n",
      "B-muy         0.000000  0.000000  0.000000     22.0\n",
      "I-com         0.000000  0.000000  0.000000      3.0\n",
      "B-psd         0.000000  0.000000  0.000000    128.0\n",
      "I-1.cpl.irr   0.000000  0.000000  0.000000      5.0\n",
      "I-3.pss.pl    0.000000  0.000000  0.000000      1.0\n",
      "B-3.pss       0.000000  0.000000  0.000000     11.0\n",
      "B-3.icp       0.000000  0.000000  0.000000    104.0\n",
      "B-eh          0.000000  0.000000  0.000000      1.0\n",
      "B-dist        0.000000  0.000000  0.000000      1.0\n",
      "I-prag        0.000000  0.000000  0.000000    113.0\n",
      "I-para        0.000000  0.000000  0.000000      1.0\n",
      "B-int         0.000000  0.000000  0.000000      4.0\n",
      "B-pues        0.000000  0.000000  0.000000      1.0\n",
      "I-mod         0.000000  0.000000  0.000000     42.0\n",
      "I-2.icp.irr   0.000000  0.000000  0.000000      2.0\n",
      "I-3.obj       0.000000  0.000000  0.000000     28.0\n",
      "I-hasta       0.000000  0.000000  0.000000      1.0\n",
      "I-toluca      0.000000  0.000000  0.000000     18.0\n",
      "I-3.icp       0.000000  0.000000  0.000000      1.0\n",
      "I-con         0.000000  0.000000  0.000000      2.0\n",
      "I-2.icp       0.000000  0.000000  0.000000     35.0\n",
      "I-eh          0.000000  0.000000  0.000000      1.0\n",
      "B-2           0.000000  0.000000  0.000000      7.0\n",
      "B-det.pl      0.000000  0.000000  0.000000     93.0\n",
      "B-loco        0.000000  0.000000  0.000000      1.0\n",
      "I-mucho       0.000000  0.000000  0.000000      2.0\n",
      "I-ila         0.000000  0.000000  0.000000     92.0\n",
      "B-3.pot       0.000000  0.000000  0.000000     63.0\n",
      "B-chente      0.000000  0.000000  0.000000      1.0\n",
      "I-dual        0.000000  0.000000  0.000000      9.0\n",
      "B-ctrf        0.000000  0.000000  0.000000     81.0\n",
      "I-p.loc       0.000000  0.000000  0.000000      4.0\n",
      "I-1.irr       0.000000  0.000000  0.000000      4.0\n",
      "I-lig         0.000000  0.000000  0.000000      1.0\n",
      "I-1.obj       0.000000  0.000000  0.000000     38.0\n",
      "B-ila         0.000000  0.000000  0.000000     46.0\n",
      "I-1.cpl       0.000000  0.000000  0.000000     72.0\n",
      "B-3.pls       0.000000  0.000000  0.000000     19.0\n",
      "B-toluca      0.000000  0.000000  0.000000      3.0\n",
      "B-1.prf       0.000000  0.000000  0.000000     25.0\n",
      "I-muy         0.000000  0.000000  0.000000     44.0\n",
      "B-1.pss       0.000000  0.000000  0.000000     52.0\n",
      "B-con         0.000000  0.000000  0.000000      1.0\n",
      "B-solo        0.000000  0.000000  0.000000      1.0\n",
      "B-2.icp.irr   0.000000  0.000000  0.000000      1.0\n",
      "B-pl.exc      0.000000  0.000000  0.000000     85.0\n",
      "B-3.imp       0.000000  0.000000  0.000000      4.0\n",
      "B-2.obj       0.000000  0.000000  0.000000      7.0\n",
      "B-1.cnt       0.000000  0.000000  0.000000     19.0\n",
      "B-2.pss       0.000000  0.000000  0.000000     16.0\n",
      "B-3.icp.irr   0.000000  0.000000  0.000000     15.0\n",
      "I-como        0.000000  0.000000  0.000000      1.0\n",
      "B-1.cpl.irr   0.000000  0.000000  0.000000      5.0\n",
      "I-que         0.000000  0.000000  0.000000      3.0\n"
     ]
    }
   ],
   "source": [
    "print(results.to_string())"
   ]
  },
  {
   "cell_type": "code",
   "execution_count": 32,
   "metadata": {},
   "outputs": [],
   "source": [
    "#torch.save(model,'Model.biLSTM.justChar')"
   ]
  },
  {
   "cell_type": "code",
   "execution_count": null,
   "metadata": {},
   "outputs": [],
   "source": []
  }
 ],
 "metadata": {
  "kernelspec": {
   "display_name": "Python 3",
   "language": "python",
   "name": "python3"
  },
  "language_info": {
   "codemirror_mode": {
    "name": "ipython",
    "version": 3
   },
   "file_extension": ".py",
   "mimetype": "text/x-python",
   "name": "python",
   "nbconvert_exporter": "python",
   "pygments_lexer": "ipython3",
   "version": "3.8.5"
  }
 },
 "nbformat": 4,
 "nbformat_minor": 4
}
