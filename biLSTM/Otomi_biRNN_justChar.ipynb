{
 "cells": [
  {
   "cell_type": "markdown",
   "metadata": {},
   "source": [
    "# Bidirectional Vanilla RNN corpus Otomi"
   ]
  },
  {
   "cell_type": "code",
   "execution_count": 1,
   "metadata": {},
   "outputs": [],
   "source": [
    "from reccurrent_model import biRNN\n",
    "from sklearn.model_selection import train_test_split\n",
    "from sklearn.metrics import accuracy_score, precision_recall_fscore_support\n",
    "from pickle import load\n",
    "from itertools import chain\n",
    "import pandas as pd\n",
    "import numpy as np\n",
    "import torch"
   ]
  },
  {
   "cell_type": "code",
   "execution_count": 2,
   "metadata": {},
   "outputs": [
    {
     "name": "stdout",
     "output_type": "stream",
     "text": [
      "[[['n', 'v', 'B-psd'], ['d', 'v', 'B-1.cpl'], ['ó', 'v', 'I-1.cpl'], ['p', 'v', 'B-stem'], ['h', 'v', 'I-stem'], ['μ', 'v', 'I-stem'], ['d', 'v', 'I-stem'], ['i', 'v', 'I-stem']], [['d', 'v', 'B-1.cpl'], ['ó', 'v', 'I-1.cpl'], ['p', 'v', 'B-stem'], ['ε', 'v', 'I-stem'], ['p', 'v', 'I-stem'], ['h', 'v', 'I-stem'], ['í', 'v', 'I-stem']], [['b', 'v', 'B-3.cpl'], ['i', 'v', 'I-3.cpl'], ['t', 'v', 'B-lig'], [\"'\", 'v', 'B-stem'], ['μ', 'v', 'I-stem'], ['n', 'v', 'I-stem'], ['g', 'v', 'B-1.obj'], ['í', 'v', 'I-1.obj']], [['b', 'v', 'B-3.cpl'], ['i', 'v', 'I-3.cpl'], ['m', 'v', 'B-stem'], ['ä', 'v', 'I-stem'], ['h', 'v', 'I-stem'], ['t', 'v', 'I-stem'], ['r', 'v', 'I-stem'], ['a', 'v', 'I-stem'], ['t', 'v', 'I-stem'], ['á', 'v', 'I-stem'], ['g', 'v', 'B-1.obj'], ['í', 'v', 'I-1.obj']], [['k', 'obl', 'B-stem'], ['o', 'obl', 'I-stem']], [['c', 'obl', 'B-stem'], ['h', 'obl', 'I-stem'], ['í', 'obl', 'I-stem'], ['k', 'obl', 'I-stem'], ['ó', 'obl', 'I-stem'], ['h', 'obl', 'I-stem'], ['t', 'obl', 'I-stem'], ['é', 'obl', 'I-stem']]] 1786\n"
     ]
    }
   ],
   "source": [
    "file1 = load(open('pickle_objects/predata','rb'))\n",
    "print(file1[0], len(file1))"
   ]
  },
  {
   "cell_type": "code",
   "execution_count": 3,
   "metadata": {},
   "outputs": [],
   "source": [
    "data = []\n",
    "\n",
    "for s in file1:\n",
    "    sent_data = []\n",
    "    for w in s:\n",
    "        #print(w)\n",
    "        word = [(x[0], x[2]) for x in w] + [(' ', ' ')]\n",
    "        sent_data.append(word)\n",
    "    \n",
    "    one_sent = list(chain(*sent_data))\n",
    "    one_sent.pop(-1)\n",
    "    data.append(list(zip(*one_sent)))"
   ]
  },
  {
   "cell_type": "code",
   "execution_count": 4,
   "metadata": {},
   "outputs": [
    {
     "name": "stdout",
     "output_type": "stream",
     "text": [
      "1196 590\n"
     ]
    }
   ],
   "source": [
    "#Data split 33%\n",
    "train_pairs, eval_pairs = train_test_split(data, test_size=0.33)\n",
    "print(len(train_pairs), len(eval_pairs))\n",
    "\n",
    "#Separar el train en dos conjuntos\n",
    "train_sents, train_tags = zip(*train_pairs)"
   ]
  },
  {
   "cell_type": "code",
   "execution_count": 5,
   "metadata": {},
   "outputs": [],
   "source": [
    "model = biRNN(train_sents, train_tags)"
   ]
  },
  {
   "cell_type": "code",
   "execution_count": 6,
   "metadata": {},
   "outputs": [
    {
     "name": "stderr",
     "output_type": "stream",
     "text": [
      "100%|██████████| 150/150 [25:30<00:00, 10.20s/it]"
     ]
    },
    {
     "name": "stdout",
     "output_type": "stream",
     "text": [
      "CPU times: user 4h 36min 45s, sys: 42.5 s, total: 4h 37min 28s\n",
      "Wall time: 25min 30s\n"
     ]
    },
    {
     "name": "stderr",
     "output_type": "stream",
     "text": [
      "\n"
     ]
    }
   ],
   "source": [
    "%%time\n",
    "model.train_model(its=150)"
   ]
  },
  {
   "cell_type": "markdown",
   "metadata": {},
   "source": [
    "### Evaluation"
   ]
  },
  {
   "cell_type": "code",
   "execution_count": 7,
   "metadata": {},
   "outputs": [],
   "source": [
    "y_pred = []\n",
    "y_true = []\n",
    "for sent in eval_pairs:\n",
    "    prediccion = model.forward(sent[0])\n",
    "    y_pred.append(prediccion)\n",
    "    y_true.append(sent[1])"
   ]
  },
  {
   "cell_type": "code",
   "execution_count": 8,
   "metadata": {},
   "outputs": [],
   "source": [
    "y_true = list(chain(*y_true))\n",
    "y_pred = list(chain(*y_pred))"
   ]
  },
  {
   "cell_type": "code",
   "execution_count": 9,
   "metadata": {},
   "outputs": [
    {
     "name": "stdout",
     "output_type": "stream",
     "text": [
      "Accuracy: 0.7648679103543258\n"
     ]
    }
   ],
   "source": [
    "labels = list(set(y_true))\n",
    "labels.remove(' ')\n",
    "\n",
    "print('Accuracy:', accuracy_score(y_true, y_pred))"
   ]
  },
  {
   "cell_type": "code",
   "execution_count": 10,
   "metadata": {},
   "outputs": [
    {
     "name": "stderr",
     "output_type": "stream",
     "text": [
      "/home/mijangos/.local/lib/python3.8/site-packages/sklearn/metrics/_classification.py:1221: UndefinedMetricWarning: Precision and F-score are ill-defined and being set to 0.0 in labels with no predicted samples. Use `zero_division` parameter to control this behavior.\n",
      "  _warn_prf(average, modifier, msg_start, len(result))\n"
     ]
    }
   ],
   "source": [
    "prec, rec, f1, supp = precision_recall_fscore_support(y_true, y_pred, labels=labels)"
   ]
  },
  {
   "cell_type": "code",
   "execution_count": 11,
   "metadata": {},
   "outputs": [
    {
     "data": {
      "text/html": [
       "<div>\n",
       "<style scoped>\n",
       "    .dataframe tbody tr th:only-of-type {\n",
       "        vertical-align: middle;\n",
       "    }\n",
       "\n",
       "    .dataframe tbody tr th {\n",
       "        vertical-align: top;\n",
       "    }\n",
       "\n",
       "    .dataframe thead th {\n",
       "        text-align: right;\n",
       "    }\n",
       "</style>\n",
       "<table border=\"1\" class=\"dataframe\">\n",
       "  <thead>\n",
       "    <tr style=\"text-align: right;\">\n",
       "      <th></th>\n",
       "      <th>Precision</th>\n",
       "      <th>Recall</th>\n",
       "      <th>F1</th>\n",
       "      <th>Support</th>\n",
       "    </tr>\n",
       "  </thead>\n",
       "  <tbody>\n",
       "    <tr>\n",
       "      <th>B-y</th>\n",
       "      <td>0.0</td>\n",
       "      <td>0.0</td>\n",
       "      <td>0.0</td>\n",
       "      <td>4.0</td>\n",
       "    </tr>\n",
       "    <tr>\n",
       "      <th>I-3.imp</th>\n",
       "      <td>0.0</td>\n",
       "      <td>0.0</td>\n",
       "      <td>0.0</td>\n",
       "      <td>7.0</td>\n",
       "    </tr>\n",
       "    <tr>\n",
       "      <th>I-1.irr</th>\n",
       "      <td>0.0</td>\n",
       "      <td>0.0</td>\n",
       "      <td>0.0</td>\n",
       "      <td>2.0</td>\n",
       "    </tr>\n",
       "    <tr>\n",
       "      <th>I-loco</th>\n",
       "      <td>0.0</td>\n",
       "      <td>0.0</td>\n",
       "      <td>0.0</td>\n",
       "      <td>3.0</td>\n",
       "    </tr>\n",
       "    <tr>\n",
       "      <th>B-3.pss</th>\n",
       "      <td>0.0</td>\n",
       "      <td>0.0</td>\n",
       "      <td>0.0</td>\n",
       "      <td>8.0</td>\n",
       "    </tr>\n",
       "    <tr>\n",
       "      <th>...</th>\n",
       "      <td>...</td>\n",
       "      <td>...</td>\n",
       "      <td>...</td>\n",
       "      <td>...</td>\n",
       "    </tr>\n",
       "    <tr>\n",
       "      <th>B-dónde</th>\n",
       "      <td>0.0</td>\n",
       "      <td>0.0</td>\n",
       "      <td>0.0</td>\n",
       "      <td>1.0</td>\n",
       "    </tr>\n",
       "    <tr>\n",
       "      <th>I-y</th>\n",
       "      <td>0.0</td>\n",
       "      <td>0.0</td>\n",
       "      <td>0.0</td>\n",
       "      <td>1.0</td>\n",
       "    </tr>\n",
       "    <tr>\n",
       "      <th>B-tal.vez</th>\n",
       "      <td>0.0</td>\n",
       "      <td>0.0</td>\n",
       "      <td>0.0</td>\n",
       "      <td>1.0</td>\n",
       "    </tr>\n",
       "    <tr>\n",
       "      <th>B-solo</th>\n",
       "      <td>0.0</td>\n",
       "      <td>0.0</td>\n",
       "      <td>0.0</td>\n",
       "      <td>2.0</td>\n",
       "    </tr>\n",
       "    <tr>\n",
       "      <th>B-uno</th>\n",
       "      <td>0.0</td>\n",
       "      <td>0.0</td>\n",
       "      <td>0.0</td>\n",
       "      <td>1.0</td>\n",
       "    </tr>\n",
       "  </tbody>\n",
       "</table>\n",
       "<p>167 rows × 4 columns</p>\n",
       "</div>"
      ],
      "text/plain": [
       "           Precision  Recall   F1  Support\n",
       "B-y              0.0     0.0  0.0      4.0\n",
       "I-3.imp          0.0     0.0  0.0      7.0\n",
       "I-1.irr          0.0     0.0  0.0      2.0\n",
       "I-loco           0.0     0.0  0.0      3.0\n",
       "B-3.pss          0.0     0.0  0.0      8.0\n",
       "...              ...     ...  ...      ...\n",
       "B-dónde          0.0     0.0  0.0      1.0\n",
       "I-y              0.0     0.0  0.0      1.0\n",
       "B-tal.vez        0.0     0.0  0.0      1.0\n",
       "B-solo           0.0     0.0  0.0      2.0\n",
       "B-uno            0.0     0.0  0.0      1.0\n",
       "\n",
       "[167 rows x 4 columns]"
      ]
     },
     "execution_count": 11,
     "metadata": {},
     "output_type": "execute_result"
    }
   ],
   "source": [
    "results = pd.DataFrame(data=np.array([prec, rec, f1, supp]).T, index=labels, columns=['Precision','Recall','F1', 'Support'])\n",
    "results"
   ]
  },
  {
   "cell_type": "code",
   "execution_count": 12,
   "metadata": {},
   "outputs": [
    {
     "name": "stdout",
     "output_type": "stream",
     "text": [
      "               Precision    Recall        F1  Support\n",
      "B-y             0.000000  0.000000  0.000000      4.0\n",
      "I-3.imp         0.000000  0.000000  0.000000      7.0\n",
      "I-1.irr         0.000000  0.000000  0.000000      2.0\n",
      "I-loco          0.000000  0.000000  0.000000      3.0\n",
      "B-3.pss         0.000000  0.000000  0.000000      8.0\n",
      "B-que           0.000000  0.000000  0.000000      4.0\n",
      "I-1.enf         0.000000  0.000000  0.000000      6.0\n",
      "I-dual.exc      0.000000  0.000000  0.000000     22.0\n",
      "B-1.icp         0.614865  1.000000  0.761506     91.0\n",
      "B-encl          0.000000  0.000000  0.000000      1.0\n",
      "B-pl.exc        0.000000  0.000000  0.000000     72.0\n",
      "B-p.loc         0.000000  0.000000  0.000000      4.0\n",
      "I-que           0.000000  0.000000  0.000000      4.0\n",
      "B-comp          0.000000  0.000000  0.000000      1.0\n",
      "B-mucho         0.000000  0.000000  0.000000      1.0\n",
      "B-2.cnt         0.000000  0.000000  0.000000      9.0\n",
      "B-com           0.000000  0.000000  0.000000      1.0\n",
      "I-3.pot         0.882353  0.974026  0.925926     77.0\n",
      "B-dual          0.000000  0.000000  0.000000      7.0\n",
      "I-p.loc         0.000000  0.000000  0.000000      4.0\n",
      "I-2.prf         0.000000  0.000000  0.000000      1.0\n",
      "B-ctrf          0.000000  0.000000  0.000000     93.0\n",
      "B-dem           0.000000  0.000000  0.000000     64.0\n",
      "B-2.pss         0.000000  0.000000  0.000000     11.0\n",
      "I-3.sg          0.000000  0.000000  0.000000      3.0\n",
      "I-1.obj         0.000000  0.000000  0.000000     44.0\n",
      "I-3.cpl         0.946309  0.979167  0.962457    144.0\n",
      "B-caus          0.000000  0.000000  0.000000      1.0\n",
      "B-2             0.000000  0.000000  0.000000      5.0\n",
      "B-1.pss         0.000000  0.000000  0.000000     60.0\n",
      "I-3.icp.irr     0.000000  0.000000  0.000000     10.0\n",
      "B-1.cpl.irr     0.000000  0.000000  0.000000      2.0\n",
      "I-solo          0.000000  0.000000  0.000000      4.0\n",
      "I-toluca        0.000000  0.000000  0.000000     12.0\n",
      "B-psd           0.000000  0.000000  0.000000    123.0\n",
      "B-1.obj         0.000000  0.000000  0.000000     44.0\n",
      "I-1.cnt         0.513158  0.975000  0.672414     40.0\n",
      "B-prf           0.000000  0.000000  0.000000      1.0\n",
      "I-pues          0.000000  0.000000  0.000000      4.0\n",
      "B-dual.exc      0.000000  0.000000  0.000000     22.0\n",
      "B-pues          0.000000  0.000000  0.000000      4.0\n",
      "B-pueblo        0.000000  0.000000  0.000000      1.0\n",
      "B-stem          0.727273  0.977995  0.834202   2454.0\n",
      "B-1.cnt         0.000000  0.000000  0.000000     20.0\n",
      "I-prt           0.000000  0.000000  0.000000     30.0\n",
      "B-2.cpl         0.000000  0.000000  0.000000      3.0\n",
      "I-uno           0.000000  0.000000  0.000000      1.0\n",
      "B-agujerear/v   0.000000  0.000000  0.000000      1.0\n",
      "I-1.cpl         0.984127  0.968750  0.976378     64.0\n",
      "I-lig           0.000000  0.000000  0.000000      1.0\n",
      "I-mod           0.000000  0.000000  0.000000     37.0\n",
      "I-3.cnt         0.000000  0.000000  0.000000     23.0\n",
      "B-loco          0.000000  0.000000  0.000000      1.0\n",
      "B-3.cnt         0.000000  0.000000  0.000000     23.0\n",
      "I-adj           0.000000  0.000000  0.000000      1.0\n",
      "B-vez           0.000000  0.000000  0.000000      1.0\n",
      "I-ila           0.000000  0.000000  0.000000    100.0\n",
      "B-3.icp.irr     0.000000  0.000000  0.000000     10.0\n",
      "B-neg           0.000000  0.000000  0.000000      6.0\n",
      "B-dcl           0.000000  0.000000  0.000000      1.0\n",
      "I-dios          0.000000  0.000000  0.000000      2.0\n",
      "B-2.icp         0.000000  0.000000  0.000000     36.0\n",
      "I-tal.vez       0.000000  0.000000  0.000000      1.0\n",
      "B-1.enf         0.000000  0.000000  0.000000      6.0\n",
      "B-pl            0.000000  0.000000  0.000000     55.0\n",
      "B-det           0.000000  0.000000  0.000000    220.0\n",
      "B-3.obj         0.000000  0.000000  0.000000     16.0\n",
      "I-1.pss         0.000000  0.000000  0.000000     60.0\n",
      "I-pueblo        0.000000  0.000000  0.000000      4.0\n",
      "I-int           0.000000  0.000000  0.000000      8.0\n",
      "I-it            0.000000  0.000000  0.000000     19.0\n",
      "I-dual          0.000000  0.000000  0.000000      7.0\n",
      "B-si            0.000000  0.000000  0.000000      1.0\n",
      "B-it            0.000000  0.000000  0.000000     19.0\n",
      "B-3.pot         0.872093  0.974026  0.920245     77.0\n",
      "B-1.pls         0.000000  0.000000  0.000000      4.0\n",
      "B-toluca        0.000000  0.000000  0.000000      2.0\n",
      "I-prag          0.000000  0.000000  0.000000    112.0\n",
      "I-neg           0.000000  0.000000  0.000000     14.0\n",
      "B-muy           0.000000  0.000000  0.000000     20.0\n",
      "I-det           0.000000  0.000000  0.000000    221.0\n",
      "I-dem           0.000000  0.000000  0.000000    106.0\n",
      "B-dios          0.000000  0.000000  0.000000      1.0\n",
      "I-pl.exc        0.000000  0.000000  0.000000     72.0\n",
      "B-ila           0.000000  0.000000  0.000000     50.0\n",
      "B-det.dem       0.000000  0.000000  0.000000      1.0\n",
      "I-mucho         0.000000  0.000000  0.000000      2.0\n",
      "B-adj           0.000000  0.000000  0.000000      1.0\n",
      "B-por.que       0.000000  0.000000  0.000000      2.0\n",
      "B-3.icp         0.636943  0.900901  0.746269    111.0\n",
      "I-encl          0.000000  0.000000  0.000000      1.0\n",
      "I-2.cpl         0.000000  0.000000  0.000000      3.0\n",
      "I-3.cpl.irr     0.000000  0.000000  0.000000      4.0\n",
      "B-prag          0.000000  0.000000  0.000000    112.0\n",
      "B-3.prf         0.000000  0.000000  0.000000     17.0\n",
      "I-loc           0.000000  0.000000  0.000000     44.0\n",
      "I-1.cpl.irr     0.000000  0.000000  0.000000      2.0\n",
      "I-3.obj         0.000000  0.000000  0.000000     16.0\n",
      "B-1.icp.irr     0.000000  0.000000  0.000000      2.0\n",
      "I-stem          0.722676  0.992369  0.836318   6683.0\n",
      "I-caus          0.000000  0.000000  0.000000      1.0\n",
      "I-dcl           0.000000  0.000000  0.000000      2.0\n",
      "I-3.icp         0.000000  0.000000  0.000000      8.0\n",
      "I-2.obj         0.000000  0.000000  0.000000     10.0\n",
      "B-int           0.000000  0.000000  0.000000      7.0\n",
      "I-2             0.000000  0.000000  0.000000      5.0\n",
      "I-gen           0.000000  0.000000  0.000000      2.0\n",
      "I-agujerear/v   0.000000  0.000000  0.000000      3.0\n",
      "I-2.cnt         0.000000  0.000000  0.000000     18.0\n",
      "I-3.pss         0.000000  0.000000  0.000000      8.0\n",
      "B-loc           0.000000  0.000000  0.000000     23.0\n",
      "I-dim           0.000000  0.000000  0.000000    114.0\n",
      "B-2.pot         0.000000  0.000000  0.000000      2.0\n",
      "I-1.icp         0.782609  0.989011  0.873786     91.0\n",
      "I-3.prf         0.000000  0.000000  0.000000     17.0\n",
      "B-gen           0.000000  0.000000  0.000000      1.0\n",
      "I-vez           0.000000  0.000000  0.000000      2.0\n",
      "I-2.icp         0.000000  0.000000  0.000000     36.0\n",
      "B-cond          0.000000  0.000000  0.000000      1.0\n",
      "B-dim           0.000000  0.000000  0.000000     57.0\n",
      "I-1.pls         0.000000  0.000000  0.000000      4.0\n",
      "B-aqui          0.000000  0.000000  0.000000      3.0\n",
      "B-2.prf         0.000000  0.000000  0.000000      1.0\n",
      "I-si            0.000000  0.000000  0.000000      1.0\n",
      "I-aqui          0.000000  0.000000  0.000000      5.0\n",
      "I-1.icp.irr     0.000000  0.000000  0.000000      4.0\n",
      "I-chente        0.000000  0.000000  0.000000      5.0\n",
      "B-chente        0.000000  0.000000  0.000000      1.0\n",
      "I-1.pot         0.977778  0.977778  0.977778     90.0\n",
      "I-muy           0.000000  0.000000  0.000000     40.0\n",
      "I-det.dem       0.000000  0.000000  0.000000      3.0\n",
      "B-3.cpl.irr     0.000000  0.000000  0.000000      2.0\n",
      "B-hasta         0.000000  0.000000  0.000000      1.0\n",
      "B-3.sg          0.000000  0.000000  0.000000      1.0\n",
      "I-pl            0.000000  0.000000  0.000000     54.0\n",
      "I-2.pot         0.000000  0.000000  0.000000      2.0\n",
      "B-det.pl        0.000000  0.000000  0.000000     95.0\n",
      "I-ctrf          0.000000  0.000000  0.000000     93.0\n",
      "B-1.cpl         0.000000  0.000000  0.000000     64.0\n",
      "B-mod           0.000000  0.000000  0.000000     17.0\n",
      "I-3.pls         0.000000  0.000000  0.000000     20.0\n",
      "I-lim           0.000000  0.000000  0.000000    251.0\n",
      "I-hasta         0.000000  0.000000  0.000000      1.0\n",
      "B-1.irr         0.000000  0.000000  0.000000      1.0\n",
      "I-det.pl        0.000000  0.000000  0.000000     99.0\n",
      "B-3.imp         0.000000  0.000000  0.000000      4.0\n",
      "I-1.prf         0.000000  0.000000  0.000000     21.0\n",
      "B-prt           0.000000  0.000000  0.000000     20.0\n",
      "I-com           0.000000  0.000000  0.000000      1.0\n",
      "B-1.pot         0.593333  0.988889  0.741667     90.0\n",
      "B-3.cpl         0.769231  0.972222  0.858896    144.0\n",
      "B-1.prf         0.000000  0.000000  0.000000     21.0\n",
      "B-med           0.000000  0.000000  0.000000      7.0\n",
      "B-2.obj         0.000000  0.000000  0.000000      5.0\n",
      "I-cond          0.000000  0.000000  0.000000      1.0\n",
      "I-por.que       0.000000  0.000000  0.000000      2.0\n",
      "I-prf           0.000000  0.000000  0.000000      1.0\n",
      "I-comp          0.000000  0.000000  0.000000      1.0\n",
      "B-3.pls         0.000000  0.000000  0.000000     20.0\n",
      "B-lig           0.000000  0.000000  0.000000     95.0\n",
      "B-lim           0.000000  0.000000  0.000000    130.0\n",
      "I-2.pss         0.000000  0.000000  0.000000     11.0\n",
      "B-dónde         0.000000  0.000000  0.000000      1.0\n",
      "I-y             0.000000  0.000000  0.000000      1.0\n",
      "B-tal.vez       0.000000  0.000000  0.000000      1.0\n",
      "B-solo          0.000000  0.000000  0.000000      2.0\n",
      "B-uno           0.000000  0.000000  0.000000      1.0\n"
     ]
    }
   ],
   "source": [
    "print(results.to_string())"
   ]
  },
  {
   "cell_type": "code",
   "execution_count": 13,
   "metadata": {},
   "outputs": [
    {
     "name": "stdout",
     "output_type": "stream",
     "text": [
      "Average precision: 0.5384877261394624\n",
      "Average recall: 0.7273914936855858\n",
      "Average F1: 0.6181199291127571\n"
     ]
    }
   ],
   "source": [
    "aver_prec = (supp*prec).sum()/supp.sum()\n",
    "aver_rec = (supp*rec).sum()/supp.sum()\n",
    "aver_f1 = (supp*f1).sum()/supp.sum()\n",
    "\n",
    "print('Average precision: {}\\nAverage recall: {}\\nAverage F1: {}'.format(aver_prec, aver_rec, aver_f1))"
   ]
  },
  {
   "cell_type": "code",
   "execution_count": null,
   "metadata": {},
   "outputs": [],
   "source": []
  }
 ],
 "metadata": {
  "kernelspec": {
   "display_name": "Python 3",
   "language": "python",
   "name": "python3"
  },
  "language_info": {
   "codemirror_mode": {
    "name": "ipython",
    "version": 3
   },
   "file_extension": ".py",
   "mimetype": "text/x-python",
   "name": "python",
   "nbconvert_exporter": "python",
   "pygments_lexer": "ipython3",
   "version": "3.8.5"
  }
 },
 "nbformat": 4,
 "nbformat_minor": 4
}
