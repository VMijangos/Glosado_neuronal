{
 "cells": [
  {
   "cell_type": "markdown",
   "metadata": {},
   "source": [
    "# Hidden Markov Model para glosado Otomi"
   ]
  },
  {
   "cell_type": "code",
   "execution_count": 1,
   "metadata": {},
   "outputs": [],
   "source": [
    "from nltk.tag import hmm\n",
    "from sklearn.model_selection import train_test_split\n",
    "from sklearn.metrics import accuracy_score, precision_recall_fscore_support\n",
    "from pickle import load\n",
    "from itertools import chain\n",
    "import pandas as pd\n",
    "import numpy as np"
   ]
  },
  {
   "cell_type": "code",
   "execution_count": 2,
   "metadata": {},
   "outputs": [
    {
     "name": "stdout",
     "output_type": "stream",
     "text": [
      "[[['n', 'v', 'B-psd'], ['d', 'v', 'B-1.cpl'], ['ó', 'v', 'I-1.cpl'], ['p', 'v', 'B-stem'], ['h', 'v', 'I-stem'], ['μ', 'v', 'I-stem'], ['d', 'v', 'I-stem'], ['i', 'v', 'I-stem']], [['d', 'v', 'B-1.cpl'], ['ó', 'v', 'I-1.cpl'], ['p', 'v', 'B-stem'], ['ε', 'v', 'I-stem'], ['p', 'v', 'I-stem'], ['h', 'v', 'I-stem'], ['í', 'v', 'I-stem']], [['b', 'v', 'B-3.cpl'], ['i', 'v', 'I-3.cpl'], ['t', 'v', 'B-lig'], [\"'\", 'v', 'B-stem'], ['μ', 'v', 'I-stem'], ['n', 'v', 'I-stem'], ['g', 'v', 'B-1.obj'], ['í', 'v', 'I-1.obj']], [['b', 'v', 'B-3.cpl'], ['i', 'v', 'I-3.cpl'], ['m', 'v', 'B-stem'], ['ä', 'v', 'I-stem'], ['h', 'v', 'I-stem'], ['t', 'v', 'I-stem'], ['r', 'v', 'I-stem'], ['a', 'v', 'I-stem'], ['t', 'v', 'I-stem'], ['á', 'v', 'I-stem'], ['g', 'v', 'B-1.obj'], ['í', 'v', 'I-1.obj']], [['k', 'obl', 'B-stem'], ['o', 'obl', 'I-stem']], [['c', 'obl', 'B-stem'], ['h', 'obl', 'I-stem'], ['í', 'obl', 'I-stem'], ['k', 'obl', 'I-stem'], ['ó', 'obl', 'I-stem'], ['h', 'obl', 'I-stem'], ['t', 'obl', 'I-stem'], ['é', 'obl', 'I-stem']]] 1786\n"
     ]
    }
   ],
   "source": [
    "file1 = load(open('pickle_objects/predata','rb'))\n",
    "print(file1[0], len(file1))"
   ]
  },
  {
   "cell_type": "code",
   "execution_count": 3,
   "metadata": {},
   "outputs": [],
   "source": [
    "data = []\n",
    "\n",
    "for s in file1:\n",
    "    sent_data = []\n",
    "    for w in s:\n",
    "        #print(w)\n",
    "        word = [(x[0], x[2]) for x in w] + [(' ', ' ')]\n",
    "        sent_data.append(word)\n",
    "    \n",
    "    one_sent = list(chain(*sent_data))\n",
    "    one_sent.pop(-1)\n",
    "    data.append(list(zip(*one_sent)))"
   ]
  },
  {
   "cell_type": "code",
   "execution_count": 4,
   "metadata": {},
   "outputs": [
    {
     "name": "stdout",
     "output_type": "stream",
     "text": [
      "1196 590\n"
     ]
    }
   ],
   "source": [
    "#Data split 33%\n",
    "train_pairs, eval_pairs = train_test_split(data, test_size=0.33)\n",
    "print(len(train_pairs), len(eval_pairs))\n",
    "\n",
    "#Separar el train en dos conjuntos\n",
    "train_set = [list(zip(s,t)) for s,t in train_pairs]"
   ]
  },
  {
   "cell_type": "markdown",
   "metadata": {},
   "source": [
    "### Entrenamiento del modelo"
   ]
  },
  {
   "cell_type": "code",
   "execution_count": 5,
   "metadata": {},
   "outputs": [
    {
     "name": "stdout",
     "output_type": "stream",
     "text": [
      "CPU times: user 48.8 ms, sys: 821 µs, total: 49.6 ms\n",
      "Wall time: 48.8 ms\n"
     ]
    }
   ],
   "source": [
    "%%time\n",
    "trainer = hmm.HiddenMarkovModelTrainer()\n",
    "tagger = trainer.train_supervised(train_set)"
   ]
  },
  {
   "cell_type": "markdown",
   "metadata": {},
   "source": [
    "### Evaluación"
   ]
  },
  {
   "cell_type": "code",
   "execution_count": 6,
   "metadata": {},
   "outputs": [],
   "source": [
    "y_pred = []\n",
    "y_true = []\n",
    "for sent in eval_pairs:\n",
    "    prediccion = tagger.tag(sent[0])\n",
    "    y_pred.append(prediccion)\n",
    "    y_true.append(sent[1])"
   ]
  },
  {
   "cell_type": "code",
   "execution_count": 7,
   "metadata": {},
   "outputs": [],
   "source": [
    "Y_true = list(chain(*y_true))\n",
    "Y_pred = list(chain(*y_pred))\n",
    "chars,Y_pred = zip(*Y_pred) \n",
    "Y_pred = list(Y_pred)"
   ]
  },
  {
   "cell_type": "code",
   "execution_count": 8,
   "metadata": {},
   "outputs": [
    {
     "name": "stdout",
     "output_type": "stream",
     "text": [
      "Accuracy: 0.8665164037064863\n"
     ]
    }
   ],
   "source": [
    "labels = list(set(Y_true))\n",
    "labels.remove(' ')\n",
    "\n",
    "print('Accuracy:', accuracy_score(Y_true, Y_pred))"
   ]
  },
  {
   "cell_type": "code",
   "execution_count": 9,
   "metadata": {},
   "outputs": [
    {
     "name": "stderr",
     "output_type": "stream",
     "text": [
      "/home/mijangos/.local/lib/python3.8/site-packages/sklearn/metrics/_classification.py:1221: UndefinedMetricWarning: Precision and F-score are ill-defined and being set to 0.0 in labels with no predicted samples. Use `zero_division` parameter to control this behavior.\n",
      "  _warn_prf(average, modifier, msg_start, len(result))\n"
     ]
    }
   ],
   "source": [
    "prec, rec, f1, supp = precision_recall_fscore_support(Y_true, Y_pred, labels=labels)"
   ]
  },
  {
   "cell_type": "code",
   "execution_count": 10,
   "metadata": {},
   "outputs": [
    {
     "data": {
      "text/html": [
       "<div>\n",
       "<style scoped>\n",
       "    .dataframe tbody tr th:only-of-type {\n",
       "        vertical-align: middle;\n",
       "    }\n",
       "\n",
       "    .dataframe tbody tr th {\n",
       "        vertical-align: top;\n",
       "    }\n",
       "\n",
       "    .dataframe thead th {\n",
       "        text-align: right;\n",
       "    }\n",
       "</style>\n",
       "<table border=\"1\" class=\"dataframe\">\n",
       "  <thead>\n",
       "    <tr style=\"text-align: right;\">\n",
       "      <th></th>\n",
       "      <th>Precision</th>\n",
       "      <th>Recall</th>\n",
       "      <th>F1</th>\n",
       "      <th>Support</th>\n",
       "    </tr>\n",
       "  </thead>\n",
       "  <tbody>\n",
       "    <tr>\n",
       "      <th>B-3.pss</th>\n",
       "      <td>0.000000</td>\n",
       "      <td>0.000000</td>\n",
       "      <td>0.000000</td>\n",
       "      <td>15.0</td>\n",
       "    </tr>\n",
       "    <tr>\n",
       "      <th>I-lig</th>\n",
       "      <td>0.000000</td>\n",
       "      <td>0.000000</td>\n",
       "      <td>0.000000</td>\n",
       "      <td>1.0</td>\n",
       "    </tr>\n",
       "    <tr>\n",
       "      <th>I-1.irr</th>\n",
       "      <td>0.000000</td>\n",
       "      <td>0.000000</td>\n",
       "      <td>0.000000</td>\n",
       "      <td>4.0</td>\n",
       "    </tr>\n",
       "    <tr>\n",
       "      <th>B-agujerear/v</th>\n",
       "      <td>1.000000</td>\n",
       "      <td>0.500000</td>\n",
       "      <td>0.666667</td>\n",
       "      <td>2.0</td>\n",
       "    </tr>\n",
       "    <tr>\n",
       "      <th>B-encl</th>\n",
       "      <td>0.000000</td>\n",
       "      <td>0.000000</td>\n",
       "      <td>0.000000</td>\n",
       "      <td>1.0</td>\n",
       "    </tr>\n",
       "    <tr>\n",
       "      <th>...</th>\n",
       "      <td>...</td>\n",
       "      <td>...</td>\n",
       "      <td>...</td>\n",
       "      <td>...</td>\n",
       "    </tr>\n",
       "    <tr>\n",
       "      <th>B-3.pss.pl</th>\n",
       "      <td>0.000000</td>\n",
       "      <td>0.000000</td>\n",
       "      <td>0.000000</td>\n",
       "      <td>1.0</td>\n",
       "    </tr>\n",
       "    <tr>\n",
       "      <th>I-stem</th>\n",
       "      <td>0.936846</td>\n",
       "      <td>0.833383</td>\n",
       "      <td>0.882091</td>\n",
       "      <td>6764.0</td>\n",
       "    </tr>\n",
       "    <tr>\n",
       "      <th>I-dual</th>\n",
       "      <td>0.777778</td>\n",
       "      <td>0.875000</td>\n",
       "      <td>0.823529</td>\n",
       "      <td>8.0</td>\n",
       "    </tr>\n",
       "    <tr>\n",
       "      <th>I-mod</th>\n",
       "      <td>0.178571</td>\n",
       "      <td>0.483871</td>\n",
       "      <td>0.260870</td>\n",
       "      <td>31.0</td>\n",
       "    </tr>\n",
       "    <tr>\n",
       "      <th>I-p.loc</th>\n",
       "      <td>1.000000</td>\n",
       "      <td>0.300000</td>\n",
       "      <td>0.461538</td>\n",
       "      <td>10.0</td>\n",
       "    </tr>\n",
       "  </tbody>\n",
       "</table>\n",
       "<p>168 rows × 4 columns</p>\n",
       "</div>"
      ],
      "text/plain": [
       "               Precision    Recall        F1  Support\n",
       "B-3.pss         0.000000  0.000000  0.000000     15.0\n",
       "I-lig           0.000000  0.000000  0.000000      1.0\n",
       "I-1.irr         0.000000  0.000000  0.000000      4.0\n",
       "B-agujerear/v   1.000000  0.500000  0.666667      2.0\n",
       "B-encl          0.000000  0.000000  0.000000      1.0\n",
       "...                  ...       ...       ...      ...\n",
       "B-3.pss.pl      0.000000  0.000000  0.000000      1.0\n",
       "I-stem          0.936846  0.833383  0.882091   6764.0\n",
       "I-dual          0.777778  0.875000  0.823529      8.0\n",
       "I-mod           0.178571  0.483871  0.260870     31.0\n",
       "I-p.loc         1.000000  0.300000  0.461538     10.0\n",
       "\n",
       "[168 rows x 4 columns]"
      ]
     },
     "execution_count": 10,
     "metadata": {},
     "output_type": "execute_result"
    }
   ],
   "source": [
    "results = pd.DataFrame(data=np.array([prec, rec, f1, supp]).T, index=labels, columns=['Precision','Recall','F1', 'Support'])\n",
    "results"
   ]
  },
  {
   "cell_type": "code",
   "execution_count": 11,
   "metadata": {},
   "outputs": [
    {
     "name": "stdout",
     "output_type": "stream",
     "text": [
      "                  Precision    Recall        F1  Support\n",
      "B-3.pss            0.000000  0.000000  0.000000     15.0\n",
      "I-lig              0.000000  0.000000  0.000000      1.0\n",
      "I-1.irr            0.000000  0.000000  0.000000      4.0\n",
      "B-agujerear/v      1.000000  0.500000  0.666667      2.0\n",
      "B-encl             0.000000  0.000000  0.000000      1.0\n",
      "I-muy              0.631579  0.800000  0.705882     30.0\n",
      "I-gen              0.272727  1.000000  0.428571      6.0\n",
      "B-mod              0.240000  0.300000  0.266667     20.0\n",
      "I-pl.exc           0.721649  0.958904  0.823529     73.0\n",
      "B-3.pot            0.974359  0.938272  0.955975     81.0\n",
      "B-lim              0.888000  0.948718  0.917355    117.0\n",
      "B-pues             1.000000  0.428571  0.600000      7.0\n",
      "B-1.cpl.irr        1.000000  0.750000  0.857143      4.0\n",
      "B-psd              0.945946  0.972222  0.958904    144.0\n",
      "B-2.pot            1.000000  1.000000  1.000000      3.0\n",
      "I-comp             0.000000  0.000000  0.000000      1.0\n",
      "I-1.pot            0.835443  0.985075  0.904110     67.0\n",
      "B-como             0.000000  0.000000  0.000000      1.0\n",
      "B-cond             0.000000  0.000000  0.000000      1.0\n",
      "I-2                0.428571  0.500000  0.461538      6.0\n",
      "B-1.obj            0.609375  0.906977  0.728972     43.0\n",
      "I-it               1.000000  0.800000  0.888889     20.0\n",
      "B-med              1.000000  0.909091  0.952381     11.0\n",
      "B-cuando           0.000000  0.000000  0.000000      1.0\n",
      "I-det.dem          0.000000  0.000000  0.000000      3.0\n",
      "I-3.imp            0.857143  0.923077  0.888889     13.0\n",
      "I-loc              0.851064  0.930233  0.888889     43.0\n",
      "B-com              1.000000  0.250000  0.400000      4.0\n",
      "I-dim              0.637168  0.878049  0.738462     82.0\n",
      "I-com              1.000000  0.250000  0.400000      4.0\n",
      "B-2.icp.irr        0.000000  0.000000  0.000000      1.0\n",
      "B-pl.exc           0.721649  0.958904  0.823529     73.0\n",
      "I-det              0.810606  0.926407  0.864646    231.0\n",
      "I-ctrf             0.783019  0.965116  0.864583     86.0\n",
      "I-lim              0.931915  0.956332  0.943966    229.0\n",
      "B-stem             0.911568  0.829338  0.868511   2461.0\n",
      "B-3.obj            0.470588  0.666667  0.551724     24.0\n",
      "B-1.icp            0.971429  0.990291  0.980769    103.0\n",
      "B-si               0.000000  0.000000  0.000000      1.0\n",
      "B-loc              0.833333  0.909091  0.869565     22.0\n",
      "B-pl               0.369048  0.939394  0.529915     33.0\n",
      "I-pueblo           0.000000  0.000000  0.000000      8.0\n",
      "I-prt              0.333333  0.071429  0.117647     28.0\n",
      "B-3.irr            0.000000  0.000000  0.000000      1.0\n",
      "I-2.pot            1.000000  1.000000  1.000000      3.0\n",
      "I-lugar/v          0.000000  0.000000  0.000000      4.0\n",
      "I-1.cnt            0.976744  0.875000  0.923077     48.0\n",
      "B-1.pss            0.805970  0.981818  0.885246     55.0\n",
      "B-prag             0.949580  0.949580  0.949580    119.0\n",
      "B-det.pl           0.946667  0.934211  0.940397     76.0\n",
      "B-por.que          0.000000  0.000000  0.000000      1.0\n",
      "B-uno              0.000000  0.000000  0.000000      1.0\n",
      "I-neg              0.333333  0.142857  0.200000      7.0\n",
      "B-mucho            0.000000  0.000000  0.000000      1.0\n",
      "I-3.icp            0.000000  0.000000  0.000000      5.0\n",
      "I-3.cpl            0.954839  0.980132  0.967320    151.0\n",
      "I-1.pss            0.805970  0.981818  0.885246     55.0\n",
      "B-1.icp.irr        1.000000  1.000000  1.000000      2.0\n",
      "B-dem              0.290323  0.794118  0.425197     68.0\n",
      "I-pues             1.000000  0.428571  0.600000      7.0\n",
      "B-muy              0.631579  0.800000  0.705882     15.0\n",
      "I-si               0.000000  0.000000  0.000000      1.0\n",
      "I-aum              0.625000  0.833333  0.714286     12.0\n",
      "B-gen              0.272727  1.000000  0.428571      3.0\n",
      "I-nom              0.000000  0.000000  0.000000      1.0\n",
      "I-1.prf            0.903226  0.933333  0.918033     30.0\n",
      "B-p.loc            1.000000  0.300000  0.461538     10.0\n",
      "B-1.irr            0.000000  0.000000  0.000000      2.0\n",
      "I-animal.de.dios   0.000000  0.000000  0.000000      4.0\n",
      "B-3.cpl.irr        0.000000  0.000000  0.000000      2.0\n",
      "I-3.pss            0.000000  0.000000  0.000000     15.0\n",
      "I-2.icp.irr        0.000000  0.000000  0.000000      2.0\n",
      "B-2.obj            0.666667  1.000000  0.800000      4.0\n",
      "B-que              0.000000  0.000000  0.000000      4.0\n",
      "I-ila              0.571429  0.926829  0.706977     82.0\n",
      "I-cuando           0.000000  0.000000  0.000000      1.0\n",
      "B-dual.exc         1.000000  0.761905  0.864865     21.0\n",
      "I-mucho            0.000000  0.000000  0.000000      3.0\n",
      "I-3.icp.irr        1.000000  0.888889  0.941176     18.0\n",
      "I-3.pot            0.974359  0.938272  0.955975     81.0\n",
      "I-1.pls            0.333333  1.000000  0.500000      2.0\n",
      "I-3.obj            0.470588  0.666667  0.551724     24.0\n",
      "B-hasta            0.000000  0.000000  0.000000      2.0\n",
      "I-como             0.000000  0.000000  0.000000      1.0\n",
      "I-1.icp            0.971429  0.990291  0.980769    103.0\n",
      "B-prt              0.400000  0.111111  0.173913     18.0\n",
      "I-2.icp            0.880000  1.000000  0.936170     22.0\n",
      "B-pueblo           0.000000  0.000000  0.000000      2.0\n",
      "I-2.cpl            0.666667  1.000000  0.800000      4.0\n",
      "I-2.cnt            0.666667  0.666667  0.666667      6.0\n",
      "I-2.pss            0.750000  0.818182  0.782609     11.0\n",
      "B-neg              0.500000  0.200000  0.285714      5.0\n",
      "B-aqui             1.000000  0.333333  0.500000      3.0\n",
      "I-que              0.000000  0.000000  0.000000      4.0\n",
      "B-animal.de.dios   0.000000  0.000000  0.000000      1.0\n",
      "I-3.prf            0.772727  0.850000  0.809524     20.0\n",
      "I-rapido           0.000000  0.000000  0.000000      1.0\n",
      "B-toluca           1.000000  0.750000  0.857143      4.0\n",
      "B-1.pot            0.835443  0.985075  0.904110     67.0\n",
      "B-it               1.000000  0.800000  0.888889     20.0\n",
      "I-mientras         0.000000  0.000000  0.000000      6.0\n",
      "B-mientras         0.000000  0.000000  0.000000      2.0\n",
      "B-3.cnt            0.682927  1.000000  0.811594     28.0\n",
      "I-1.enf            0.800000  1.000000  0.888889      4.0\n",
      "B-3.cpl            0.954839  0.980132  0.967320    151.0\n",
      "I-1.cpl.irr        1.000000  0.750000  0.857143      4.0\n",
      "B-ctrf             0.783019  0.965116  0.864583     86.0\n",
      "I-hasta            0.000000  0.000000  0.000000      2.0\n",
      "I-toluca           1.000000  0.750000  0.857143     24.0\n",
      "I-3.pls            0.894737  0.894737  0.894737     19.0\n",
      "B-dim              0.642857  0.878049  0.742268     41.0\n",
      "I-3.cnt            0.682927  1.000000  0.811594     28.0\n",
      "B-3.icp            0.927928  0.944954  0.936364    109.0\n",
      "B-loco             0.000000  0.000000  0.000000      1.0\n",
      "B-dual             0.777778  0.875000  0.823529      8.0\n",
      "B-lugar/v          0.000000  0.000000  0.000000      1.0\n",
      "B-2.prf            1.000000  0.600000  0.750000      5.0\n",
      "I-dual.exc         1.000000  0.761905  0.864865     21.0\n",
      "I-1.cpl            0.869565  0.983607  0.923077     61.0\n",
      "I-por.que          0.000000  0.000000  0.000000      1.0\n",
      "B-1.prf            0.277228  0.933333  0.427481     30.0\n",
      "I-3.cpl.irr        0.000000  0.000000  0.000000      4.0\n",
      "I-3.irr            0.000000  0.000000  0.000000      1.0\n",
      "B-2.cpl            0.666667  1.000000  0.800000      4.0\n",
      "B-2                0.428571  0.500000  0.461538      6.0\n",
      "B-y                0.250000  1.000000  0.400000      1.0\n",
      "I-loco             0.000000  0.000000  0.000000      3.0\n",
      "B-ila              0.584615  0.926829  0.716981     41.0\n",
      "B-nom              0.000000  0.000000  0.000000      1.0\n",
      "B-comp             0.000000  0.000000  0.000000      1.0\n",
      "I-int              0.000000  0.000000  0.000000      4.0\n",
      "B-1.enf            0.800000  1.000000  0.888889      4.0\n",
      "I-2.prf            1.000000  0.600000  0.750000      5.0\n",
      "B-2.icp            0.880000  1.000000  0.936170     22.0\n",
      "B-aum              0.714286  0.833333  0.769231      6.0\n",
      "I-agujerear/v      1.000000  0.500000  0.666667      6.0\n",
      "B-3.prf            0.772727  0.850000  0.809524     20.0\n",
      "B-3.icp.irr        1.000000  0.888889  0.941176     18.0\n",
      "B-1.cpl            0.869565  0.983607  0.923077     61.0\n",
      "I-det.pl           0.922078  0.887500  0.904459     80.0\n",
      "I-3.pss.pl         0.000000  0.000000  0.000000      1.0\n",
      "I-pl               0.369048  0.968750  0.534483     32.0\n",
      "I-encl             0.000000  0.000000  0.000000      1.0\n",
      "B-3.pls            0.894737  0.894737  0.894737     19.0\n",
      "B-1.cnt            1.000000  0.875000  0.933333     24.0\n",
      "I-uno              0.000000  0.000000  0.000000      1.0\n",
      "B-3.imp            0.857143  0.857143  0.857143      7.0\n",
      "B-det.dem          0.000000  0.000000  0.000000      1.0\n",
      "I-prag             0.949580  0.949580  0.949580    119.0\n",
      "B-det              0.810606  0.946903  0.873469    226.0\n",
      "I-1.icp.irr        1.000000  1.000000  1.000000      4.0\n",
      "B-2.cnt            0.666667  0.666667  0.666667      3.0\n",
      "I-2.obj            0.800000  1.000000  0.888889      8.0\n",
      "B-1.pls            0.333333  1.000000  0.500000      2.0\n",
      "B-2.pss            0.750000  0.818182  0.782609     11.0\n",
      "B-lig              0.571429  0.634146  0.601156     82.0\n",
      "B-rapido           0.000000  0.000000  0.000000      1.0\n",
      "I-1.obj            0.609375  0.906977  0.728972     43.0\n",
      "I-dem              0.244253  0.801887  0.374449    106.0\n",
      "I-aqui             1.000000  0.400000  0.571429      5.0\n",
      "B-conj.adv         0.000000  0.000000  0.000000      1.0\n",
      "B-int              0.000000  0.000000  0.000000      4.0\n",
      "I-cond             0.000000  0.000000  0.000000      1.0\n",
      "B-3.pss.pl         0.000000  0.000000  0.000000      1.0\n",
      "I-stem             0.936846  0.833383  0.882091   6764.0\n",
      "I-dual             0.777778  0.875000  0.823529      8.0\n",
      "I-mod              0.178571  0.483871  0.260870     31.0\n",
      "I-p.loc            1.000000  0.300000  0.461538     10.0\n"
     ]
    }
   ],
   "source": [
    "print(results.to_string())"
   ]
  },
  {
   "cell_type": "code",
   "execution_count": 12,
   "metadata": {},
   "outputs": [
    {
     "name": "stdout",
     "output_type": "stream",
     "text": [
      "Average precision: 0.8790951172003872\n",
      "Average recall: 0.845562087234197\n",
      "Average F1: 0.8545884747700223\n"
     ]
    }
   ],
   "source": [
    "aver_prec = (supp*prec).sum()/supp.sum()\n",
    "aver_rec = (supp*rec).sum()/supp.sum()\n",
    "aver_f1 = (supp*f1).sum()/supp.sum()\n",
    "\n",
    "print('Average precision: {}\\nAverage recall: {}\\nAverage F1: {}'.format(aver_prec, aver_rec, aver_f1))"
   ]
  },
  {
   "cell_type": "code",
   "execution_count": null,
   "metadata": {},
   "outputs": [],
   "source": []
  }
 ],
 "metadata": {
  "kernelspec": {
   "display_name": "Python 3",
   "language": "python",
   "name": "python3"
  },
  "language_info": {
   "codemirror_mode": {
    "name": "ipython",
    "version": 3
   },
   "file_extension": ".py",
   "mimetype": "text/x-python",
   "name": "python",
   "nbconvert_exporter": "python",
   "pygments_lexer": "ipython3",
   "version": "3.8.5"
  }
 },
 "nbformat": 4,
 "nbformat_minor": 4
}
