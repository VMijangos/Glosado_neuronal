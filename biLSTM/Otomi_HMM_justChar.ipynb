{
 "cells": [
  {
   "cell_type": "markdown",
   "metadata": {},
   "source": [
    "# Hidden Markov Model para glosado Otomi"
   ]
  },
  {
   "cell_type": "code",
   "execution_count": 1,
   "metadata": {},
   "outputs": [],
   "source": [
    "from nltk.tag import hmm\n",
    "from sklearn.model_selection import train_test_split\n",
    "from sklearn.metrics import accuracy_score, precision_recall_fscore_support\n",
    "from pickle import load\n",
    "from itertools import chain\n",
    "import pandas as pd\n",
    "import numpy as np"
   ]
  },
  {
   "cell_type": "code",
   "execution_count": 2,
   "metadata": {},
   "outputs": [
    {
     "name": "stdout",
     "output_type": "stream",
     "text": [
      "[[['n', 'v', 'B-psd'], ['d', 'v', 'B-1.cpl'], ['ó', 'v', 'I-1.cpl'], ['p', 'v', 'B-stem'], ['h', 'v', 'I-stem'], ['μ', 'v', 'I-stem'], ['d', 'v', 'I-stem'], ['i', 'v', 'I-stem']], [['d', 'v', 'B-1.cpl'], ['ó', 'v', 'I-1.cpl'], ['p', 'v', 'B-stem'], ['ε', 'v', 'I-stem'], ['p', 'v', 'I-stem'], ['h', 'v', 'I-stem'], ['í', 'v', 'I-stem']], [['b', 'v', 'B-3.cpl'], ['i', 'v', 'I-3.cpl'], ['t', 'v', 'B-lig'], [\"'\", 'v', 'B-stem'], ['μ', 'v', 'I-stem'], ['n', 'v', 'I-stem'], ['g', 'v', 'B-1.obj'], ['í', 'v', 'I-1.obj']], [['b', 'v', 'B-3.cpl'], ['i', 'v', 'I-3.cpl'], ['m', 'v', 'B-stem'], ['ä', 'v', 'I-stem'], ['h', 'v', 'I-stem'], ['t', 'v', 'I-stem'], ['r', 'v', 'I-stem'], ['a', 'v', 'I-stem'], ['t', 'v', 'I-stem'], ['á', 'v', 'I-stem'], ['g', 'v', 'B-1.obj'], ['í', 'v', 'I-1.obj']], [['k', 'obl', 'B-stem'], ['o', 'obl', 'I-stem']], [['c', 'obl', 'B-stem'], ['h', 'obl', 'I-stem'], ['í', 'obl', 'I-stem'], ['k', 'obl', 'I-stem'], ['ó', 'obl', 'I-stem'], ['h', 'obl', 'I-stem'], ['t', 'obl', 'I-stem'], ['é', 'obl', 'I-stem']]] 1786\n"
     ]
    }
   ],
   "source": [
    "file1 = load(open('pickle_objects/predata','rb'))\n",
    "print(file1[0], len(file1))"
   ]
  },
  {
   "cell_type": "code",
   "execution_count": 3,
   "metadata": {},
   "outputs": [],
   "source": [
    "data = []\n",
    "\n",
    "for s in file1:\n",
    "    sent_data = []\n",
    "    for w in s:\n",
    "        #print(w)\n",
    "        word = [(x[0], x[2]) for x in w] + [(' ', ' ')]\n",
    "        sent_data.append(word)\n",
    "    \n",
    "    one_sent = list(chain(*sent_data))\n",
    "    one_sent.pop(-1)\n",
    "    data.append(list(zip(*one_sent)))"
   ]
  },
  {
   "cell_type": "code",
   "execution_count": 4,
   "metadata": {},
   "outputs": [
    {
     "name": "stdout",
     "output_type": "stream",
     "text": [
      "1196 590\n"
     ]
    }
   ],
   "source": [
    "#Data split 33%\n",
    "train_pairs, eval_pairs = train_test_split(data, test_size=0.33)\n",
    "print(len(train_pairs), len(eval_pairs))\n",
    "\n",
    "#Separar el train en dos conjuntos\n",
    "train_set = [list(zip(s,t)) for s,t in train_pairs]"
   ]
  },
  {
   "cell_type": "markdown",
   "metadata": {},
   "source": [
    "### Entrenamiento del modelo"
   ]
  },
  {
   "cell_type": "code",
   "execution_count": 5,
   "metadata": {},
   "outputs": [],
   "source": [
    "%%time\n",
    "trainer = hmm.HiddenMarkovModelTrainer()\n",
    "tagger = trainer.train_supervised(train_set)"
   ]
  },
  {
   "cell_type": "markdown",
   "metadata": {},
   "source": [
    "### Evaluación"
   ]
  },
  {
   "cell_type": "code",
   "execution_count": 6,
   "metadata": {},
   "outputs": [],
   "source": [
    "y_pred = []\n",
    "y_true = []\n",
    "for sent in eval_pairs:\n",
    "    prediccion = tagger.tag(sent[0])\n",
    "    y_pred.append(prediccion)\n",
    "    y_true.append(sent[1])"
   ]
  },
  {
   "cell_type": "code",
   "execution_count": 7,
   "metadata": {},
   "outputs": [],
   "source": [
    "Y_true = list(chain(*y_true))\n",
    "Y_pred = list(chain(*y_pred))\n",
    "chars,Y_pred = zip(*Y_pred) \n",
    "Y_pred = list(Y_pred)"
   ]
  },
  {
   "cell_type": "code",
   "execution_count": 8,
   "metadata": {},
   "outputs": [
    {
     "name": "stdout",
     "output_type": "stream",
     "text": [
      "Accuracy: 0.8736585052374526\n"
     ]
    }
   ],
   "source": [
    "labels = list(set(Y_true))\n",
    "labels.remove(' ')\n",
    "\n",
    "print('Accuracy:', accuracy_score(Y_true, Y_pred))"
   ]
  },
  {
   "cell_type": "code",
   "execution_count": 9,
   "metadata": {},
   "outputs": [
    {
     "name": "stderr",
     "output_type": "stream",
     "text": [
      "/home/mijangos/.local/lib/python3.8/site-packages/sklearn/metrics/_classification.py:1221: UndefinedMetricWarning: Precision and F-score are ill-defined and being set to 0.0 in labels with no predicted samples. Use `zero_division` parameter to control this behavior.\n",
      "  _warn_prf(average, modifier, msg_start, len(result))\n"
     ]
    }
   ],
   "source": [
    "prec, rec, f1, supp = precision_recall_fscore_support(Y_true, Y_pred, labels=labels)"
   ]
  },
  {
   "cell_type": "code",
   "execution_count": 10,
   "metadata": {},
   "outputs": [
    {
     "data": {
      "text/html": [
       "<div>\n",
       "<style scoped>\n",
       "    .dataframe tbody tr th:only-of-type {\n",
       "        vertical-align: middle;\n",
       "    }\n",
       "\n",
       "    .dataframe tbody tr th {\n",
       "        vertical-align: top;\n",
       "    }\n",
       "\n",
       "    .dataframe thead th {\n",
       "        text-align: right;\n",
       "    }\n",
       "</style>\n",
       "<table border=\"1\" class=\"dataframe\">\n",
       "  <thead>\n",
       "    <tr style=\"text-align: right;\">\n",
       "      <th></th>\n",
       "      <th>Precision</th>\n",
       "      <th>Recall</th>\n",
       "      <th>F1</th>\n",
       "      <th>Support</th>\n",
       "    </tr>\n",
       "  </thead>\n",
       "  <tbody>\n",
       "    <tr>\n",
       "      <th>I-que</th>\n",
       "      <td>0.187500</td>\n",
       "      <td>0.750000</td>\n",
       "      <td>0.300000</td>\n",
       "      <td>4.0</td>\n",
       "    </tr>\n",
       "    <tr>\n",
       "      <th>I-uno</th>\n",
       "      <td>0.000000</td>\n",
       "      <td>0.000000</td>\n",
       "      <td>0.000000</td>\n",
       "      <td>1.0</td>\n",
       "    </tr>\n",
       "    <tr>\n",
       "      <th>B-dual</th>\n",
       "      <td>0.666667</td>\n",
       "      <td>1.000000</td>\n",
       "      <td>0.800000</td>\n",
       "      <td>6.0</td>\n",
       "    </tr>\n",
       "    <tr>\n",
       "      <th>B-dem</th>\n",
       "      <td>0.270833</td>\n",
       "      <td>0.881356</td>\n",
       "      <td>0.414343</td>\n",
       "      <td>59.0</td>\n",
       "    </tr>\n",
       "    <tr>\n",
       "      <th>B-por.que</th>\n",
       "      <td>0.000000</td>\n",
       "      <td>0.000000</td>\n",
       "      <td>0.000000</td>\n",
       "      <td>1.0</td>\n",
       "    </tr>\n",
       "    <tr>\n",
       "      <th>...</th>\n",
       "      <td>...</td>\n",
       "      <td>...</td>\n",
       "      <td>...</td>\n",
       "      <td>...</td>\n",
       "    </tr>\n",
       "    <tr>\n",
       "      <th>B-3.pss</th>\n",
       "      <td>0.000000</td>\n",
       "      <td>0.000000</td>\n",
       "      <td>0.000000</td>\n",
       "      <td>15.0</td>\n",
       "    </tr>\n",
       "    <tr>\n",
       "      <th>I-pl.exc</th>\n",
       "      <td>0.755814</td>\n",
       "      <td>0.902778</td>\n",
       "      <td>0.822785</td>\n",
       "      <td>72.0</td>\n",
       "    </tr>\n",
       "    <tr>\n",
       "      <th>B-coraje</th>\n",
       "      <td>0.000000</td>\n",
       "      <td>0.000000</td>\n",
       "      <td>0.000000</td>\n",
       "      <td>1.0</td>\n",
       "    </tr>\n",
       "    <tr>\n",
       "      <th>I-ila</th>\n",
       "      <td>0.683761</td>\n",
       "      <td>0.869565</td>\n",
       "      <td>0.765550</td>\n",
       "      <td>92.0</td>\n",
       "    </tr>\n",
       "    <tr>\n",
       "      <th>I-mientras</th>\n",
       "      <td>0.000000</td>\n",
       "      <td>0.000000</td>\n",
       "      <td>0.000000</td>\n",
       "      <td>3.0</td>\n",
       "    </tr>\n",
       "  </tbody>\n",
       "</table>\n",
       "<p>162 rows × 4 columns</p>\n",
       "</div>"
      ],
      "text/plain": [
       "            Precision    Recall        F1  Support\n",
       "I-que        0.187500  0.750000  0.300000      4.0\n",
       "I-uno        0.000000  0.000000  0.000000      1.0\n",
       "B-dual       0.666667  1.000000  0.800000      6.0\n",
       "B-dem        0.270833  0.881356  0.414343     59.0\n",
       "B-por.que    0.000000  0.000000  0.000000      1.0\n",
       "...               ...       ...       ...      ...\n",
       "B-3.pss      0.000000  0.000000  0.000000     15.0\n",
       "I-pl.exc     0.755814  0.902778  0.822785     72.0\n",
       "B-coraje     0.000000  0.000000  0.000000      1.0\n",
       "I-ila        0.683761  0.869565  0.765550     92.0\n",
       "I-mientras   0.000000  0.000000  0.000000      3.0\n",
       "\n",
       "[162 rows x 4 columns]"
      ]
     },
     "execution_count": 10,
     "metadata": {},
     "output_type": "execute_result"
    }
   ],
   "source": [
    "results = pd.DataFrame(data=np.array([prec, rec, f1, supp]).T, index=labels, columns=['Precision','Recall','F1', 'Support'])\n",
    "results"
   ]
  },
  {
   "cell_type": "code",
   "execution_count": 11,
   "metadata": {},
   "outputs": [
    {
     "name": "stdout",
     "output_type": "stream",
     "text": [
      "                  Precision    Recall        F1  Support\n",
      "I-que              0.187500  0.750000  0.300000      4.0\n",
      "I-uno              0.000000  0.000000  0.000000      1.0\n",
      "B-dual             0.666667  1.000000  0.800000      6.0\n",
      "B-dem              0.270833  0.881356  0.414343     59.0\n",
      "B-por.que          0.000000  0.000000  0.000000      1.0\n",
      "I-p.loc            1.000000  0.400000  0.571429      5.0\n",
      "I-con              0.000000  0.000000  0.000000      2.0\n",
      "I-1.pls            0.375000  0.750000  0.500000      4.0\n",
      "B-com              0.333333  1.000000  0.500000      1.0\n",
      "I-dual             0.666667  1.000000  0.800000      6.0\n",
      "B-3.pot            0.978022  0.978022  0.978022     91.0\n",
      "I-2.pot            1.000000  1.000000  1.000000      2.0\n",
      "I-2.cnt            1.000000  0.714286  0.833333     14.0\n",
      "I-toluca           1.000000  0.500000  0.666667     24.0\n",
      "B-3.obj            0.358974  0.823529  0.500000     17.0\n",
      "B-p.loc            1.000000  0.400000  0.571429      5.0\n",
      "B-dim              0.784314  0.869565  0.824742     46.0\n",
      "B-1.pss            0.812500  0.962963  0.881356     54.0\n",
      "B-chico            0.000000  0.000000  0.000000      1.0\n",
      "B-aqui             0.250000  0.500000  0.333333      2.0\n",
      "B-solo             0.000000  0.000000  0.000000      1.0\n",
      "B-3.pss.pl         0.000000  0.000000  0.000000      1.0\n",
      "I-1.prf            0.875000  0.965517  0.918033     29.0\n",
      "B-3.pls            0.600000  0.833333  0.697674     18.0\n",
      "B-2.pss            0.800000  0.888889  0.842105      9.0\n",
      "I-mod              0.088235  0.214286  0.125000     28.0\n",
      "B-aum              0.800000  1.000000  0.888889      4.0\n",
      "I-3.pss.pl         0.000000  0.000000  0.000000      1.0\n",
      "B-1.cnt            1.000000  1.000000  1.000000     22.0\n",
      "B-ila              0.727273  0.869565  0.792079     46.0\n",
      "B-3.prf            0.809524  0.894737  0.850000     19.0\n",
      "I-it               1.000000  1.000000  1.000000     10.0\n",
      "I-3.obj            0.358974  0.823529  0.500000     17.0\n",
      "I-1.obj            0.733333  0.897959  0.807339     49.0\n",
      "I-animal.de.dios   0.000000  0.000000  0.000000      4.0\n",
      "I-stem             0.941116  0.841699  0.888635   6475.0\n",
      "B-que              0.187500  0.750000  0.300000      4.0\n",
      "B-2.prf            0.250000  1.000000  0.400000      1.0\n",
      "B-1.icp            0.974684  0.962500  0.968553     80.0\n",
      "I-gen              0.222222  0.666667  0.333333      6.0\n",
      "I-det.pl           0.944444  0.913978  0.928962     93.0\n",
      "B-y                0.800000  1.000000  0.888889      4.0\n",
      "B-dios             0.000000  0.000000  0.000000      1.0\n",
      "I-1.cnt            0.977778  1.000000  0.988764     44.0\n",
      "B-1.irr            0.000000  0.000000  0.000000      2.0\n",
      "B-loc              1.000000  0.840000  0.913043     25.0\n",
      "B-toluca           1.000000  0.500000  0.666667      4.0\n",
      "B-1.enf            0.823529  0.875000  0.848485     16.0\n",
      "B-med              1.000000  1.000000  1.000000      5.0\n",
      "I-2.prf            0.250000  1.000000  0.400000      1.0\n",
      "B-mexico           1.000000  1.000000  1.000000      1.0\n",
      "B-det              0.802768  0.966667  0.877127    240.0\n",
      "B-2                0.666667  0.500000  0.571429      8.0\n",
      "I-1.enf            0.823529  0.875000  0.848485     16.0\n",
      "I-dem              0.219101  0.876404  0.350562     89.0\n",
      "B-lim              0.847458  0.943396  0.892857    106.0\n",
      "B-prag             0.959596  0.969388  0.964467     98.0\n",
      "I-2.pss            0.800000  0.888889  0.842105      9.0\n",
      "I-chente           0.000000  0.000000  0.000000      5.0\n",
      "I-ctrf             0.675214  0.987500  0.802030     80.0\n",
      "I-1.cpl.irr        1.000000  1.000000  1.000000      4.0\n",
      "B-1.pls            0.375000  0.750000  0.500000      4.0\n",
      "I-1.pss            0.812500  0.962963  0.881356     54.0\n",
      "B-mod              0.150000  0.142857  0.146341     21.0\n",
      "I-3.cpl            0.965035  1.000000  0.982206    138.0\n",
      "I-como             0.000000  0.000000  0.000000      1.0\n",
      "I-cuando           0.000000  0.000000  0.000000      1.0\n",
      "B-chente           0.000000  0.000000  0.000000      1.0\n",
      "B-3.icp            0.929204  0.945946  0.937500    111.0\n",
      "I-int              1.000000  0.125000  0.222222      8.0\n",
      "I-2                0.666667  0.500000  0.571429      8.0\n",
      "B-3.cnt            0.677419  0.954545  0.792453     22.0\n",
      "B-pl               0.414634  0.850000  0.557377     40.0\n",
      "B-2.obj            0.500000  1.000000  0.666667      2.0\n",
      "I-1.sg             0.000000  0.000000  0.000000      6.0\n",
      "B-2.icp            1.000000  1.000000  1.000000     22.0\n",
      "B-3.icp.irr        0.812500  0.928571  0.866667     14.0\n",
      "B-ctrf             0.675214  0.987500  0.802030     80.0\n",
      "B-1.sg             0.000000  0.000000  0.000000      2.0\n",
      "I-3.imp            0.823529  1.000000  0.903226     14.0\n",
      "B-prt              0.400000  0.100000  0.160000     20.0\n",
      "I-comp             0.000000  0.000000  0.000000      1.0\n",
      "I-spt              1.000000  1.000000  1.000000      1.0\n",
      "I-pl               0.414634  0.871795  0.561983     39.0\n",
      "B-1.icp.irr        0.200000  1.000000  0.333333      1.0\n",
      "B-mientras         0.000000  0.000000  0.000000      1.0\n",
      "I-3.prf            0.809524  0.894737  0.850000     19.0\n",
      "I-2.icp            1.000000  1.000000  1.000000     22.0\n",
      "B-dual.exc         0.944444  0.809524  0.871795     21.0\n",
      "I-aqui             0.285714  0.500000  0.363636      4.0\n",
      "B-mucho            0.000000  0.000000  0.000000      1.0\n",
      "B-3.cpl            0.965035  1.000000  0.982206    138.0\n",
      "B-comp             0.000000  0.000000  0.000000      1.0\n",
      "B-lig              0.686747  0.606383  0.644068     94.0\n",
      "I-3.icp            0.000000  0.000000  0.000000      3.0\n",
      "B-como             0.000000  0.000000  0.000000      1.0\n",
      "B-det.pl           0.944444  0.955056  0.949721     89.0\n",
      "I-1.cpl            0.852941  1.000000  0.920635     58.0\n",
      "B-lugar/v          0.000000  0.000000  0.000000      1.0\n",
      "B-2.icp.irr        0.000000  0.000000  0.000000      1.0\n",
      "I-muy              0.814815  0.916667  0.862745     48.0\n",
      "B-stem             0.907156  0.827344  0.865414   2421.0\n",
      "B-1.cpl.irr        1.000000  1.000000  1.000000      4.0\n",
      "B-spt              1.000000  1.000000  1.000000      1.0\n",
      "I-2.icp.irr        0.000000  0.000000  0.000000      2.0\n",
      "I-3.pls            0.600000  0.833333  0.697674     18.0\n",
      "B-neg              0.750000  0.500000  0.600000      6.0\n",
      "I-det              0.802768  0.954733  0.872180    243.0\n",
      "B-muy              0.814815  0.916667  0.862745     24.0\n",
      "I-1.icp.irr        0.250000  1.000000  0.400000      2.0\n",
      "I-mexico           1.000000  1.000000  1.000000      4.0\n",
      "I-lugar/v          0.000000  0.000000  0.000000      4.0\n",
      "I-1.icp            0.974684  0.962500  0.968553     80.0\n",
      "I-mucho            0.000000  0.000000  0.000000      3.0\n",
      "I-1.pot            0.836735  1.000000  0.911111     82.0\n",
      "B-uno              0.000000  0.000000  0.000000      1.0\n",
      "I-lim              0.916667  0.951923  0.933962    208.0\n",
      "B-con              0.000000  0.000000  0.000000      1.0\n",
      "B-2.cnt            1.000000  0.714286  0.833333      7.0\n",
      "B-3.imp            0.777778  1.000000  0.875000      7.0\n",
      "B-1.cpl            0.852941  1.000000  0.920635     58.0\n",
      "B-gen              0.222222  0.666667  0.333333      3.0\n",
      "I-neg              0.857143  0.545455  0.666667     11.0\n",
      "B-1.pot            0.836735  1.000000  0.911111     82.0\n",
      "I-solo             0.000000  0.000000  0.000000      2.0\n",
      "B-cuando           0.000000  0.000000  0.000000      1.0\n",
      "I-pues             1.000000  0.600000  0.750000      5.0\n",
      "I-dist             0.000000  0.000000  0.000000      1.0\n",
      "B-psd              0.931507  0.992701  0.961131    137.0\n",
      "I-dim              0.776699  0.869565  0.820513     92.0\n",
      "B-int              1.000000  0.142857  0.250000      7.0\n",
      "B-2.pot            1.000000  1.000000  1.000000      2.0\n",
      "I-dios             0.000000  0.000000  0.000000      2.0\n",
      "I-3.pot            0.978022  0.978022  0.978022     91.0\n",
      "I-aum              0.666667  1.000000  0.800000      8.0\n",
      "I-3.pss            0.000000  0.000000  0.000000     15.0\n",
      "B-dist             0.000000  0.000000  0.000000      1.0\n",
      "B-pues             1.000000  0.600000  0.750000      5.0\n",
      "B-1.obj            0.733333  0.897959  0.807339     49.0\n",
      "I-chico            0.000000  0.000000  0.000000      4.0\n",
      "B-animal.de.dios   0.000000  0.000000  0.000000      1.0\n",
      "I-3.icp.irr        0.812500  0.928571  0.866667     14.0\n",
      "I-por.que          0.000000  0.000000  0.000000      2.0\n",
      "B-2.cpl            0.800000  0.800000  0.800000      5.0\n",
      "B-pl.exc           0.755814  0.902778  0.822785     72.0\n",
      "I-2.obj            0.666667  1.000000  0.800000      4.0\n",
      "B-it               1.000000  1.000000  1.000000     10.0\n",
      "I-com              0.333333  1.000000  0.500000      1.0\n",
      "I-1.irr            0.000000  0.000000  0.000000      4.0\n",
      "I-prt              0.400000  0.058824  0.102564     34.0\n",
      "B-1.prf            0.875000  0.965517  0.918033     29.0\n",
      "I-loc              1.000000  0.875000  0.933333     48.0\n",
      "I-2.cpl            0.800000  0.800000  0.800000      5.0\n",
      "I-3.cnt            0.677419  0.954545  0.792453     22.0\n",
      "I-prag             0.959596  0.969388  0.964467     98.0\n",
      "I-dual.exc         0.944444  0.809524  0.871795     21.0\n",
      "I-coraje           0.000000  0.000000  0.000000      2.0\n",
      "B-3.pss            0.000000  0.000000  0.000000     15.0\n",
      "I-pl.exc           0.755814  0.902778  0.822785     72.0\n",
      "B-coraje           0.000000  0.000000  0.000000      1.0\n",
      "I-ila              0.683761  0.869565  0.765550     92.0\n",
      "I-mientras         0.000000  0.000000  0.000000      3.0\n"
     ]
    }
   ],
   "source": [
    "print(results.to_string())"
   ]
  },
  {
   "cell_type": "code",
   "execution_count": 12,
   "metadata": {},
   "outputs": [
    {
     "name": "stdout",
     "output_type": "stream",
     "text": [
      "Average precision: 0.8837040664882215\n",
      "Average recall: 0.8532356897324764\n",
      "Average F1: 0.8610291091440245\n"
     ]
    }
   ],
   "source": [
    "aver_prec = (supp*prec).sum()/supp.sum()\n",
    "aver_rec = (supp*rec).sum()/supp.sum()\n",
    "aver_f1 = (supp*f1).sum()/supp.sum()\n",
    "\n",
    "print('Average precision: {}\\nAverage recall: {}\\nAverage F1: {}'.format(aver_prec, aver_rec, aver_f1))"
   ]
  },
  {
   "cell_type": "code",
   "execution_count": null,
   "metadata": {},
   "outputs": [],
   "source": []
  }
 ],
 "metadata": {
  "kernelspec": {
   "display_name": "Python 3",
   "language": "python",
   "name": "python3"
  },
  "language_info": {
   "codemirror_mode": {
    "name": "ipython",
    "version": 3
   },
   "file_extension": ".py",
   "mimetype": "text/x-python",
   "name": "python",
   "nbconvert_exporter": "python",
   "pygments_lexer": "ipython3",
   "version": "3.8.5"
  }
 },
 "nbformat": 4,
 "nbformat_minor": 4
}
